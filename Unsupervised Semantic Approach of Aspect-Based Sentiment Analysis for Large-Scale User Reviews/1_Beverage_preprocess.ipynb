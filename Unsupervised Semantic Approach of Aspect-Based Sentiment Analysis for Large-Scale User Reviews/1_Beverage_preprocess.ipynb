{
 "cells": [
  {
   "cell_type": "code",
   "execution_count": 1,
   "metadata": {},
   "outputs": [],
   "source": [
    "import pandas as pd\n",
    "import numpy as np\n",
    "import matplotlib.pyplot as plt\n",
    "import seaborn as sns\n",
    "import time\n",
    "from tqdm.notebook import tqdm\n",
    "from ast import literal_eval\n",
    "import os\n",
    "import sys\n",
    "import pickle \n",
    "\n",
    "tqdm.pandas()"
   ]
  },
  {
   "cell_type": "markdown",
   "metadata": {},
   "source": [
    "# Load Data"
   ]
  },
  {
   "cell_type": "code",
   "execution_count": null,
   "metadata": {},
   "outputs": [],
   "source": [
    "review1 = pd.read_csv(\"review_data_first.csv\")\n",
    "review2 = pd.read_csv(\"review_data_second.csv\")\n",
    "review3 = pd.read_csv(\"review_data_third.csv\")\n",
    "review4 = pd.read_csv(\"review_data_fourth.csv\")\n",
    "review5 = pd.read_csv(\"review_data_fifth.csv\")\n",
    "review6 = pd.read_csv(\"review_data_sixth.csv\")"
   ]
  },
  {
   "cell_type": "code",
   "execution_count": null,
   "metadata": {},
   "outputs": [],
   "source": [
    "review_final = pd.concat([review1,review2,review3,review4,review5,review6]).reset_index(drop=True)\n",
    "review_final = review_final.drop_duplicates(keep=\"first\").reset_index(drop=True)"
   ]
  },
  {
   "cell_type": "markdown",
   "metadata": {},
   "source": [
    "# 리뷰 데이터 전처리 전 EDA"
   ]
  },
  {
   "cell_type": "code",
   "execution_count": null,
   "metadata": {},
   "outputs": [],
   "source": [
    "review_final.head(10)"
   ]
  },
  {
   "cell_type": "code",
   "execution_count": null,
   "metadata": {},
   "outputs": [],
   "source": [
    "review_final.info()"
   ]
  },
  {
   "cell_type": "code",
   "execution_count": null,
   "metadata": {},
   "outputs": [],
   "source": [
    "for i in range(1,6):\n",
    "    print(\"rated %d : %.2f %% (%d)\" %(i, len(review_final[review_final[\"rating\"]==i])/len(review_final) * 100,\n",
    "                                     len(review_final[review_final[\"rating\"]==i])))\n",
    "print(\"total ratings : %d\" %len(review_final))\n",
    "\n",
    "plt.xticks(range(1,10))\n",
    "sns.histplot(review_final[\"rating\"])\n",
    "plt.figure()"
   ]
  },
  {
   "cell_type": "code",
   "execution_count": null,
   "metadata": {},
   "outputs": [],
   "source": [
    "pd.set_option(\"max_rows\",None)\n",
    "review_final.loc[100000:100100,\"review_text\"]"
   ]
  },
  {
   "cell_type": "code",
   "execution_count": null,
   "metadata": {},
   "outputs": [],
   "source": [
    "# Preprocess columns except review text\n",
    "review = review_final.copy()\n",
    "review[\"name\"]=review_final[\"category\"].str.split(\"\\n\").apply(lambda x : x[-1])\n",
    "review = review.drop([\"category\", \"price\"], axis=1)\n",
    "review"
   ]
  },
  {
   "cell_type": "markdown",
   "metadata": {},
   "source": [
    "# Data Cleaning"
   ]
  },
  {
   "cell_type": "markdown",
   "metadata": {},
   "source": [
    "# Separate Sentences"
   ]
  },
  {
   "cell_type": "code",
   "execution_count": null,
   "metadata": {},
   "outputs": [],
   "source": [
    "!pip install kss"
   ]
  },
  {
   "cell_type": "code",
   "execution_count": null,
   "metadata": {},
   "outputs": [],
   "source": [
    "import re\n",
    "import kss\n",
    "import string"
   ]
  },
  {
   "cell_type": "code",
   "execution_count": null,
   "metadata": {},
   "outputs": [],
   "source": [
    "review[\"review_text\"] = review[\"review_text\"].apply(lambda x : kss.split_sentences(x))"
   ]
  },
  {
   "cell_type": "markdown",
   "metadata": {},
   "source": [
    "## Clean Data"
   ]
  },
  {
   "cell_type": "code",
   "execution_count": null,
   "metadata": {},
   "outputs": [],
   "source": [
    "# 각 문장 Data Cleaning (URL, HTML, emoji, punctuation)\n",
    "def clean_text(texts):\n",
    "  cleaned_text = []\n",
    "  for text in texts:\n",
    "    # remove URL\n",
    "    url = re.compile(r'https?://\\S+|www\\.\\S+')\n",
    "    text = url.sub(r'',text)\n",
    "    # remove HTML\n",
    "    html=re.compile(r'<.*?>')\n",
    "    text = html.sub(r'',text)\n",
    "    # remove emoji\n",
    "    emoji_pattern = re.compile(\"[\"\n",
    "            u\"\\U0001F600-\\U0001F64F\"  # emoticons\n",
    "            u\"\\U0001F300-\\U0001F5FF\"  # symbols & pictographs\n",
    "            u\"\\U0001F680-\\U0001F6FF\"  # transport & map symbols\n",
    "            u\"\\U0001F1E0-\\U0001F1FF\"  # flags (iOS)\n",
    "                               \"]+\", flags=re.UNICODE)\n",
    "    text = emoji_pattern.sub(r'', text)\n",
    "    # remove punctuation\n",
    "    table = str.maketrans('','',string.punctuation)\n",
    "    text = text.translate(table)\n",
    "    # remove special tokens\n",
    "    special_token = re.compile(r'[^\\w]')\n",
    "    text = special_token.sub(r' ', text)\n",
    "    cleaned_text.append(text)\n",
    "  return cleaned_text"
   ]
  },
  {
   "cell_type": "code",
   "execution_count": null,
   "metadata": {},
   "outputs": [],
   "source": [
    "# Apply data cleaning\n",
    "review[\"review_text\"] = review[\"review_text\"].apply(lambda x : clean_text(x))"
   ]
  },
  {
   "cell_type": "markdown",
   "metadata": {},
   "source": [
    "## 띄어쓰기"
   ]
  },
  {
   "cell_type": "code",
   "execution_count": null,
   "metadata": {},
   "outputs": [],
   "source": [
    "!pip install git+https://github.com/haven-jeon/PyKoSpacing.git"
   ]
  },
  {
   "cell_type": "code",
   "execution_count": null,
   "metadata": {},
   "outputs": [],
   "source": [
    "from pykospacing import Spacing\n",
    "# Text 모든 공백 제거\n",
    "review[\"review_text\"] = review[\"review_text\"].str.replace(\" \",\"\")\n",
    "\n",
    "# 빠른 처리를 위해 문장 합치기 \".\"으로 나중에 구분\n",
    "review[\"review_text\"] =  review[\"review_text\"].progress_apply(lambda x : \".\".join(x))\n",
    "\n",
    "# null 데이터 삭제\n",
    "review = review.dropna().reset_index(drop=True)"
   ]
  },
  {
   "cell_type": "code",
   "execution_count": null,
   "metadata": {},
   "outputs": [],
   "source": [
    "# 띄어쓰기 적용\n",
    "spacing = Spacing()\n",
    "review[\"review_text\"] = review[\"review_text\"].progress_apply(lambda x : spacing(x))\n",
    "review[\"review_text\"][:10]"
   ]
  },
  {
   "cell_type": "markdown",
   "metadata": {},
   "source": [
    "## 맞춤법 교정"
   ]
  },
  {
   "cell_type": "code",
   "execution_count": null,
   "metadata": {},
   "outputs": [],
   "source": [
    "!pip install requests"
   ]
  },
  {
   "cell_type": "code",
   "execution_count": null,
   "metadata": {},
   "outputs": [],
   "source": [
    "from hanspell import spell_checker"
   ]
  },
  {
   "cell_type": "code",
   "execution_count": null,
   "metadata": {},
   "outputs": [],
   "source": [
    "def spell_check(x):\n",
    "    try:\n",
    "        return spell_checker.check(x[\"review_text\"]).checked\n",
    "    except:\n",
    "        print(\"error occured at {}\".format(x.name))\n",
    "        time.sleep(60)\n",
    "        return \"error\""
   ]
  },
  {
   "cell_type": "code",
   "execution_count": null,
   "metadata": {},
   "outputs": [],
   "source": [
    "review[25:29].apply(lambda x : spell_check(x), axis=1)"
   ]
  },
  {
   "cell_type": "code",
   "execution_count": null,
   "metadata": {},
   "outputs": [],
   "source": [
    "# 3만개씩 나누어서 진행 -> Disconnetction error 발생\n",
    "for i in range(len(review) // 30000 + 1):\n",
    "    if i == 9:\n",
    "        review[30000*i:].to_csv(\"review_cleaned_{}.csv\".format(i), index=False)\n",
    "    else:\n",
    "        review[30000*i:30000*(i+1)].to_csv(\"review_cleaned_{}.csv\".format(i), index=False)"
   ]
  },
  {
   "cell_type": "code",
   "execution_count": null,
   "metadata": {},
   "outputs": [],
   "source": [
    "# for i in range(5, len(review) // 30000 + 1):\n",
    "#     review_section = pd.read_csv(\"review_cleaned_{}.csv\".format(i))\n",
    "#     review_section[\"review_text\"] = review_section.progress_apply(lambda x: spell_check(x), axis=1)\n",
    "#     review_section.to_csv(\"review_cleaned_finished_{}.csv\".format(i), index=False)\n",
    "#     print(\"{}th process succeed\".format(i))\n",
    "#     time.sleep(60)"
   ]
  },
  {
   "cell_type": "code",
   "execution_count": null,
   "metadata": {},
   "outputs": [],
   "source": [
    "# 맞춤법 확인한 데이터 합치기\n",
    "review_spell_checked = pd.read_csv(\"review_cleaned_finished_0.csv\")\n",
    "for i in range(1, len(review) // 30000 + 1):\n",
    "    review_temp = pd.read_csv(\"review_cleaned_finished_{}.csv\".format(i))\n",
    "    review_spell_checked = pd.concat([review_spell_checked, review_temp]).reset_index(drop=True)"
   ]
  },
  {
   "cell_type": "code",
   "execution_count": null,
   "metadata": {},
   "outputs": [],
   "source": [
    "# Null 값 error로 변경\n",
    "review_spell_checked[\"review_text\"] = review_spell_checked[\"review_text\"].fillna(\"error\")\n",
    "\n",
    "# Error 발생한 데이터 다시 맞춤법 검사\n",
    "error_index = review_spell_checked[review_spell_checked[\"review_text\"] == \"error\"].index\n",
    "review_spell_checked.loc[error_index, \"review_text\"] = review.loc[error_index,:].progress_apply(lambda x: spell_check(x), axis=1)"
   ]
  },
  {
   "cell_type": "code",
   "execution_count": null,
   "metadata": {},
   "outputs": [],
   "source": [
    "review_spell_checked[review_spell_checked[\"review_text\"] == \"error\"]"
   ]
  },
  {
   "cell_type": "code",
   "execution_count": null,
   "metadata": {},
   "outputs": [],
   "source": [
    "# 각 문장 Data Cleaning (URL, HTML, emoji, punctuation)\n",
    "import re\n",
    "import string\n",
    "\n",
    "def clean_text(text):\n",
    "    # remove URL\n",
    "    url = re.compile(r'https?://\\S+|www\\.\\S+')\n",
    "    text = url.sub(r'',text)\n",
    "    # remove HTML\n",
    "    html=re.compile(r'<.*?>')\n",
    "    text = html.sub(r'',text)\n",
    "    # remove emoji\n",
    "    emoji_pattern = re.compile(\"[\"\n",
    "            u\"\\U0001F600-\\U0001F64F\"  # emoticons\n",
    "            u\"\\U0001F300-\\U0001F5FF\"  # symbols & pictographs\n",
    "            u\"\\U0001F680-\\U0001F6FF\"  # transport & map symbols\n",
    "            u\"\\U0001F1E0-\\U0001F1FF\"  # flags (iOS)\n",
    "                               \"]+\", flags=re.UNICODE)\n",
    "    text = emoji_pattern.sub(r'', text)\n",
    "    # remove punctuation\n",
    "    table = str.maketrans('','',string.punctuation)\n",
    "    text = text.translate(table)\n",
    "    # remove special tokens\n",
    "    special_token = re.compile(r'[^\\w]')\n",
    "    text = special_token.sub(r' ', text)\n",
    "    return text.strip()"
   ]
  },
  {
   "cell_type": "code",
   "execution_count": null,
   "metadata": {},
   "outputs": [],
   "source": [
    "# 맞춤법 검사 Error 발생한 데이터 삭제\n",
    "review_spell_checked = review_spell_checked.drop(review_spell_checked[review_spell_checked[\"review_text\"] == \"error\"].index, axis=0).reset_index(drop=True)\n",
    "# 특수 문자 제거\n",
    "review_spell_checked[\"review_text\"] = review_spell_checked[\"review_text\"].progress_apply(lambda x: clean_text(x))"
   ]
  },
  {
   "cell_type": "markdown",
   "metadata": {},
   "source": [
    "## Normalize\n",
    "\n",
    "repeat_normalize : 반복되는 것 정제\n",
    "emoticon_normalize : 자음/모음의 이모티콘이 만나는 점에서 완전 한글이 만들어지는 경우 정제"
   ]
  },
  {
   "cell_type": "code",
   "execution_count": null,
   "metadata": {},
   "outputs": [],
   "source": [
    "!pip install soynlp"
   ]
  },
  {
   "cell_type": "code",
   "execution_count": null,
   "metadata": {},
   "outputs": [],
   "source": [
    "from soynlp.normalizer import *\n",
    "emoticon_normalize('할머니 댁에 하나 집에 하나시켰어요. 덕분에 이쁜 손녀 이쁜 딸 됬네요 ㅎㅎ.', num_repeats=1)"
   ]
  },
  {
   "cell_type": "code",
   "execution_count": null,
   "metadata": {},
   "outputs": [],
   "source": [
    "review_spell_checked[\"review_text\"] = review_spell_checked[\"review_text\"].progress_apply(lambda x : repeat_normalize(x, num_repeats=2))\n",
    "review_spell_checked[\"review_text\"] = review_spell_checked[\"review_text\"].progress_apply(lambda x : emoticon_normalize(x, num_repeats=2))"
   ]
  },
  {
   "cell_type": "code",
   "execution_count": 2,
   "metadata": {},
   "outputs": [
    {
     "ename": "NameError",
     "evalue": "name 'review_spell_checked' is not defined",
     "output_type": "error",
     "traceback": [
      "\u001b[0;31m---------------------------------------------------------------------------\u001b[0m",
      "\u001b[0;31mNameError\u001b[0m                                 Traceback (most recent call last)",
      "\u001b[0;32m<ipython-input-2-b8815d8dc18c>\u001b[0m in \u001b[0;36m<module>\u001b[0;34m\u001b[0m\n\u001b[1;32m      1\u001b[0m \u001b[0;31m# 전처리 완료한 데이터 저장\u001b[0m\u001b[0;34m\u001b[0m\u001b[0;34m\u001b[0m\u001b[0;34m\u001b[0m\u001b[0m\n\u001b[0;32m----> 2\u001b[0;31m \u001b[0mreview_spell_checked\u001b[0m\u001b[0;34m.\u001b[0m\u001b[0mto_csv\u001b[0m\u001b[0;34m(\u001b[0m\u001b[0;34m\"review_spell_checked.csv\"\u001b[0m\u001b[0;34m,\u001b[0m \u001b[0mindex\u001b[0m\u001b[0;34m=\u001b[0m\u001b[0;32mFalse\u001b[0m\u001b[0;34m)\u001b[0m\u001b[0;34m\u001b[0m\u001b[0;34m\u001b[0m\u001b[0m\n\u001b[0m",
      "\u001b[0;31mNameError\u001b[0m: name 'review_spell_checked' is not defined"
     ]
    }
   ],
   "source": [
    "# 전처리 완료한 데이터 저장\n",
    "review_spell_checked.to_csv(\"review_spell_checked.csv\", index=False)"
   ]
  },
  {
   "cell_type": "markdown",
   "metadata": {},
   "source": [
    "## 형태소 분석 및 품사 태깅(Pos Tag)\n",
    "\n",
    "### 1.형태소 분석을 기반으로 한 명사 추출 \n",
    "\n",
    "### 2.구문분석을 기반으로 관형사의 수식을 받는 명사 추출\n",
    "\n",
    "### 3. 구문분석을 기반으로 부사의 수식을 받는 단어 추출 "
   ]
  },
  {
   "cell_type": "markdown",
   "metadata": {},
   "source": [
    "## Koalanlp 활용"
   ]
  },
  {
   "cell_type": "code",
   "execution_count": 3,
   "metadata": {},
   "outputs": [],
   "source": [
    "# 전처리 완료한 데이터 불러오기\n",
    "review_spell_checked = pd.read_csv(\"review_spell_checked.csv\").dropna().reset_index(drop=True)"
   ]
  },
  {
   "cell_type": "code",
   "execution_count": 4,
   "metadata": {},
   "outputs": [
    {
     "name": "stderr",
     "output_type": "stream",
     "text": [
      "[koalanlp.jip] [INFO] Latest version of kr.bydelta:koalanlp-eunjeon (2.1.6) will be used.\n",
      "[koalanlp.jip] [INFO] Latest version of kr.bydelta:koalanlp-kmr (2.1.4) will be used.\n",
      "[koalanlp.jip] [INFO] Latest version of kr.bydelta:koalanlp-kkma (2.1.4) will be used.\n",
      "[koalanlp.jip] [INFO] Latest version of kr.bydelta:koalanlp-hnn (2.1.4) will be used.\n",
      "[root] Java gateway started with port number 35289\n",
      "[root] Callback server will use port number 25334\n",
      "[koalanlp.jip] JVM initialization procedure is completed.\n"
     ]
    }
   ],
   "source": [
    "from koalanlp.Util import initialize, finalize\n",
    "\n",
    "# 꼬꼬마와 ETRI 분석기의 2.0.4 버전을 참조합니다.\n",
    "initialize(java_options=\"-Xmx4g\", EUNJEON=\"latest\", KMR=\"latest\", KKMA=\"latest\", HNN=\"latest\")"
   ]
  },
  {
   "cell_type": "code",
   "execution_count": 5,
   "metadata": {},
   "outputs": [],
   "source": [
    "from koalanlp import API\n",
    "from koalanlp.proc import Parser\n",
    "from koalanlp.proc import Tagger\n",
    "from koalanlp.types import PhraseTag"
   ]
  },
  {
   "cell_type": "code",
   "execution_count": 6,
   "metadata": {},
   "outputs": [
    {
     "name": "stdout",
     "output_type": "stream",
     "text": [
      "noun_block_dict : {}\n",
      "aspect_block_dict : {}\n"
     ]
    }
   ],
   "source": [
    "# review : each review row as an input\n",
    "review_df = review_spell_checked.copy() # before starting a function copy the data\n",
    "noun_block_dict = {} # key : word, value : [total_freq, mod_freq]\n",
    "aspect_block_dict = {} # key : word, value : [total_freq]\n",
    "key_tags =  [\"NNG\", \"NNP\",\"VV\", \"VA\", \"XR\"] # only consider these tags\n",
    "mecab_tagger = Tagger(API.EUNJEON)\n",
    "kkma_parser = Parser(API.KKMA)\n",
    "\n",
    "print(\"noun_block_dict :\", noun_block_dict)\n",
    "print(\"aspect_block_dict :\", aspect_block_dict)"
   ]
  },
  {
   "cell_type": "code",
   "execution_count": 7,
   "metadata": {},
   "outputs": [
    {
     "name": "stdout",
     "output_type": "stream",
     "text": [
      "[역시 나 만족하는 막걸리]\n",
      "[나 = 나/NP, 막걸리 = 막걸리/NNG]\n"
     ]
    }
   ],
   "source": [
    "sample_sentence = review_spell_checked.loc[1000, \"review_text\"]\n",
    "print(kkma_parser(mecab_tagger(sample_sentence)))\n",
    "print(mecab_tagger(sample_sentence)[0].getNouns())"
   ]
  },
  {
   "cell_type": "code",
   "execution_count": 8,
   "metadata": {},
   "outputs": [
    {
     "name": "stdout",
     "output_type": "stream",
     "text": [
      "noun_block_dict : {}\n",
      "aspect_block_dict : {}\n"
     ]
    },
    {
     "data": {
      "text/html": [
       "<div>\n",
       "<style scoped>\n",
       "    .dataframe tbody tr th:only-of-type {\n",
       "        vertical-align: middle;\n",
       "    }\n",
       "\n",
       "    .dataframe tbody tr th {\n",
       "        vertical-align: top;\n",
       "    }\n",
       "\n",
       "    .dataframe thead th {\n",
       "        text-align: right;\n",
       "    }\n",
       "</style>\n",
       "<table border=\"1\" class=\"dataframe\">\n",
       "  <thead>\n",
       "    <tr style=\"text-align: right;\">\n",
       "      <th></th>\n",
       "      <th>name</th>\n",
       "      <th>rating</th>\n",
       "      <th>review_text</th>\n",
       "    </tr>\n",
       "  </thead>\n",
       "  <tbody>\n",
       "    <tr>\n",
       "      <th>0</th>\n",
       "      <td>복순도가</td>\n",
       "      <td>5.0</td>\n",
       "      <td>한 달 사용기 부모님과 한잔하면서 좋은 시간 보냈어요 부모님 댁으로 바로 배송했더니...</td>\n",
       "    </tr>\n",
       "    <tr>\n",
       "      <th>1</th>\n",
       "      <td>복순도가</td>\n",
       "      <td>5.0</td>\n",
       "      <td>막걸리 좋아하시는 어른께 명절 선물로 보내드렸습니다 명절에다 모여서 드시라고 3병 ...</td>\n",
       "    </tr>\n",
       "    <tr>\n",
       "      <th>2</th>\n",
       "      <td>복순도가</td>\n",
       "      <td>5.0</td>\n",
       "      <td>할머니 댁에 하나 집에 하나 시켰어요 덕분에 이쁜 손녀 이쁜 딸 됐네요 ㅎㅎ 개인적...</td>\n",
       "    </tr>\n",
       "    <tr>\n",
       "      <th>3</th>\n",
       "      <td>복순도가</td>\n",
       "      <td>5.0</td>\n",
       "      <td>설날과 집안 행사를 핑계로 구매했습니다 병 딸 때 조심해야 하는 건 원래 알고 있어...</td>\n",
       "    </tr>\n",
       "    <tr>\n",
       "      <th>4</th>\n",
       "      <td>복순도가</td>\n",
       "      <td>5.0</td>\n",
       "      <td>제가 술은 따로 즐겨 먹진 않는데 이상하게 막걸리는 한두 잔 정도 마십니다 ㅎㅎ론 ...</td>\n",
       "    </tr>\n",
       "    <tr>\n",
       "      <th>...</th>\n",
       "      <td>...</td>\n",
       "      <td>...</td>\n",
       "      <td>...</td>\n",
       "    </tr>\n",
       "    <tr>\n",
       "      <th>279406</th>\n",
       "      <td>맑은내일</td>\n",
       "      <td>5.0</td>\n",
       "      <td>배송도 빨랐고 맛도 있어요</td>\n",
       "    </tr>\n",
       "    <tr>\n",
       "      <th>279407</th>\n",
       "      <td>맑은내일</td>\n",
       "      <td>5.0</td>\n",
       "      <td>귀여워요 미니 미니 한 게</td>\n",
       "    </tr>\n",
       "    <tr>\n",
       "      <th>279408</th>\n",
       "      <td>맑은내일</td>\n",
       "      <td>5.0</td>\n",
       "      <td>선물용으로 샀는데 만족합니다</td>\n",
       "    </tr>\n",
       "    <tr>\n",
       "      <th>279409</th>\n",
       "      <td>맑은내일</td>\n",
       "      <td>4.0</td>\n",
       "      <td>달지 않고 부드러워 마시기 적당했어요</td>\n",
       "    </tr>\n",
       "    <tr>\n",
       "      <th>279410</th>\n",
       "      <td>맑은내일</td>\n",
       "      <td>5.0</td>\n",
       "      <td>배송도 빠르고 포장도 꼼꼼하게 보내주셨습니다 감사합니다 많이 파셔요 ㅎㅎ장 정말 굳...</td>\n",
       "    </tr>\n",
       "  </tbody>\n",
       "</table>\n",
       "<p>279411 rows × 3 columns</p>\n",
       "</div>"
      ],
      "text/plain": [
       "        name  rating                                        review_text\n",
       "0       복순도가     5.0  한 달 사용기 부모님과 한잔하면서 좋은 시간 보냈어요 부모님 댁으로 바로 배송했더니...\n",
       "1       복순도가     5.0  막걸리 좋아하시는 어른께 명절 선물로 보내드렸습니다 명절에다 모여서 드시라고 3병 ...\n",
       "2       복순도가     5.0  할머니 댁에 하나 집에 하나 시켰어요 덕분에 이쁜 손녀 이쁜 딸 됐네요 ㅎㅎ 개인적...\n",
       "3       복순도가     5.0  설날과 집안 행사를 핑계로 구매했습니다 병 딸 때 조심해야 하는 건 원래 알고 있어...\n",
       "4       복순도가     5.0  제가 술은 따로 즐겨 먹진 않는데 이상하게 막걸리는 한두 잔 정도 마십니다 ㅎㅎ론 ...\n",
       "...      ...     ...                                                ...\n",
       "279406  맑은내일     5.0                                     배송도 빨랐고 맛도 있어요\n",
       "279407  맑은내일     5.0                                     귀여워요 미니 미니 한 게\n",
       "279408  맑은내일     5.0                                    선물용으로 샀는데 만족합니다\n",
       "279409  맑은내일     4.0                               달지 않고 부드러워 마시기 적당했어요\n",
       "279410  맑은내일     5.0  배송도 빠르고 포장도 꼼꼼하게 보내주셨습니다 감사합니다 많이 파셔요 ㅎㅎ장 정말 굳...\n",
       "\n",
       "[279411 rows x 3 columns]"
      ]
     },
     "execution_count": 8,
     "metadata": {},
     "output_type": "execute_result"
    }
   ],
   "source": [
    "print(\"noun_block_dict :\",noun_block_dict)\n",
    "print(\"aspect_block_dict :\",aspect_block_dict)\n",
    "review_df"
   ]
  },
  {
   "cell_type": "code",
   "execution_count": 9,
   "metadata": {},
   "outputs": [],
   "source": [
    "def get_aspects(review, noun_dict, aspect_dict, key_tags, tagger, parser):\n",
    "    try:\n",
    "        # for each row\n",
    "        candidate_dictionary = {} # for saving ids for candidates\n",
    "        tagged_review = tagger(review)\n",
    "        parsed_review = parser(tagged_review)\n",
    "        nouns = parsed_review[0].getNouns() # extract 어절 used as noun\n",
    "        modifiers = parsed_review[0].getModifiers() # extract 어절 used as modifiers\n",
    "        # extract key morphs from each noun phrase (1), (2)\n",
    "        for noun in nouns:\n",
    "            extracted_noun = \"\"\n",
    "            for morph in noun.morphemes:\n",
    "                # extract just key_tags\n",
    "                if morph.tag in key_tags:\n",
    "                    extracted_noun += morph.getSurface()\n",
    "                if extracted_noun != \"\": # if it is not redundant morph\n",
    "                    # Save at candidate dictionary\n",
    "                    if noun.id not in candidate_dictionary.get(extracted_noun , []):\n",
    "                        candidate_dictionary[extracted_noun] = candidate_dictionary.get(extracted_noun , []) + [noun.id]\n",
    "                    # save at noun_dict\n",
    "                    lock.acquire() # Prevent shared memory issue\n",
    "                    noun_dict[extracted_noun] = noun_dict.get(extracted_noun, [0, 0])\n",
    "                    noun_dict[extracted_noun][0] += 1\n",
    "                    lock.release() # Make sure to realese lock\n",
    "                    # Extract nouns that is modified\n",
    "                    noun_edge = noun.getDependentEdges()\n",
    "                    if (noun_edge != []) and (noun_edge[0].label == \"MOD\"):\n",
    "                        # save at noun_dict adj_freq\n",
    "                        lock.acquire() # Prevent shared memory issue\n",
    "                        noun_dict[extracted_noun] = noun_dict.get(extracted_noun, [0, 0])\n",
    "                        noun_dict[extracted_noun][1] += 1\n",
    "                        lock.release() # Make sure to realese lock\n",
    "        # extract key morphs from each modifier (3)\n",
    "        for modifier in modifiers:\n",
    "            # get modified word\n",
    "            modified_word = modifier.getGovernorEdge().src\n",
    "            extracted_mod = \"\"\n",
    "            if modified_word != None:\n",
    "                for morph in modified_word.morphemes:\n",
    "                    # extract just key_tags\n",
    "                    if morph.tag in key_tags:\n",
    "                        extracted_mod += morph.getSurface()\n",
    "                    if extracted_mod != \"\": # if it is not redundant morph\n",
    "                        # Save at candidate dictionary\n",
    "                        if modified_word.id not in candidate_dictionary.get(extracted_mod , []):\n",
    "                            candidate_dictionary[extracted_mod] = candidate_dictionary.get(extracted_mod , []) + [modified_word.id]\n",
    "                        # save at aspect_dict\n",
    "                        lock.acquire() # Prevent shared memory issue\n",
    "                        aspect_dict[extracted_mod] = aspect_dict.get(extracted_mod, 0) + 1\n",
    "                        lock.release() # Make sure to realese lock\n",
    "        return candidate_dictionary\n",
    "    except:\n",
    "        print(\"error occured\")\n",
    "        return \"error\""
   ]
  },
  {
   "cell_type": "code",
   "execution_count": 10,
   "metadata": {},
   "outputs": [],
   "source": [
    "# Multiprocessing\n",
    "from threading import Lock\n",
    "import swifter\n",
    "import multiprocessing\n",
    "\n",
    "lock = multiprocessing.Lock()\n",
    "swifter.set_defaults(npartitions=8)"
   ]
  },
  {
   "cell_type": "code",
   "execution_count": null,
   "metadata": {},
   "outputs": [],
   "source": [
    "# apply single core\n",
    "# Time: 7 mins 4 secs for 1000 rows / 42 mins for 80000 rows\n",
    "\n",
    "# review_df.loc[:10000,\"candiate_ids\"] = review_df.loc[:10000, \"review_text\"].progress_apply(lambda x :get_aspects(x, noun_block_dict, aspect_block_dict,\n",
    "                                                                       key_tags, mecab_tagger, kkma_parser))"
   ]
  },
  {
   "cell_type": "code",
   "execution_count": null,
   "metadata": {},
   "outputs": [],
   "source": [
    "# apply function by multiprocessing (4 cores)\n",
    "# default (max usage)= cpu_counts x 2\n",
    "# Time: 4 mins 55 secs for 1000 rows / 52 mins for 80000 rows\n",
    "\n",
    "# review_df.loc[:10000,\"candiate_ids\"] = review_df.loc[:10000, \"review_text\"].swifter.apply(lambda x :get_aspects(x, noun_block_dict, aspect_block_dict,\n",
    "                                                                                                                              key_tags, mecab_tagger, kkma_parser))"
   ]
  },
  {
   "cell_type": "code",
   "execution_count": 29,
   "metadata": {},
   "outputs": [
    {
     "name": "stdout",
     "output_type": "stream",
     "text": [
      "17th process start\n"
     ]
    },
    {
     "data": {
      "application/vnd.jupyter.widget-view+json": {
       "model_id": "83707836b7644256a2839d84d2abe705",
       "version_major": 2,
       "version_minor": 0
      },
      "text/plain": [
       "HBox(children=(FloatProgress(value=0.0, max=10001.0), HTML(value='')))"
      ]
     },
     "metadata": {},
     "output_type": "display_data"
    },
    {
     "name": "stderr",
     "output_type": "stream",
     "text": [
      "[root] Java에서 처리하던 중에 문제가 발생했습니다. 문제가 계속된다면, Issue를 등록해주세요.\n",
      "Traceback (most recent call last):\n",
      "  File \"/usr/local/lib/python3.8/dist-packages/koalanlp/proc.py\", line 237, in analyze\n",
      "    result.append(Sentence.fromJava(self.__api.analyze(ref)))\n",
      "  File \"/usr/local/lib/python3.8/dist-packages/py4j/java_gateway.py\", line 1322, in __call__\n",
      "    return_value = get_return_value(\n",
      "  File \"/usr/local/lib/python3.8/dist-packages/py4j/protocol.py\", line 326, in get_return_value\n",
      "    raise Py4JJavaError(\n",
      "py4j.protocol.Py4JJavaError: An error occurred while calling o210.analyze.\n",
      ": java.lang.IllegalStateException: There are more than two properties belong to the same key: DEP_GOVERNOR\n",
      "\tat kr.bydelta.koala.data.CanHaveProperty.setProperty$koalanlp_core(data.kt:116)\n",
      "\tat kr.bydelta.koala.data.DepEdge.<init>(data.kt:680)\n",
      "\tat kr.bydelta.koala.kkma.Parser.attachProperty(proc.kt:283)\n",
      "\tat kr.bydelta.koala.kkma.Parser.attachProperty(proc.kt:201)\n",
      "\tat kr.bydelta.koala.proc.CanAnalyzeProperty$DefaultImpls.analyze(processors.kt:636)\n",
      "\tat kr.bydelta.koala.proc.CanParseDependency$DefaultImpls.analyze(processors.kt)\n",
      "\tat kr.bydelta.koala.kkma.Parser.analyze(proc.kt:201)\n",
      "\tat jdk.internal.reflect.GeneratedMethodAccessor33.invoke(Unknown Source)\n",
      "\tat java.base/jdk.internal.reflect.DelegatingMethodAccessorImpl.invoke(DelegatingMethodAccessorImpl.java:43)\n",
      "\tat java.base/java.lang.reflect.Method.invoke(Method.java:566)\n",
      "\tat py4j.reflection.MethodInvoker.invoke(MethodInvoker.java:244)\n",
      "\tat py4j.reflection.ReflectionEngine.invoke(ReflectionEngine.java:357)\n",
      "\tat py4j.Gateway.invoke(Gateway.java:282)\n",
      "\tat py4j.commands.AbstractCommand.invokeMethod(AbstractCommand.java:132)\n",
      "\tat py4j.commands.CallCommand.execute(CallCommand.java:79)\n",
      "\tat py4j.GatewayConnection.run(GatewayConnection.java:238)\n",
      "\tat java.base/java.lang.Thread.run(Thread.java:829)\n",
      "\n"
     ]
    },
    {
     "name": "stdout",
     "output_type": "stream",
     "text": [
      "error occured\n"
     ]
    },
    {
     "name": "stderr",
     "output_type": "stream",
     "text": [
      "[root] Java에서 처리하던 중에 문제가 발생했습니다. 문제가 계속된다면, Issue를 등록해주세요.\n",
      "Traceback (most recent call last):\n",
      "  File \"/usr/local/lib/python3.8/dist-packages/koalanlp/proc.py\", line 237, in analyze\n",
      "    result.append(Sentence.fromJava(self.__api.analyze(ref)))\n",
      "  File \"/usr/local/lib/python3.8/dist-packages/py4j/java_gateway.py\", line 1322, in __call__\n",
      "    return_value = get_return_value(\n",
      "  File \"/usr/local/lib/python3.8/dist-packages/py4j/protocol.py\", line 326, in get_return_value\n",
      "    raise Py4JJavaError(\n",
      "py4j.protocol.Py4JJavaError: An error occurred while calling o210.analyze.\n",
      ": java.lang.IllegalStateException: There are more than two properties belong to the same key: DEP_GOVERNOR\n",
      "\tat kr.bydelta.koala.data.CanHaveProperty.setProperty$koalanlp_core(data.kt:116)\n",
      "\tat kr.bydelta.koala.data.DepEdge.<init>(data.kt:680)\n",
      "\tat kr.bydelta.koala.kkma.Parser.attachProperty(proc.kt:283)\n",
      "\tat kr.bydelta.koala.kkma.Parser.attachProperty(proc.kt:201)\n",
      "\tat kr.bydelta.koala.proc.CanAnalyzeProperty$DefaultImpls.analyze(processors.kt:636)\n",
      "\tat kr.bydelta.koala.proc.CanParseDependency$DefaultImpls.analyze(processors.kt)\n",
      "\tat kr.bydelta.koala.kkma.Parser.analyze(proc.kt:201)\n",
      "\tat jdk.internal.reflect.GeneratedMethodAccessor33.invoke(Unknown Source)\n",
      "\tat java.base/jdk.internal.reflect.DelegatingMethodAccessorImpl.invoke(DelegatingMethodAccessorImpl.java:43)\n",
      "\tat java.base/java.lang.reflect.Method.invoke(Method.java:566)\n",
      "\tat py4j.reflection.MethodInvoker.invoke(MethodInvoker.java:244)\n",
      "\tat py4j.reflection.ReflectionEngine.invoke(ReflectionEngine.java:357)\n",
      "\tat py4j.Gateway.invoke(Gateway.java:282)\n",
      "\tat py4j.commands.AbstractCommand.invokeMethod(AbstractCommand.java:132)\n",
      "\tat py4j.commands.CallCommand.execute(CallCommand.java:79)\n",
      "\tat py4j.GatewayConnection.run(GatewayConnection.java:238)\n",
      "\tat java.base/java.lang.Thread.run(Thread.java:829)\n",
      "\n"
     ]
    },
    {
     "name": "stdout",
     "output_type": "stream",
     "text": [
      "error occured\n"
     ]
    },
    {
     "name": "stderr",
     "output_type": "stream",
     "text": [
      "[root] Java에서 처리하던 중에 문제가 발생했습니다. 문제가 계속된다면, Issue를 등록해주세요.\n",
      "Traceback (most recent call last):\n",
      "  File \"/usr/local/lib/python3.8/dist-packages/koalanlp/proc.py\", line 237, in analyze\n",
      "    result.append(Sentence.fromJava(self.__api.analyze(ref)))\n",
      "  File \"/usr/local/lib/python3.8/dist-packages/py4j/java_gateway.py\", line 1322, in __call__\n",
      "    return_value = get_return_value(\n",
      "  File \"/usr/local/lib/python3.8/dist-packages/py4j/protocol.py\", line 326, in get_return_value\n",
      "    raise Py4JJavaError(\n",
      "py4j.protocol.Py4JJavaError: An error occurred while calling o210.analyze.\n",
      ": java.lang.IllegalStateException: There are more than two properties belong to the same key: DEP_GOVERNOR\n",
      "\tat kr.bydelta.koala.data.CanHaveProperty.setProperty$koalanlp_core(data.kt:116)\n",
      "\tat kr.bydelta.koala.data.DepEdge.<init>(data.kt:680)\n",
      "\tat kr.bydelta.koala.kkma.Parser.attachProperty(proc.kt:283)\n",
      "\tat kr.bydelta.koala.kkma.Parser.attachProperty(proc.kt:201)\n",
      "\tat kr.bydelta.koala.proc.CanAnalyzeProperty$DefaultImpls.analyze(processors.kt:636)\n",
      "\tat kr.bydelta.koala.proc.CanParseDependency$DefaultImpls.analyze(processors.kt)\n",
      "\tat kr.bydelta.koala.kkma.Parser.analyze(proc.kt:201)\n",
      "\tat jdk.internal.reflect.GeneratedMethodAccessor33.invoke(Unknown Source)\n",
      "\tat java.base/jdk.internal.reflect.DelegatingMethodAccessorImpl.invoke(DelegatingMethodAccessorImpl.java:43)\n",
      "\tat java.base/java.lang.reflect.Method.invoke(Method.java:566)\n",
      "\tat py4j.reflection.MethodInvoker.invoke(MethodInvoker.java:244)\n",
      "\tat py4j.reflection.ReflectionEngine.invoke(ReflectionEngine.java:357)\n",
      "\tat py4j.Gateway.invoke(Gateway.java:282)\n",
      "\tat py4j.commands.AbstractCommand.invokeMethod(AbstractCommand.java:132)\n",
      "\tat py4j.commands.CallCommand.execute(CallCommand.java:79)\n",
      "\tat py4j.GatewayConnection.run(GatewayConnection.java:238)\n",
      "\tat java.base/java.lang.Thread.run(Thread.java:829)\n",
      "\n"
     ]
    },
    {
     "name": "stdout",
     "output_type": "stream",
     "text": [
      "error occured\n"
     ]
    },
    {
     "name": "stderr",
     "output_type": "stream",
     "text": [
      "[root] Java에서 처리하던 중에 문제가 발생했습니다. 문제가 계속된다면, Issue를 등록해주세요.\n",
      "Traceback (most recent call last):\n",
      "  File \"/usr/local/lib/python3.8/dist-packages/koalanlp/proc.py\", line 237, in analyze\n",
      "    result.append(Sentence.fromJava(self.__api.analyze(ref)))\n",
      "  File \"/usr/local/lib/python3.8/dist-packages/py4j/java_gateway.py\", line 1322, in __call__\n",
      "    return_value = get_return_value(\n",
      "  File \"/usr/local/lib/python3.8/dist-packages/py4j/protocol.py\", line 326, in get_return_value\n",
      "    raise Py4JJavaError(\n",
      "py4j.protocol.Py4JJavaError: An error occurred while calling o210.analyze.\n",
      ": java.lang.IllegalStateException: There are more than two properties belong to the same key: DEP_GOVERNOR\n",
      "\tat kr.bydelta.koala.data.CanHaveProperty.setProperty$koalanlp_core(data.kt:116)\n",
      "\tat kr.bydelta.koala.data.DepEdge.<init>(data.kt:680)\n",
      "\tat kr.bydelta.koala.kkma.Parser.attachProperty(proc.kt:283)\n",
      "\tat kr.bydelta.koala.kkma.Parser.attachProperty(proc.kt:201)\n",
      "\tat kr.bydelta.koala.proc.CanAnalyzeProperty$DefaultImpls.analyze(processors.kt:636)\n",
      "\tat kr.bydelta.koala.proc.CanParseDependency$DefaultImpls.analyze(processors.kt)\n",
      "\tat kr.bydelta.koala.kkma.Parser.analyze(proc.kt:201)\n",
      "\tat jdk.internal.reflect.GeneratedMethodAccessor33.invoke(Unknown Source)\n",
      "\tat java.base/jdk.internal.reflect.DelegatingMethodAccessorImpl.invoke(DelegatingMethodAccessorImpl.java:43)\n",
      "\tat java.base/java.lang.reflect.Method.invoke(Method.java:566)\n",
      "\tat py4j.reflection.MethodInvoker.invoke(MethodInvoker.java:244)\n",
      "\tat py4j.reflection.ReflectionEngine.invoke(ReflectionEngine.java:357)\n",
      "\tat py4j.Gateway.invoke(Gateway.java:282)\n",
      "\tat py4j.commands.AbstractCommand.invokeMethod(AbstractCommand.java:132)\n",
      "\tat py4j.commands.CallCommand.execute(CallCommand.java:79)\n",
      "\tat py4j.GatewayConnection.run(GatewayConnection.java:238)\n",
      "\tat java.base/java.lang.Thread.run(Thread.java:829)\n",
      "\n"
     ]
    },
    {
     "name": "stdout",
     "output_type": "stream",
     "text": [
      "error occured\n"
     ]
    },
    {
     "name": "stderr",
     "output_type": "stream",
     "text": [
      "[root] Java에서 처리하던 중에 문제가 발생했습니다. 문제가 계속된다면, Issue를 등록해주세요.\n",
      "Traceback (most recent call last):\n",
      "  File \"/usr/local/lib/python3.8/dist-packages/koalanlp/proc.py\", line 237, in analyze\n",
      "    result.append(Sentence.fromJava(self.__api.analyze(ref)))\n",
      "  File \"/usr/local/lib/python3.8/dist-packages/py4j/java_gateway.py\", line 1322, in __call__\n",
      "    return_value = get_return_value(\n",
      "  File \"/usr/local/lib/python3.8/dist-packages/py4j/protocol.py\", line 326, in get_return_value\n",
      "    raise Py4JJavaError(\n",
      "py4j.protocol.Py4JJavaError: An error occurred while calling o210.analyze.\n",
      ": java.lang.IllegalStateException: There are more than two properties belong to the same key: DEP_GOVERNOR\n",
      "\tat kr.bydelta.koala.data.CanHaveProperty.setProperty$koalanlp_core(data.kt:116)\n",
      "\tat kr.bydelta.koala.data.DepEdge.<init>(data.kt:680)\n",
      "\tat kr.bydelta.koala.kkma.Parser.attachProperty(proc.kt:283)\n",
      "\tat kr.bydelta.koala.kkma.Parser.attachProperty(proc.kt:201)\n",
      "\tat kr.bydelta.koala.proc.CanAnalyzeProperty$DefaultImpls.analyze(processors.kt:636)\n",
      "\tat kr.bydelta.koala.proc.CanParseDependency$DefaultImpls.analyze(processors.kt)\n",
      "\tat kr.bydelta.koala.kkma.Parser.analyze(proc.kt:201)\n",
      "\tat jdk.internal.reflect.GeneratedMethodAccessor33.invoke(Unknown Source)\n",
      "\tat java.base/jdk.internal.reflect.DelegatingMethodAccessorImpl.invoke(DelegatingMethodAccessorImpl.java:43)\n",
      "\tat java.base/java.lang.reflect.Method.invoke(Method.java:566)\n",
      "\tat py4j.reflection.MethodInvoker.invoke(MethodInvoker.java:244)\n",
      "\tat py4j.reflection.ReflectionEngine.invoke(ReflectionEngine.java:357)\n",
      "\tat py4j.Gateway.invoke(Gateway.java:282)\n",
      "\tat py4j.commands.AbstractCommand.invokeMethod(AbstractCommand.java:132)\n",
      "\tat py4j.commands.CallCommand.execute(CallCommand.java:79)\n",
      "\tat py4j.GatewayConnection.run(GatewayConnection.java:238)\n",
      "\tat java.base/java.lang.Thread.run(Thread.java:829)\n",
      "\n"
     ]
    },
    {
     "name": "stdout",
     "output_type": "stream",
     "text": [
      "error occured\n"
     ]
    },
    {
     "name": "stderr",
     "output_type": "stream",
     "text": [
      "[root] Java에서 처리하던 중에 문제가 발생했습니다. 문제가 계속된다면, Issue를 등록해주세요.\n",
      "Traceback (most recent call last):\n",
      "  File \"/usr/local/lib/python3.8/dist-packages/koalanlp/proc.py\", line 237, in analyze\n",
      "    result.append(Sentence.fromJava(self.__api.analyze(ref)))\n",
      "  File \"/usr/local/lib/python3.8/dist-packages/py4j/java_gateway.py\", line 1322, in __call__\n",
      "    return_value = get_return_value(\n",
      "  File \"/usr/local/lib/python3.8/dist-packages/py4j/protocol.py\", line 326, in get_return_value\n",
      "    raise Py4JJavaError(\n",
      "py4j.protocol.Py4JJavaError: An error occurred while calling o210.analyze.\n",
      ": java.lang.IllegalStateException: There are more than two properties belong to the same key: DEP_GOVERNOR\n",
      "\tat kr.bydelta.koala.data.CanHaveProperty.setProperty$koalanlp_core(data.kt:116)\n",
      "\tat kr.bydelta.koala.data.DepEdge.<init>(data.kt:680)\n",
      "\tat kr.bydelta.koala.kkma.Parser.attachProperty(proc.kt:283)\n",
      "\tat kr.bydelta.koala.kkma.Parser.attachProperty(proc.kt:201)\n",
      "\tat kr.bydelta.koala.proc.CanAnalyzeProperty$DefaultImpls.analyze(processors.kt:636)\n",
      "\tat kr.bydelta.koala.proc.CanParseDependency$DefaultImpls.analyze(processors.kt)\n",
      "\tat kr.bydelta.koala.kkma.Parser.analyze(proc.kt:201)\n",
      "\tat jdk.internal.reflect.GeneratedMethodAccessor33.invoke(Unknown Source)\n",
      "\tat java.base/jdk.internal.reflect.DelegatingMethodAccessorImpl.invoke(DelegatingMethodAccessorImpl.java:43)\n",
      "\tat java.base/java.lang.reflect.Method.invoke(Method.java:566)\n",
      "\tat py4j.reflection.MethodInvoker.invoke(MethodInvoker.java:244)\n",
      "\tat py4j.reflection.ReflectionEngine.invoke(ReflectionEngine.java:357)\n",
      "\tat py4j.Gateway.invoke(Gateway.java:282)\n",
      "\tat py4j.commands.AbstractCommand.invokeMethod(AbstractCommand.java:132)\n",
      "\tat py4j.commands.CallCommand.execute(CallCommand.java:79)\n",
      "\tat py4j.GatewayConnection.run(GatewayConnection.java:238)\n",
      "\tat java.base/java.lang.Thread.run(Thread.java:829)\n",
      "\n"
     ]
    },
    {
     "name": "stdout",
     "output_type": "stream",
     "text": [
      "error occured\n"
     ]
    },
    {
     "name": "stderr",
     "output_type": "stream",
     "text": [
      "[root] Java에서 처리하던 중에 문제가 발생했습니다. 문제가 계속된다면, Issue를 등록해주세요.\n",
      "Traceback (most recent call last):\n",
      "  File \"/usr/local/lib/python3.8/dist-packages/koalanlp/proc.py\", line 237, in analyze\n",
      "    result.append(Sentence.fromJava(self.__api.analyze(ref)))\n",
      "  File \"/usr/local/lib/python3.8/dist-packages/py4j/java_gateway.py\", line 1322, in __call__\n",
      "    return_value = get_return_value(\n",
      "  File \"/usr/local/lib/python3.8/dist-packages/py4j/protocol.py\", line 326, in get_return_value\n",
      "    raise Py4JJavaError(\n",
      "py4j.protocol.Py4JJavaError: An error occurred while calling o210.analyze.\n",
      ": java.lang.IllegalStateException: There are more than two properties belong to the same key: DEP_GOVERNOR\n",
      "\tat kr.bydelta.koala.data.CanHaveProperty.setProperty$koalanlp_core(data.kt:116)\n",
      "\tat kr.bydelta.koala.data.DepEdge.<init>(data.kt:680)\n",
      "\tat kr.bydelta.koala.kkma.Parser.attachProperty(proc.kt:283)\n",
      "\tat kr.bydelta.koala.kkma.Parser.attachProperty(proc.kt:201)\n",
      "\tat kr.bydelta.koala.proc.CanAnalyzeProperty$DefaultImpls.analyze(processors.kt:636)\n",
      "\tat kr.bydelta.koala.proc.CanParseDependency$DefaultImpls.analyze(processors.kt)\n",
      "\tat kr.bydelta.koala.kkma.Parser.analyze(proc.kt:201)\n",
      "\tat jdk.internal.reflect.GeneratedMethodAccessor33.invoke(Unknown Source)\n",
      "\tat java.base/jdk.internal.reflect.DelegatingMethodAccessorImpl.invoke(DelegatingMethodAccessorImpl.java:43)\n",
      "\tat java.base/java.lang.reflect.Method.invoke(Method.java:566)\n",
      "\tat py4j.reflection.MethodInvoker.invoke(MethodInvoker.java:244)\n",
      "\tat py4j.reflection.ReflectionEngine.invoke(ReflectionEngine.java:357)\n",
      "\tat py4j.Gateway.invoke(Gateway.java:282)\n",
      "\tat py4j.commands.AbstractCommand.invokeMethod(AbstractCommand.java:132)\n",
      "\tat py4j.commands.CallCommand.execute(CallCommand.java:79)\n",
      "\tat py4j.GatewayConnection.run(GatewayConnection.java:238)\n",
      "\tat java.base/java.lang.Thread.run(Thread.java:829)\n",
      "\n"
     ]
    },
    {
     "name": "stdout",
     "output_type": "stream",
     "text": [
      "error occured\n"
     ]
    },
    {
     "name": "stderr",
     "output_type": "stream",
     "text": [
      "[root] Java에서 처리하던 중에 문제가 발생했습니다. 문제가 계속된다면, Issue를 등록해주세요.\n",
      "Traceback (most recent call last):\n",
      "  File \"/usr/local/lib/python3.8/dist-packages/koalanlp/proc.py\", line 237, in analyze\n",
      "    result.append(Sentence.fromJava(self.__api.analyze(ref)))\n",
      "  File \"/usr/local/lib/python3.8/dist-packages/py4j/java_gateway.py\", line 1322, in __call__\n",
      "    return_value = get_return_value(\n",
      "  File \"/usr/local/lib/python3.8/dist-packages/py4j/protocol.py\", line 326, in get_return_value\n",
      "    raise Py4JJavaError(\n",
      "py4j.protocol.Py4JJavaError: An error occurred while calling o210.analyze.\n",
      ": java.lang.IllegalStateException: There are more than two properties belong to the same key: DEP_GOVERNOR\n",
      "\tat kr.bydelta.koala.data.CanHaveProperty.setProperty$koalanlp_core(data.kt:116)\n",
      "\tat kr.bydelta.koala.data.DepEdge.<init>(data.kt:680)\n",
      "\tat kr.bydelta.koala.kkma.Parser.attachProperty(proc.kt:283)\n",
      "\tat kr.bydelta.koala.kkma.Parser.attachProperty(proc.kt:201)\n",
      "\tat kr.bydelta.koala.proc.CanAnalyzeProperty$DefaultImpls.analyze(processors.kt:636)\n",
      "\tat kr.bydelta.koala.proc.CanParseDependency$DefaultImpls.analyze(processors.kt)\n",
      "\tat kr.bydelta.koala.kkma.Parser.analyze(proc.kt:201)\n",
      "\tat jdk.internal.reflect.GeneratedMethodAccessor33.invoke(Unknown Source)\n",
      "\tat java.base/jdk.internal.reflect.DelegatingMethodAccessorImpl.invoke(DelegatingMethodAccessorImpl.java:43)\n",
      "\tat java.base/java.lang.reflect.Method.invoke(Method.java:566)\n",
      "\tat py4j.reflection.MethodInvoker.invoke(MethodInvoker.java:244)\n",
      "\tat py4j.reflection.ReflectionEngine.invoke(ReflectionEngine.java:357)\n",
      "\tat py4j.Gateway.invoke(Gateway.java:282)\n",
      "\tat py4j.commands.AbstractCommand.invokeMethod(AbstractCommand.java:132)\n",
      "\tat py4j.commands.CallCommand.execute(CallCommand.java:79)\n",
      "\tat py4j.GatewayConnection.run(GatewayConnection.java:238)\n",
      "\tat java.base/java.lang.Thread.run(Thread.java:829)\n",
      "\n"
     ]
    },
    {
     "name": "stdout",
     "output_type": "stream",
     "text": [
      "error occured\n",
      "\n",
      "17th batch succeed\n",
      "18th process start\n"
     ]
    },
    {
     "data": {
      "application/vnd.jupyter.widget-view+json": {
       "model_id": "fe91f8553a0a4e26a9e75548dabda20c",
       "version_major": 2,
       "version_minor": 0
      },
      "text/plain": [
       "HBox(children=(FloatProgress(value=0.0, max=10001.0), HTML(value='')))"
      ]
     },
     "metadata": {},
     "output_type": "display_data"
    },
    {
     "name": "stderr",
     "output_type": "stream",
     "text": [
      "[root] Java에서 처리하던 중에 문제가 발생했습니다. 문제가 계속된다면, Issue를 등록해주세요.\n",
      "Traceback (most recent call last):\n",
      "  File \"/usr/local/lib/python3.8/dist-packages/koalanlp/proc.py\", line 237, in analyze\n",
      "    result.append(Sentence.fromJava(self.__api.analyze(ref)))\n",
      "  File \"/usr/local/lib/python3.8/dist-packages/py4j/java_gateway.py\", line 1322, in __call__\n",
      "    return_value = get_return_value(\n",
      "  File \"/usr/local/lib/python3.8/dist-packages/py4j/protocol.py\", line 326, in get_return_value\n",
      "    raise Py4JJavaError(\n",
      "py4j.protocol.Py4JJavaError: An error occurred while calling o210.analyze.\n",
      ": java.lang.IllegalStateException: There are more than two properties belong to the same key: DEP_GOVERNOR\n",
      "\tat kr.bydelta.koala.data.CanHaveProperty.setProperty$koalanlp_core(data.kt:116)\n",
      "\tat kr.bydelta.koala.data.DepEdge.<init>(data.kt:680)\n",
      "\tat kr.bydelta.koala.kkma.Parser.attachProperty(proc.kt:283)\n",
      "\tat kr.bydelta.koala.kkma.Parser.attachProperty(proc.kt:201)\n",
      "\tat kr.bydelta.koala.proc.CanAnalyzeProperty$DefaultImpls.analyze(processors.kt:636)\n",
      "\tat kr.bydelta.koala.proc.CanParseDependency$DefaultImpls.analyze(processors.kt)\n",
      "\tat kr.bydelta.koala.kkma.Parser.analyze(proc.kt:201)\n",
      "\tat jdk.internal.reflect.GeneratedMethodAccessor33.invoke(Unknown Source)\n",
      "\tat java.base/jdk.internal.reflect.DelegatingMethodAccessorImpl.invoke(DelegatingMethodAccessorImpl.java:43)\n",
      "\tat java.base/java.lang.reflect.Method.invoke(Method.java:566)\n",
      "\tat py4j.reflection.MethodInvoker.invoke(MethodInvoker.java:244)\n",
      "\tat py4j.reflection.ReflectionEngine.invoke(ReflectionEngine.java:357)\n",
      "\tat py4j.Gateway.invoke(Gateway.java:282)\n",
      "\tat py4j.commands.AbstractCommand.invokeMethod(AbstractCommand.java:132)\n",
      "\tat py4j.commands.CallCommand.execute(CallCommand.java:79)\n",
      "\tat py4j.GatewayConnection.run(GatewayConnection.java:238)\n",
      "\tat java.base/java.lang.Thread.run(Thread.java:829)\n",
      "\n"
     ]
    },
    {
     "name": "stdout",
     "output_type": "stream",
     "text": [
      "error occured\n"
     ]
    },
    {
     "name": "stderr",
     "output_type": "stream",
     "text": [
      "[root] Java에서 처리하던 중에 문제가 발생했습니다. 문제가 계속된다면, Issue를 등록해주세요.\n",
      "Traceback (most recent call last):\n",
      "  File \"/usr/local/lib/python3.8/dist-packages/koalanlp/proc.py\", line 237, in analyze\n",
      "    result.append(Sentence.fromJava(self.__api.analyze(ref)))\n",
      "  File \"/usr/local/lib/python3.8/dist-packages/py4j/java_gateway.py\", line 1322, in __call__\n",
      "    return_value = get_return_value(\n",
      "  File \"/usr/local/lib/python3.8/dist-packages/py4j/protocol.py\", line 326, in get_return_value\n",
      "    raise Py4JJavaError(\n",
      "py4j.protocol.Py4JJavaError: An error occurred while calling o210.analyze.\n",
      ": java.lang.IllegalStateException: There are more than two properties belong to the same key: DEP_GOVERNOR\n",
      "\tat kr.bydelta.koala.data.CanHaveProperty.setProperty$koalanlp_core(data.kt:116)\n",
      "\tat kr.bydelta.koala.data.DepEdge.<init>(data.kt:680)\n",
      "\tat kr.bydelta.koala.kkma.Parser.attachProperty(proc.kt:283)\n",
      "\tat kr.bydelta.koala.kkma.Parser.attachProperty(proc.kt:201)\n",
      "\tat kr.bydelta.koala.proc.CanAnalyzeProperty$DefaultImpls.analyze(processors.kt:636)\n",
      "\tat kr.bydelta.koala.proc.CanParseDependency$DefaultImpls.analyze(processors.kt)\n",
      "\tat kr.bydelta.koala.kkma.Parser.analyze(proc.kt:201)\n",
      "\tat jdk.internal.reflect.GeneratedMethodAccessor33.invoke(Unknown Source)\n",
      "\tat java.base/jdk.internal.reflect.DelegatingMethodAccessorImpl.invoke(DelegatingMethodAccessorImpl.java:43)\n",
      "\tat java.base/java.lang.reflect.Method.invoke(Method.java:566)\n",
      "\tat py4j.reflection.MethodInvoker.invoke(MethodInvoker.java:244)\n",
      "\tat py4j.reflection.ReflectionEngine.invoke(ReflectionEngine.java:357)\n",
      "\tat py4j.Gateway.invoke(Gateway.java:282)\n",
      "\tat py4j.commands.AbstractCommand.invokeMethod(AbstractCommand.java:132)\n",
      "\tat py4j.commands.CallCommand.execute(CallCommand.java:79)\n",
      "\tat py4j.GatewayConnection.run(GatewayConnection.java:238)\n",
      "\tat java.base/java.lang.Thread.run(Thread.java:829)\n",
      "\n"
     ]
    },
    {
     "name": "stdout",
     "output_type": "stream",
     "text": [
      "error occured\n"
     ]
    },
    {
     "name": "stderr",
     "output_type": "stream",
     "text": [
      "[root] Java에서 처리하던 중에 문제가 발생했습니다. 문제가 계속된다면, Issue를 등록해주세요.\n",
      "Traceback (most recent call last):\n",
      "  File \"/usr/local/lib/python3.8/dist-packages/koalanlp/proc.py\", line 237, in analyze\n",
      "    result.append(Sentence.fromJava(self.__api.analyze(ref)))\n",
      "  File \"/usr/local/lib/python3.8/dist-packages/py4j/java_gateway.py\", line 1322, in __call__\n",
      "    return_value = get_return_value(\n",
      "  File \"/usr/local/lib/python3.8/dist-packages/py4j/protocol.py\", line 326, in get_return_value\n",
      "    raise Py4JJavaError(\n",
      "py4j.protocol.Py4JJavaError: An error occurred while calling o210.analyze.\n",
      ": java.lang.IllegalStateException: There are more than two properties belong to the same key: DEP_GOVERNOR\n",
      "\tat kr.bydelta.koala.data.CanHaveProperty.setProperty$koalanlp_core(data.kt:116)\n",
      "\tat kr.bydelta.koala.data.DepEdge.<init>(data.kt:680)\n",
      "\tat kr.bydelta.koala.kkma.Parser.attachProperty(proc.kt:283)\n",
      "\tat kr.bydelta.koala.kkma.Parser.attachProperty(proc.kt:201)\n",
      "\tat kr.bydelta.koala.proc.CanAnalyzeProperty$DefaultImpls.analyze(processors.kt:636)\n",
      "\tat kr.bydelta.koala.proc.CanParseDependency$DefaultImpls.analyze(processors.kt)\n",
      "\tat kr.bydelta.koala.kkma.Parser.analyze(proc.kt:201)\n",
      "\tat jdk.internal.reflect.GeneratedMethodAccessor33.invoke(Unknown Source)\n",
      "\tat java.base/jdk.internal.reflect.DelegatingMethodAccessorImpl.invoke(DelegatingMethodAccessorImpl.java:43)\n",
      "\tat java.base/java.lang.reflect.Method.invoke(Method.java:566)\n",
      "\tat py4j.reflection.MethodInvoker.invoke(MethodInvoker.java:244)\n",
      "\tat py4j.reflection.ReflectionEngine.invoke(ReflectionEngine.java:357)\n",
      "\tat py4j.Gateway.invoke(Gateway.java:282)\n",
      "\tat py4j.commands.AbstractCommand.invokeMethod(AbstractCommand.java:132)\n",
      "\tat py4j.commands.CallCommand.execute(CallCommand.java:79)\n",
      "\tat py4j.GatewayConnection.run(GatewayConnection.java:238)\n",
      "\tat java.base/java.lang.Thread.run(Thread.java:829)\n",
      "\n"
     ]
    },
    {
     "name": "stdout",
     "output_type": "stream",
     "text": [
      "error occured\n"
     ]
    },
    {
     "name": "stderr",
     "output_type": "stream",
     "text": [
      "[root] Java에서 처리하던 중에 문제가 발생했습니다. 문제가 계속된다면, Issue를 등록해주세요.\n",
      "Traceback (most recent call last):\n",
      "  File \"/usr/local/lib/python3.8/dist-packages/koalanlp/proc.py\", line 237, in analyze\n",
      "    result.append(Sentence.fromJava(self.__api.analyze(ref)))\n",
      "  File \"/usr/local/lib/python3.8/dist-packages/py4j/java_gateway.py\", line 1322, in __call__\n",
      "    return_value = get_return_value(\n",
      "  File \"/usr/local/lib/python3.8/dist-packages/py4j/protocol.py\", line 326, in get_return_value\n",
      "    raise Py4JJavaError(\n",
      "py4j.protocol.Py4JJavaError: An error occurred while calling o210.analyze.\n",
      ": java.lang.IllegalStateException: There are more than two properties belong to the same key: DEP_GOVERNOR\n",
      "\tat kr.bydelta.koala.data.CanHaveProperty.setProperty$koalanlp_core(data.kt:116)\n",
      "\tat kr.bydelta.koala.data.DepEdge.<init>(data.kt:680)\n",
      "\tat kr.bydelta.koala.kkma.Parser.attachProperty(proc.kt:283)\n",
      "\tat kr.bydelta.koala.kkma.Parser.attachProperty(proc.kt:201)\n",
      "\tat kr.bydelta.koala.proc.CanAnalyzeProperty$DefaultImpls.analyze(processors.kt:636)\n",
      "\tat kr.bydelta.koala.proc.CanParseDependency$DefaultImpls.analyze(processors.kt)\n",
      "\tat kr.bydelta.koala.kkma.Parser.analyze(proc.kt:201)\n",
      "\tat jdk.internal.reflect.GeneratedMethodAccessor33.invoke(Unknown Source)\n",
      "\tat java.base/jdk.internal.reflect.DelegatingMethodAccessorImpl.invoke(DelegatingMethodAccessorImpl.java:43)\n",
      "\tat java.base/java.lang.reflect.Method.invoke(Method.java:566)\n",
      "\tat py4j.reflection.MethodInvoker.invoke(MethodInvoker.java:244)\n",
      "\tat py4j.reflection.ReflectionEngine.invoke(ReflectionEngine.java:357)\n",
      "\tat py4j.Gateway.invoke(Gateway.java:282)\n",
      "\tat py4j.commands.AbstractCommand.invokeMethod(AbstractCommand.java:132)\n",
      "\tat py4j.commands.CallCommand.execute(CallCommand.java:79)\n",
      "\tat py4j.GatewayConnection.run(GatewayConnection.java:238)\n",
      "\tat java.base/java.lang.Thread.run(Thread.java:829)\n",
      "\n"
     ]
    },
    {
     "name": "stdout",
     "output_type": "stream",
     "text": [
      "error occured\n"
     ]
    },
    {
     "name": "stderr",
     "output_type": "stream",
     "text": [
      "[root] Java에서 처리하던 중에 문제가 발생했습니다. 문제가 계속된다면, Issue를 등록해주세요.\n",
      "Traceback (most recent call last):\n",
      "  File \"/usr/local/lib/python3.8/dist-packages/koalanlp/proc.py\", line 237, in analyze\n",
      "    result.append(Sentence.fromJava(self.__api.analyze(ref)))\n",
      "  File \"/usr/local/lib/python3.8/dist-packages/py4j/java_gateway.py\", line 1322, in __call__\n",
      "    return_value = get_return_value(\n",
      "  File \"/usr/local/lib/python3.8/dist-packages/py4j/protocol.py\", line 326, in get_return_value\n",
      "    raise Py4JJavaError(\n",
      "py4j.protocol.Py4JJavaError: An error occurred while calling o210.analyze.\n",
      ": java.lang.IllegalStateException: There are more than two properties belong to the same key: DEP_GOVERNOR\n",
      "\tat kr.bydelta.koala.data.CanHaveProperty.setProperty$koalanlp_core(data.kt:116)\n",
      "\tat kr.bydelta.koala.data.DepEdge.<init>(data.kt:680)\n",
      "\tat kr.bydelta.koala.kkma.Parser.attachProperty(proc.kt:283)\n",
      "\tat kr.bydelta.koala.kkma.Parser.attachProperty(proc.kt:201)\n",
      "\tat kr.bydelta.koala.proc.CanAnalyzeProperty$DefaultImpls.analyze(processors.kt:636)\n",
      "\tat kr.bydelta.koala.proc.CanParseDependency$DefaultImpls.analyze(processors.kt)\n",
      "\tat kr.bydelta.koala.kkma.Parser.analyze(proc.kt:201)\n",
      "\tat jdk.internal.reflect.GeneratedMethodAccessor33.invoke(Unknown Source)\n",
      "\tat java.base/jdk.internal.reflect.DelegatingMethodAccessorImpl.invoke(DelegatingMethodAccessorImpl.java:43)\n",
      "\tat java.base/java.lang.reflect.Method.invoke(Method.java:566)\n",
      "\tat py4j.reflection.MethodInvoker.invoke(MethodInvoker.java:244)\n",
      "\tat py4j.reflection.ReflectionEngine.invoke(ReflectionEngine.java:357)\n",
      "\tat py4j.Gateway.invoke(Gateway.java:282)\n",
      "\tat py4j.commands.AbstractCommand.invokeMethod(AbstractCommand.java:132)\n",
      "\tat py4j.commands.CallCommand.execute(CallCommand.java:79)\n",
      "\tat py4j.GatewayConnection.run(GatewayConnection.java:238)\n",
      "\tat java.base/java.lang.Thread.run(Thread.java:829)\n",
      "\n"
     ]
    },
    {
     "name": "stdout",
     "output_type": "stream",
     "text": [
      "error occured\n",
      "\n",
      "18th batch succeed\n",
      "19th process start\n"
     ]
    },
    {
     "data": {
      "application/vnd.jupyter.widget-view+json": {
       "model_id": "e509825d5ae34b46b0d962c0399170c4",
       "version_major": 2,
       "version_minor": 0
      },
      "text/plain": [
       "HBox(children=(FloatProgress(value=0.0, max=10001.0), HTML(value='')))"
      ]
     },
     "metadata": {},
     "output_type": "display_data"
    },
    {
     "name": "stderr",
     "output_type": "stream",
     "text": [
      "[root] Java에서 처리하던 중에 문제가 발생했습니다. 문제가 계속된다면, Issue를 등록해주세요.\n",
      "Traceback (most recent call last):\n",
      "  File \"/usr/local/lib/python3.8/dist-packages/koalanlp/proc.py\", line 237, in analyze\n",
      "    result.append(Sentence.fromJava(self.__api.analyze(ref)))\n",
      "  File \"/usr/local/lib/python3.8/dist-packages/py4j/java_gateway.py\", line 1322, in __call__\n",
      "    return_value = get_return_value(\n",
      "  File \"/usr/local/lib/python3.8/dist-packages/py4j/protocol.py\", line 326, in get_return_value\n",
      "    raise Py4JJavaError(\n",
      "py4j.protocol.Py4JJavaError: An error occurred while calling o210.analyze.\n",
      ": java.lang.IllegalStateException: There are more than two properties belong to the same key: DEP_GOVERNOR\n",
      "\tat kr.bydelta.koala.data.CanHaveProperty.setProperty$koalanlp_core(data.kt:116)\n",
      "\tat kr.bydelta.koala.data.DepEdge.<init>(data.kt:680)\n",
      "\tat kr.bydelta.koala.kkma.Parser.attachProperty(proc.kt:283)\n",
      "\tat kr.bydelta.koala.kkma.Parser.attachProperty(proc.kt:201)\n",
      "\tat kr.bydelta.koala.proc.CanAnalyzeProperty$DefaultImpls.analyze(processors.kt:636)\n",
      "\tat kr.bydelta.koala.proc.CanParseDependency$DefaultImpls.analyze(processors.kt)\n",
      "\tat kr.bydelta.koala.kkma.Parser.analyze(proc.kt:201)\n",
      "\tat jdk.internal.reflect.GeneratedMethodAccessor33.invoke(Unknown Source)\n",
      "\tat java.base/jdk.internal.reflect.DelegatingMethodAccessorImpl.invoke(DelegatingMethodAccessorImpl.java:43)\n",
      "\tat java.base/java.lang.reflect.Method.invoke(Method.java:566)\n",
      "\tat py4j.reflection.MethodInvoker.invoke(MethodInvoker.java:244)\n",
      "\tat py4j.reflection.ReflectionEngine.invoke(ReflectionEngine.java:357)\n",
      "\tat py4j.Gateway.invoke(Gateway.java:282)\n",
      "\tat py4j.commands.AbstractCommand.invokeMethod(AbstractCommand.java:132)\n",
      "\tat py4j.commands.CallCommand.execute(CallCommand.java:79)\n",
      "\tat py4j.GatewayConnection.run(GatewayConnection.java:238)\n",
      "\tat java.base/java.lang.Thread.run(Thread.java:829)\n",
      "\n"
     ]
    },
    {
     "name": "stdout",
     "output_type": "stream",
     "text": [
      "error occured\n"
     ]
    },
    {
     "name": "stderr",
     "output_type": "stream",
     "text": [
      "[root] Java에서 처리하던 중에 문제가 발생했습니다. 문제가 계속된다면, Issue를 등록해주세요.\n",
      "Traceback (most recent call last):\n",
      "  File \"/usr/local/lib/python3.8/dist-packages/koalanlp/proc.py\", line 237, in analyze\n",
      "    result.append(Sentence.fromJava(self.__api.analyze(ref)))\n",
      "  File \"/usr/local/lib/python3.8/dist-packages/py4j/java_gateway.py\", line 1322, in __call__\n",
      "    return_value = get_return_value(\n",
      "  File \"/usr/local/lib/python3.8/dist-packages/py4j/protocol.py\", line 326, in get_return_value\n",
      "    raise Py4JJavaError(\n",
      "py4j.protocol.Py4JJavaError: An error occurred while calling o210.analyze.\n",
      ": java.lang.IllegalStateException: There are more than two properties belong to the same key: DEP_GOVERNOR\n",
      "\tat kr.bydelta.koala.data.CanHaveProperty.setProperty$koalanlp_core(data.kt:116)\n",
      "\tat kr.bydelta.koala.data.DepEdge.<init>(data.kt:680)\n",
      "\tat kr.bydelta.koala.kkma.Parser.attachProperty(proc.kt:283)\n",
      "\tat kr.bydelta.koala.kkma.Parser.attachProperty(proc.kt:201)\n",
      "\tat kr.bydelta.koala.proc.CanAnalyzeProperty$DefaultImpls.analyze(processors.kt:636)\n",
      "\tat kr.bydelta.koala.proc.CanParseDependency$DefaultImpls.analyze(processors.kt)\n",
      "\tat kr.bydelta.koala.kkma.Parser.analyze(proc.kt:201)\n",
      "\tat jdk.internal.reflect.GeneratedMethodAccessor33.invoke(Unknown Source)\n",
      "\tat java.base/jdk.internal.reflect.DelegatingMethodAccessorImpl.invoke(DelegatingMethodAccessorImpl.java:43)\n",
      "\tat java.base/java.lang.reflect.Method.invoke(Method.java:566)\n",
      "\tat py4j.reflection.MethodInvoker.invoke(MethodInvoker.java:244)\n",
      "\tat py4j.reflection.ReflectionEngine.invoke(ReflectionEngine.java:357)\n",
      "\tat py4j.Gateway.invoke(Gateway.java:282)\n",
      "\tat py4j.commands.AbstractCommand.invokeMethod(AbstractCommand.java:132)\n",
      "\tat py4j.commands.CallCommand.execute(CallCommand.java:79)\n",
      "\tat py4j.GatewayConnection.run(GatewayConnection.java:238)\n",
      "\tat java.base/java.lang.Thread.run(Thread.java:829)\n",
      "\n"
     ]
    },
    {
     "name": "stdout",
     "output_type": "stream",
     "text": [
      "error occured\n"
     ]
    },
    {
     "name": "stderr",
     "output_type": "stream",
     "text": [
      "[root] Java에서 처리하던 중에 문제가 발생했습니다. 문제가 계속된다면, Issue를 등록해주세요.\n",
      "Traceback (most recent call last):\n",
      "  File \"/usr/local/lib/python3.8/dist-packages/koalanlp/proc.py\", line 237, in analyze\n",
      "    result.append(Sentence.fromJava(self.__api.analyze(ref)))\n",
      "  File \"/usr/local/lib/python3.8/dist-packages/py4j/java_gateway.py\", line 1322, in __call__\n",
      "    return_value = get_return_value(\n",
      "  File \"/usr/local/lib/python3.8/dist-packages/py4j/protocol.py\", line 326, in get_return_value\n",
      "    raise Py4JJavaError(\n",
      "py4j.protocol.Py4JJavaError: An error occurred while calling o210.analyze.\n",
      ": java.lang.IllegalStateException: There are more than two properties belong to the same key: DEP_GOVERNOR\n",
      "\tat kr.bydelta.koala.data.CanHaveProperty.setProperty$koalanlp_core(data.kt:116)\n",
      "\tat kr.bydelta.koala.data.DepEdge.<init>(data.kt:680)\n",
      "\tat kr.bydelta.koala.kkma.Parser.attachProperty(proc.kt:283)\n",
      "\tat kr.bydelta.koala.kkma.Parser.attachProperty(proc.kt:201)\n",
      "\tat kr.bydelta.koala.proc.CanAnalyzeProperty$DefaultImpls.analyze(processors.kt:636)\n",
      "\tat kr.bydelta.koala.proc.CanParseDependency$DefaultImpls.analyze(processors.kt)\n",
      "\tat kr.bydelta.koala.kkma.Parser.analyze(proc.kt:201)\n",
      "\tat jdk.internal.reflect.GeneratedMethodAccessor33.invoke(Unknown Source)\n",
      "\tat java.base/jdk.internal.reflect.DelegatingMethodAccessorImpl.invoke(DelegatingMethodAccessorImpl.java:43)\n",
      "\tat java.base/java.lang.reflect.Method.invoke(Method.java:566)\n",
      "\tat py4j.reflection.MethodInvoker.invoke(MethodInvoker.java:244)\n",
      "\tat py4j.reflection.ReflectionEngine.invoke(ReflectionEngine.java:357)\n",
      "\tat py4j.Gateway.invoke(Gateway.java:282)\n",
      "\tat py4j.commands.AbstractCommand.invokeMethod(AbstractCommand.java:132)\n",
      "\tat py4j.commands.CallCommand.execute(CallCommand.java:79)\n",
      "\tat py4j.GatewayConnection.run(GatewayConnection.java:238)\n",
      "\tat java.base/java.lang.Thread.run(Thread.java:829)\n",
      "\n"
     ]
    },
    {
     "name": "stdout",
     "output_type": "stream",
     "text": [
      "error occured\n"
     ]
    },
    {
     "name": "stderr",
     "output_type": "stream",
     "text": [
      "[root] Java에서 처리하던 중에 문제가 발생했습니다. 문제가 계속된다면, Issue를 등록해주세요.\n",
      "Traceback (most recent call last):\n",
      "  File \"/usr/local/lib/python3.8/dist-packages/koalanlp/proc.py\", line 237, in analyze\n",
      "    result.append(Sentence.fromJava(self.__api.analyze(ref)))\n",
      "  File \"/usr/local/lib/python3.8/dist-packages/py4j/java_gateway.py\", line 1322, in __call__\n",
      "    return_value = get_return_value(\n",
      "  File \"/usr/local/lib/python3.8/dist-packages/py4j/protocol.py\", line 326, in get_return_value\n",
      "    raise Py4JJavaError(\n",
      "py4j.protocol.Py4JJavaError: An error occurred while calling o210.analyze.\n",
      ": java.lang.IllegalStateException: There are more than two properties belong to the same key: DEP_GOVERNOR\n",
      "\tat kr.bydelta.koala.data.CanHaveProperty.setProperty$koalanlp_core(data.kt:116)\n",
      "\tat kr.bydelta.koala.data.DepEdge.<init>(data.kt:680)\n",
      "\tat kr.bydelta.koala.kkma.Parser.attachProperty(proc.kt:283)\n",
      "\tat kr.bydelta.koala.kkma.Parser.attachProperty(proc.kt:201)\n",
      "\tat kr.bydelta.koala.proc.CanAnalyzeProperty$DefaultImpls.analyze(processors.kt:636)\n",
      "\tat kr.bydelta.koala.proc.CanParseDependency$DefaultImpls.analyze(processors.kt)\n",
      "\tat kr.bydelta.koala.kkma.Parser.analyze(proc.kt:201)\n",
      "\tat jdk.internal.reflect.GeneratedMethodAccessor33.invoke(Unknown Source)\n",
      "\tat java.base/jdk.internal.reflect.DelegatingMethodAccessorImpl.invoke(DelegatingMethodAccessorImpl.java:43)\n",
      "\tat java.base/java.lang.reflect.Method.invoke(Method.java:566)\n",
      "\tat py4j.reflection.MethodInvoker.invoke(MethodInvoker.java:244)\n",
      "\tat py4j.reflection.ReflectionEngine.invoke(ReflectionEngine.java:357)\n",
      "\tat py4j.Gateway.invoke(Gateway.java:282)\n",
      "\tat py4j.commands.AbstractCommand.invokeMethod(AbstractCommand.java:132)\n",
      "\tat py4j.commands.CallCommand.execute(CallCommand.java:79)\n",
      "\tat py4j.GatewayConnection.run(GatewayConnection.java:238)\n",
      "\tat java.base/java.lang.Thread.run(Thread.java:829)\n",
      "\n"
     ]
    },
    {
     "name": "stdout",
     "output_type": "stream",
     "text": [
      "error occured\n"
     ]
    },
    {
     "name": "stderr",
     "output_type": "stream",
     "text": [
      "[root] Java에서 처리하던 중에 문제가 발생했습니다. 문제가 계속된다면, Issue를 등록해주세요.\n",
      "Traceback (most recent call last):\n",
      "  File \"/usr/local/lib/python3.8/dist-packages/koalanlp/proc.py\", line 237, in analyze\n",
      "    result.append(Sentence.fromJava(self.__api.analyze(ref)))\n",
      "  File \"/usr/local/lib/python3.8/dist-packages/py4j/java_gateway.py\", line 1322, in __call__\n",
      "    return_value = get_return_value(\n",
      "  File \"/usr/local/lib/python3.8/dist-packages/py4j/protocol.py\", line 326, in get_return_value\n",
      "    raise Py4JJavaError(\n",
      "py4j.protocol.Py4JJavaError: An error occurred while calling o210.analyze.\n",
      ": java.lang.IllegalStateException: There are more than two properties belong to the same key: DEP_GOVERNOR\n",
      "\tat kr.bydelta.koala.data.CanHaveProperty.setProperty$koalanlp_core(data.kt:116)\n",
      "\tat kr.bydelta.koala.data.DepEdge.<init>(data.kt:680)\n",
      "\tat kr.bydelta.koala.kkma.Parser.attachProperty(proc.kt:283)\n",
      "\tat kr.bydelta.koala.kkma.Parser.attachProperty(proc.kt:201)\n",
      "\tat kr.bydelta.koala.proc.CanAnalyzeProperty$DefaultImpls.analyze(processors.kt:636)\n",
      "\tat kr.bydelta.koala.proc.CanParseDependency$DefaultImpls.analyze(processors.kt)\n",
      "\tat kr.bydelta.koala.kkma.Parser.analyze(proc.kt:201)\n",
      "\tat jdk.internal.reflect.GeneratedMethodAccessor33.invoke(Unknown Source)\n",
      "\tat java.base/jdk.internal.reflect.DelegatingMethodAccessorImpl.invoke(DelegatingMethodAccessorImpl.java:43)\n",
      "\tat java.base/java.lang.reflect.Method.invoke(Method.java:566)\n",
      "\tat py4j.reflection.MethodInvoker.invoke(MethodInvoker.java:244)\n",
      "\tat py4j.reflection.ReflectionEngine.invoke(ReflectionEngine.java:357)\n",
      "\tat py4j.Gateway.invoke(Gateway.java:282)\n",
      "\tat py4j.commands.AbstractCommand.invokeMethod(AbstractCommand.java:132)\n",
      "\tat py4j.commands.CallCommand.execute(CallCommand.java:79)\n",
      "\tat py4j.GatewayConnection.run(GatewayConnection.java:238)\n",
      "\tat java.base/java.lang.Thread.run(Thread.java:829)\n",
      "\n"
     ]
    },
    {
     "name": "stdout",
     "output_type": "stream",
     "text": [
      "error occured\n",
      "\n",
      "19th batch succeed\n",
      "20th process start\n"
     ]
    },
    {
     "data": {
      "application/vnd.jupyter.widget-view+json": {
       "model_id": "16c2132fba084f12bcb152f28a4cf631",
       "version_major": 2,
       "version_minor": 0
      },
      "text/plain": [
       "HBox(children=(FloatProgress(value=0.0, max=10001.0), HTML(value='')))"
      ]
     },
     "metadata": {},
     "output_type": "display_data"
    },
    {
     "name": "stderr",
     "output_type": "stream",
     "text": [
      "[root] Java에서 처리하던 중에 문제가 발생했습니다. 문제가 계속된다면, Issue를 등록해주세요.\n",
      "Traceback (most recent call last):\n",
      "  File \"/usr/local/lib/python3.8/dist-packages/koalanlp/proc.py\", line 237, in analyze\n",
      "    result.append(Sentence.fromJava(self.__api.analyze(ref)))\n",
      "  File \"/usr/local/lib/python3.8/dist-packages/py4j/java_gateway.py\", line 1322, in __call__\n",
      "    return_value = get_return_value(\n",
      "  File \"/usr/local/lib/python3.8/dist-packages/py4j/protocol.py\", line 326, in get_return_value\n",
      "    raise Py4JJavaError(\n",
      "py4j.protocol.Py4JJavaError: An error occurred while calling o210.analyze.\n",
      ": java.lang.IllegalStateException: There are more than two properties belong to the same key: DEP_GOVERNOR\n",
      "\tat kr.bydelta.koala.data.CanHaveProperty.setProperty$koalanlp_core(data.kt:116)\n",
      "\tat kr.bydelta.koala.data.DepEdge.<init>(data.kt:680)\n",
      "\tat kr.bydelta.koala.kkma.Parser.attachProperty(proc.kt:283)\n",
      "\tat kr.bydelta.koala.kkma.Parser.attachProperty(proc.kt:201)\n",
      "\tat kr.bydelta.koala.proc.CanAnalyzeProperty$DefaultImpls.analyze(processors.kt:636)\n",
      "\tat kr.bydelta.koala.proc.CanParseDependency$DefaultImpls.analyze(processors.kt)\n",
      "\tat kr.bydelta.koala.kkma.Parser.analyze(proc.kt:201)\n",
      "\tat jdk.internal.reflect.GeneratedMethodAccessor33.invoke(Unknown Source)\n",
      "\tat java.base/jdk.internal.reflect.DelegatingMethodAccessorImpl.invoke(DelegatingMethodAccessorImpl.java:43)\n",
      "\tat java.base/java.lang.reflect.Method.invoke(Method.java:566)\n",
      "\tat py4j.reflection.MethodInvoker.invoke(MethodInvoker.java:244)\n",
      "\tat py4j.reflection.ReflectionEngine.invoke(ReflectionEngine.java:357)\n",
      "\tat py4j.Gateway.invoke(Gateway.java:282)\n",
      "\tat py4j.commands.AbstractCommand.invokeMethod(AbstractCommand.java:132)\n",
      "\tat py4j.commands.CallCommand.execute(CallCommand.java:79)\n",
      "\tat py4j.GatewayConnection.run(GatewayConnection.java:238)\n",
      "\tat java.base/java.lang.Thread.run(Thread.java:829)\n",
      "\n"
     ]
    },
    {
     "name": "stdout",
     "output_type": "stream",
     "text": [
      "error occured\n"
     ]
    },
    {
     "name": "stderr",
     "output_type": "stream",
     "text": [
      "[root] Java에서 처리하던 중에 문제가 발생했습니다. 문제가 계속된다면, Issue를 등록해주세요.\n",
      "Traceback (most recent call last):\n",
      "  File \"/usr/local/lib/python3.8/dist-packages/koalanlp/proc.py\", line 237, in analyze\n",
      "    result.append(Sentence.fromJava(self.__api.analyze(ref)))\n",
      "  File \"/usr/local/lib/python3.8/dist-packages/py4j/java_gateway.py\", line 1322, in __call__\n",
      "    return_value = get_return_value(\n",
      "  File \"/usr/local/lib/python3.8/dist-packages/py4j/protocol.py\", line 326, in get_return_value\n",
      "    raise Py4JJavaError(\n",
      "py4j.protocol.Py4JJavaError: An error occurred while calling o210.analyze.\n",
      ": java.lang.IllegalStateException: There are more than two properties belong to the same key: DEP_GOVERNOR\n",
      "\tat kr.bydelta.koala.data.CanHaveProperty.setProperty$koalanlp_core(data.kt:116)\n",
      "\tat kr.bydelta.koala.data.DepEdge.<init>(data.kt:680)\n",
      "\tat kr.bydelta.koala.kkma.Parser.attachProperty(proc.kt:283)\n",
      "\tat kr.bydelta.koala.kkma.Parser.attachProperty(proc.kt:201)\n",
      "\tat kr.bydelta.koala.proc.CanAnalyzeProperty$DefaultImpls.analyze(processors.kt:636)\n",
      "\tat kr.bydelta.koala.proc.CanParseDependency$DefaultImpls.analyze(processors.kt)\n",
      "\tat kr.bydelta.koala.kkma.Parser.analyze(proc.kt:201)\n",
      "\tat jdk.internal.reflect.GeneratedMethodAccessor33.invoke(Unknown Source)\n",
      "\tat java.base/jdk.internal.reflect.DelegatingMethodAccessorImpl.invoke(DelegatingMethodAccessorImpl.java:43)\n",
      "\tat java.base/java.lang.reflect.Method.invoke(Method.java:566)\n",
      "\tat py4j.reflection.MethodInvoker.invoke(MethodInvoker.java:244)\n",
      "\tat py4j.reflection.ReflectionEngine.invoke(ReflectionEngine.java:357)\n",
      "\tat py4j.Gateway.invoke(Gateway.java:282)\n",
      "\tat py4j.commands.AbstractCommand.invokeMethod(AbstractCommand.java:132)\n",
      "\tat py4j.commands.CallCommand.execute(CallCommand.java:79)\n",
      "\tat py4j.GatewayConnection.run(GatewayConnection.java:238)\n",
      "\tat java.base/java.lang.Thread.run(Thread.java:829)\n",
      "\n"
     ]
    },
    {
     "name": "stdout",
     "output_type": "stream",
     "text": [
      "error occured\n"
     ]
    },
    {
     "name": "stderr",
     "output_type": "stream",
     "text": [
      "[root] Java에서 처리하던 중에 문제가 발생했습니다. 문제가 계속된다면, Issue를 등록해주세요.\n",
      "Traceback (most recent call last):\n",
      "  File \"/usr/local/lib/python3.8/dist-packages/koalanlp/proc.py\", line 237, in analyze\n",
      "    result.append(Sentence.fromJava(self.__api.analyze(ref)))\n",
      "  File \"/usr/local/lib/python3.8/dist-packages/py4j/java_gateway.py\", line 1322, in __call__\n",
      "    return_value = get_return_value(\n",
      "  File \"/usr/local/lib/python3.8/dist-packages/py4j/protocol.py\", line 326, in get_return_value\n",
      "    raise Py4JJavaError(\n",
      "py4j.protocol.Py4JJavaError: An error occurred while calling o210.analyze.\n",
      ": java.lang.IllegalStateException: There are more than two properties belong to the same key: DEP_GOVERNOR\n",
      "\tat kr.bydelta.koala.data.CanHaveProperty.setProperty$koalanlp_core(data.kt:116)\n",
      "\tat kr.bydelta.koala.data.DepEdge.<init>(data.kt:680)\n",
      "\tat kr.bydelta.koala.kkma.Parser.attachProperty(proc.kt:283)\n",
      "\tat kr.bydelta.koala.kkma.Parser.attachProperty(proc.kt:201)\n",
      "\tat kr.bydelta.koala.proc.CanAnalyzeProperty$DefaultImpls.analyze(processors.kt:636)\n",
      "\tat kr.bydelta.koala.proc.CanParseDependency$DefaultImpls.analyze(processors.kt)\n",
      "\tat kr.bydelta.koala.kkma.Parser.analyze(proc.kt:201)\n",
      "\tat jdk.internal.reflect.GeneratedMethodAccessor33.invoke(Unknown Source)\n",
      "\tat java.base/jdk.internal.reflect.DelegatingMethodAccessorImpl.invoke(DelegatingMethodAccessorImpl.java:43)\n",
      "\tat java.base/java.lang.reflect.Method.invoke(Method.java:566)\n",
      "\tat py4j.reflection.MethodInvoker.invoke(MethodInvoker.java:244)\n",
      "\tat py4j.reflection.ReflectionEngine.invoke(ReflectionEngine.java:357)\n",
      "\tat py4j.Gateway.invoke(Gateway.java:282)\n",
      "\tat py4j.commands.AbstractCommand.invokeMethod(AbstractCommand.java:132)\n",
      "\tat py4j.commands.CallCommand.execute(CallCommand.java:79)\n",
      "\tat py4j.GatewayConnection.run(GatewayConnection.java:238)\n",
      "\tat java.base/java.lang.Thread.run(Thread.java:829)\n",
      "\n"
     ]
    },
    {
     "name": "stdout",
     "output_type": "stream",
     "text": [
      "error occured\n"
     ]
    },
    {
     "name": "stderr",
     "output_type": "stream",
     "text": [
      "[root] Java에서 처리하던 중에 문제가 발생했습니다. 문제가 계속된다면, Issue를 등록해주세요.\n",
      "Traceback (most recent call last):\n",
      "  File \"/usr/local/lib/python3.8/dist-packages/koalanlp/proc.py\", line 237, in analyze\n",
      "    result.append(Sentence.fromJava(self.__api.analyze(ref)))\n",
      "  File \"/usr/local/lib/python3.8/dist-packages/py4j/java_gateway.py\", line 1322, in __call__\n",
      "    return_value = get_return_value(\n",
      "  File \"/usr/local/lib/python3.8/dist-packages/py4j/protocol.py\", line 326, in get_return_value\n",
      "    raise Py4JJavaError(\n",
      "py4j.protocol.Py4JJavaError: An error occurred while calling o210.analyze.\n",
      ": java.lang.IllegalStateException: There are more than two properties belong to the same key: DEP_GOVERNOR\n",
      "\tat kr.bydelta.koala.data.CanHaveProperty.setProperty$koalanlp_core(data.kt:116)\n",
      "\tat kr.bydelta.koala.data.DepEdge.<init>(data.kt:680)\n",
      "\tat kr.bydelta.koala.kkma.Parser.attachProperty(proc.kt:283)\n",
      "\tat kr.bydelta.koala.kkma.Parser.attachProperty(proc.kt:201)\n",
      "\tat kr.bydelta.koala.proc.CanAnalyzeProperty$DefaultImpls.analyze(processors.kt:636)\n",
      "\tat kr.bydelta.koala.proc.CanParseDependency$DefaultImpls.analyze(processors.kt)\n",
      "\tat kr.bydelta.koala.kkma.Parser.analyze(proc.kt:201)\n",
      "\tat jdk.internal.reflect.GeneratedMethodAccessor33.invoke(Unknown Source)\n",
      "\tat java.base/jdk.internal.reflect.DelegatingMethodAccessorImpl.invoke(DelegatingMethodAccessorImpl.java:43)\n",
      "\tat java.base/java.lang.reflect.Method.invoke(Method.java:566)\n",
      "\tat py4j.reflection.MethodInvoker.invoke(MethodInvoker.java:244)\n",
      "\tat py4j.reflection.ReflectionEngine.invoke(ReflectionEngine.java:357)\n",
      "\tat py4j.Gateway.invoke(Gateway.java:282)\n",
      "\tat py4j.commands.AbstractCommand.invokeMethod(AbstractCommand.java:132)\n",
      "\tat py4j.commands.CallCommand.execute(CallCommand.java:79)\n",
      "\tat py4j.GatewayConnection.run(GatewayConnection.java:238)\n",
      "\tat java.base/java.lang.Thread.run(Thread.java:829)\n",
      "\n"
     ]
    },
    {
     "name": "stdout",
     "output_type": "stream",
     "text": [
      "error occured\n"
     ]
    },
    {
     "name": "stderr",
     "output_type": "stream",
     "text": [
      "[root] Java에서 처리하던 중에 문제가 발생했습니다. 문제가 계속된다면, Issue를 등록해주세요.\n",
      "Traceback (most recent call last):\n",
      "  File \"/usr/local/lib/python3.8/dist-packages/koalanlp/proc.py\", line 237, in analyze\n",
      "    result.append(Sentence.fromJava(self.__api.analyze(ref)))\n",
      "  File \"/usr/local/lib/python3.8/dist-packages/py4j/java_gateway.py\", line 1322, in __call__\n",
      "    return_value = get_return_value(\n",
      "  File \"/usr/local/lib/python3.8/dist-packages/py4j/protocol.py\", line 326, in get_return_value\n",
      "    raise Py4JJavaError(\n",
      "py4j.protocol.Py4JJavaError: An error occurred while calling o210.analyze.\n",
      ": java.lang.IllegalStateException: There are more than two properties belong to the same key: DEP_GOVERNOR\n",
      "\tat kr.bydelta.koala.data.CanHaveProperty.setProperty$koalanlp_core(data.kt:116)\n",
      "\tat kr.bydelta.koala.data.DepEdge.<init>(data.kt:680)\n",
      "\tat kr.bydelta.koala.kkma.Parser.attachProperty(proc.kt:283)\n",
      "\tat kr.bydelta.koala.kkma.Parser.attachProperty(proc.kt:201)\n",
      "\tat kr.bydelta.koala.proc.CanAnalyzeProperty$DefaultImpls.analyze(processors.kt:636)\n",
      "\tat kr.bydelta.koala.proc.CanParseDependency$DefaultImpls.analyze(processors.kt)\n",
      "\tat kr.bydelta.koala.kkma.Parser.analyze(proc.kt:201)\n",
      "\tat jdk.internal.reflect.GeneratedMethodAccessor33.invoke(Unknown Source)\n",
      "\tat java.base/jdk.internal.reflect.DelegatingMethodAccessorImpl.invoke(DelegatingMethodAccessorImpl.java:43)\n",
      "\tat java.base/java.lang.reflect.Method.invoke(Method.java:566)\n",
      "\tat py4j.reflection.MethodInvoker.invoke(MethodInvoker.java:244)\n",
      "\tat py4j.reflection.ReflectionEngine.invoke(ReflectionEngine.java:357)\n",
      "\tat py4j.Gateway.invoke(Gateway.java:282)\n",
      "\tat py4j.commands.AbstractCommand.invokeMethod(AbstractCommand.java:132)\n",
      "\tat py4j.commands.CallCommand.execute(CallCommand.java:79)\n",
      "\tat py4j.GatewayConnection.run(GatewayConnection.java:238)\n",
      "\tat java.base/java.lang.Thread.run(Thread.java:829)\n",
      "\n"
     ]
    },
    {
     "name": "stdout",
     "output_type": "stream",
     "text": [
      "error occured\n"
     ]
    },
    {
     "name": "stderr",
     "output_type": "stream",
     "text": [
      "[root] Java에서 처리하던 중에 문제가 발생했습니다. 문제가 계속된다면, Issue를 등록해주세요.\n",
      "Traceback (most recent call last):\n",
      "  File \"/usr/local/lib/python3.8/dist-packages/koalanlp/proc.py\", line 237, in analyze\n",
      "    result.append(Sentence.fromJava(self.__api.analyze(ref)))\n",
      "  File \"/usr/local/lib/python3.8/dist-packages/py4j/java_gateway.py\", line 1322, in __call__\n",
      "    return_value = get_return_value(\n",
      "  File \"/usr/local/lib/python3.8/dist-packages/py4j/protocol.py\", line 326, in get_return_value\n",
      "    raise Py4JJavaError(\n",
      "py4j.protocol.Py4JJavaError: An error occurred while calling o210.analyze.\n",
      ": java.lang.IllegalStateException: There are more than two properties belong to the same key: DEP_GOVERNOR\n",
      "\tat kr.bydelta.koala.data.CanHaveProperty.setProperty$koalanlp_core(data.kt:116)\n",
      "\tat kr.bydelta.koala.data.DepEdge.<init>(data.kt:680)\n",
      "\tat kr.bydelta.koala.kkma.Parser.attachProperty(proc.kt:283)\n",
      "\tat kr.bydelta.koala.kkma.Parser.attachProperty(proc.kt:201)\n",
      "\tat kr.bydelta.koala.proc.CanAnalyzeProperty$DefaultImpls.analyze(processors.kt:636)\n",
      "\tat kr.bydelta.koala.proc.CanParseDependency$DefaultImpls.analyze(processors.kt)\n",
      "\tat kr.bydelta.koala.kkma.Parser.analyze(proc.kt:201)\n",
      "\tat jdk.internal.reflect.GeneratedMethodAccessor33.invoke(Unknown Source)\n",
      "\tat java.base/jdk.internal.reflect.DelegatingMethodAccessorImpl.invoke(DelegatingMethodAccessorImpl.java:43)\n",
      "\tat java.base/java.lang.reflect.Method.invoke(Method.java:566)\n",
      "\tat py4j.reflection.MethodInvoker.invoke(MethodInvoker.java:244)\n",
      "\tat py4j.reflection.ReflectionEngine.invoke(ReflectionEngine.java:357)\n",
      "\tat py4j.Gateway.invoke(Gateway.java:282)\n",
      "\tat py4j.commands.AbstractCommand.invokeMethod(AbstractCommand.java:132)\n",
      "\tat py4j.commands.CallCommand.execute(CallCommand.java:79)\n",
      "\tat py4j.GatewayConnection.run(GatewayConnection.java:238)\n",
      "\tat java.base/java.lang.Thread.run(Thread.java:829)\n",
      "\n"
     ]
    },
    {
     "name": "stdout",
     "output_type": "stream",
     "text": [
      "error occured\n"
     ]
    },
    {
     "name": "stderr",
     "output_type": "stream",
     "text": [
      "[root] Java에서 처리하던 중에 문제가 발생했습니다. 문제가 계속된다면, Issue를 등록해주세요.\n",
      "Traceback (most recent call last):\n",
      "  File \"/usr/local/lib/python3.8/dist-packages/koalanlp/proc.py\", line 237, in analyze\n",
      "    result.append(Sentence.fromJava(self.__api.analyze(ref)))\n",
      "  File \"/usr/local/lib/python3.8/dist-packages/py4j/java_gateway.py\", line 1322, in __call__\n",
      "    return_value = get_return_value(\n",
      "  File \"/usr/local/lib/python3.8/dist-packages/py4j/protocol.py\", line 326, in get_return_value\n",
      "    raise Py4JJavaError(\n",
      "py4j.protocol.Py4JJavaError: An error occurred while calling o210.analyze.\n",
      ": java.lang.IllegalStateException: There are more than two properties belong to the same key: DEP_GOVERNOR\n",
      "\tat kr.bydelta.koala.data.CanHaveProperty.setProperty$koalanlp_core(data.kt:116)\n",
      "\tat kr.bydelta.koala.data.DepEdge.<init>(data.kt:680)\n",
      "\tat kr.bydelta.koala.kkma.Parser.attachProperty(proc.kt:283)\n",
      "\tat kr.bydelta.koala.kkma.Parser.attachProperty(proc.kt:201)\n",
      "\tat kr.bydelta.koala.proc.CanAnalyzeProperty$DefaultImpls.analyze(processors.kt:636)\n",
      "\tat kr.bydelta.koala.proc.CanParseDependency$DefaultImpls.analyze(processors.kt)\n",
      "\tat kr.bydelta.koala.kkma.Parser.analyze(proc.kt:201)\n",
      "\tat jdk.internal.reflect.GeneratedMethodAccessor33.invoke(Unknown Source)\n",
      "\tat java.base/jdk.internal.reflect.DelegatingMethodAccessorImpl.invoke(DelegatingMethodAccessorImpl.java:43)\n",
      "\tat java.base/java.lang.reflect.Method.invoke(Method.java:566)\n",
      "\tat py4j.reflection.MethodInvoker.invoke(MethodInvoker.java:244)\n",
      "\tat py4j.reflection.ReflectionEngine.invoke(ReflectionEngine.java:357)\n",
      "\tat py4j.Gateway.invoke(Gateway.java:282)\n",
      "\tat py4j.commands.AbstractCommand.invokeMethod(AbstractCommand.java:132)\n",
      "\tat py4j.commands.CallCommand.execute(CallCommand.java:79)\n",
      "\tat py4j.GatewayConnection.run(GatewayConnection.java:238)\n",
      "\tat java.base/java.lang.Thread.run(Thread.java:829)\n",
      "\n"
     ]
    },
    {
     "name": "stdout",
     "output_type": "stream",
     "text": [
      "error occured\n"
     ]
    },
    {
     "name": "stderr",
     "output_type": "stream",
     "text": [
      "[root] Java에서 처리하던 중에 문제가 발생했습니다. 문제가 계속된다면, Issue를 등록해주세요.\n",
      "Traceback (most recent call last):\n",
      "  File \"/usr/local/lib/python3.8/dist-packages/koalanlp/proc.py\", line 237, in analyze\n",
      "    result.append(Sentence.fromJava(self.__api.analyze(ref)))\n",
      "  File \"/usr/local/lib/python3.8/dist-packages/py4j/java_gateway.py\", line 1322, in __call__\n",
      "    return_value = get_return_value(\n",
      "  File \"/usr/local/lib/python3.8/dist-packages/py4j/protocol.py\", line 326, in get_return_value\n",
      "    raise Py4JJavaError(\n",
      "py4j.protocol.Py4JJavaError: An error occurred while calling o210.analyze.\n",
      ": java.lang.IllegalStateException: There are more than two properties belong to the same key: DEP_GOVERNOR\n",
      "\tat kr.bydelta.koala.data.CanHaveProperty.setProperty$koalanlp_core(data.kt:116)\n",
      "\tat kr.bydelta.koala.data.DepEdge.<init>(data.kt:680)\n",
      "\tat kr.bydelta.koala.kkma.Parser.attachProperty(proc.kt:283)\n",
      "\tat kr.bydelta.koala.kkma.Parser.attachProperty(proc.kt:201)\n",
      "\tat kr.bydelta.koala.proc.CanAnalyzeProperty$DefaultImpls.analyze(processors.kt:636)\n",
      "\tat kr.bydelta.koala.proc.CanParseDependency$DefaultImpls.analyze(processors.kt)\n",
      "\tat kr.bydelta.koala.kkma.Parser.analyze(proc.kt:201)\n",
      "\tat jdk.internal.reflect.GeneratedMethodAccessor33.invoke(Unknown Source)\n",
      "\tat java.base/jdk.internal.reflect.DelegatingMethodAccessorImpl.invoke(DelegatingMethodAccessorImpl.java:43)\n",
      "\tat java.base/java.lang.reflect.Method.invoke(Method.java:566)\n",
      "\tat py4j.reflection.MethodInvoker.invoke(MethodInvoker.java:244)\n",
      "\tat py4j.reflection.ReflectionEngine.invoke(ReflectionEngine.java:357)\n",
      "\tat py4j.Gateway.invoke(Gateway.java:282)\n",
      "\tat py4j.commands.AbstractCommand.invokeMethod(AbstractCommand.java:132)\n",
      "\tat py4j.commands.CallCommand.execute(CallCommand.java:79)\n",
      "\tat py4j.GatewayConnection.run(GatewayConnection.java:238)\n",
      "\tat java.base/java.lang.Thread.run(Thread.java:829)\n",
      "\n"
     ]
    },
    {
     "name": "stdout",
     "output_type": "stream",
     "text": [
      "error occured\n",
      "\n",
      "20th batch succeed\n",
      "21th process start\n"
     ]
    },
    {
     "data": {
      "application/vnd.jupyter.widget-view+json": {
       "model_id": "41acd8b46d754d6789bf25984543b6bd",
       "version_major": 2,
       "version_minor": 0
      },
      "text/plain": [
       "HBox(children=(FloatProgress(value=0.0, max=10001.0), HTML(value='')))"
      ]
     },
     "metadata": {},
     "output_type": "display_data"
    },
    {
     "name": "stderr",
     "output_type": "stream",
     "text": [
      "[root] Java에서 처리하던 중에 문제가 발생했습니다. 문제가 계속된다면, Issue를 등록해주세요.\n",
      "Traceback (most recent call last):\n",
      "  File \"/usr/local/lib/python3.8/dist-packages/koalanlp/proc.py\", line 237, in analyze\n",
      "    result.append(Sentence.fromJava(self.__api.analyze(ref)))\n",
      "  File \"/usr/local/lib/python3.8/dist-packages/py4j/java_gateway.py\", line 1322, in __call__\n",
      "    return_value = get_return_value(\n",
      "  File \"/usr/local/lib/python3.8/dist-packages/py4j/protocol.py\", line 326, in get_return_value\n",
      "    raise Py4JJavaError(\n",
      "py4j.protocol.Py4JJavaError: An error occurred while calling o210.analyze.\n",
      ": java.lang.IllegalStateException: There are more than two properties belong to the same key: DEP_GOVERNOR\n",
      "\tat kr.bydelta.koala.data.CanHaveProperty.setProperty$koalanlp_core(data.kt:116)\n",
      "\tat kr.bydelta.koala.data.DepEdge.<init>(data.kt:680)\n",
      "\tat kr.bydelta.koala.kkma.Parser.attachProperty(proc.kt:283)\n",
      "\tat kr.bydelta.koala.kkma.Parser.attachProperty(proc.kt:201)\n",
      "\tat kr.bydelta.koala.proc.CanAnalyzeProperty$DefaultImpls.analyze(processors.kt:636)\n",
      "\tat kr.bydelta.koala.proc.CanParseDependency$DefaultImpls.analyze(processors.kt)\n",
      "\tat kr.bydelta.koala.kkma.Parser.analyze(proc.kt:201)\n",
      "\tat jdk.internal.reflect.GeneratedMethodAccessor33.invoke(Unknown Source)\n",
      "\tat java.base/jdk.internal.reflect.DelegatingMethodAccessorImpl.invoke(DelegatingMethodAccessorImpl.java:43)\n",
      "\tat java.base/java.lang.reflect.Method.invoke(Method.java:566)\n",
      "\tat py4j.reflection.MethodInvoker.invoke(MethodInvoker.java:244)\n",
      "\tat py4j.reflection.ReflectionEngine.invoke(ReflectionEngine.java:357)\n",
      "\tat py4j.Gateway.invoke(Gateway.java:282)\n",
      "\tat py4j.commands.AbstractCommand.invokeMethod(AbstractCommand.java:132)\n",
      "\tat py4j.commands.CallCommand.execute(CallCommand.java:79)\n",
      "\tat py4j.GatewayConnection.run(GatewayConnection.java:238)\n",
      "\tat java.base/java.lang.Thread.run(Thread.java:829)\n",
      "\n"
     ]
    },
    {
     "name": "stdout",
     "output_type": "stream",
     "text": [
      "error occured\n"
     ]
    },
    {
     "name": "stderr",
     "output_type": "stream",
     "text": [
      "[root] Java에서 처리하던 중에 문제가 발생했습니다. 문제가 계속된다면, Issue를 등록해주세요.\n",
      "Traceback (most recent call last):\n",
      "  File \"/usr/local/lib/python3.8/dist-packages/koalanlp/proc.py\", line 237, in analyze\n",
      "    result.append(Sentence.fromJava(self.__api.analyze(ref)))\n",
      "  File \"/usr/local/lib/python3.8/dist-packages/py4j/java_gateway.py\", line 1322, in __call__\n",
      "    return_value = get_return_value(\n",
      "  File \"/usr/local/lib/python3.8/dist-packages/py4j/protocol.py\", line 326, in get_return_value\n",
      "    raise Py4JJavaError(\n",
      "py4j.protocol.Py4JJavaError: An error occurred while calling o210.analyze.\n",
      ": java.lang.IllegalStateException: There are more than two properties belong to the same key: DEP_GOVERNOR\n",
      "\tat kr.bydelta.koala.data.CanHaveProperty.setProperty$koalanlp_core(data.kt:116)\n",
      "\tat kr.bydelta.koala.data.DepEdge.<init>(data.kt:680)\n",
      "\tat kr.bydelta.koala.kkma.Parser.attachProperty(proc.kt:283)\n",
      "\tat kr.bydelta.koala.kkma.Parser.attachProperty(proc.kt:201)\n",
      "\tat kr.bydelta.koala.proc.CanAnalyzeProperty$DefaultImpls.analyze(processors.kt:636)\n",
      "\tat kr.bydelta.koala.proc.CanParseDependency$DefaultImpls.analyze(processors.kt)\n",
      "\tat kr.bydelta.koala.kkma.Parser.analyze(proc.kt:201)\n",
      "\tat jdk.internal.reflect.GeneratedMethodAccessor33.invoke(Unknown Source)\n",
      "\tat java.base/jdk.internal.reflect.DelegatingMethodAccessorImpl.invoke(DelegatingMethodAccessorImpl.java:43)\n",
      "\tat java.base/java.lang.reflect.Method.invoke(Method.java:566)\n",
      "\tat py4j.reflection.MethodInvoker.invoke(MethodInvoker.java:244)\n",
      "\tat py4j.reflection.ReflectionEngine.invoke(ReflectionEngine.java:357)\n",
      "\tat py4j.Gateway.invoke(Gateway.java:282)\n",
      "\tat py4j.commands.AbstractCommand.invokeMethod(AbstractCommand.java:132)\n",
      "\tat py4j.commands.CallCommand.execute(CallCommand.java:79)\n",
      "\tat py4j.GatewayConnection.run(GatewayConnection.java:238)\n",
      "\tat java.base/java.lang.Thread.run(Thread.java:829)\n",
      "\n"
     ]
    },
    {
     "name": "stdout",
     "output_type": "stream",
     "text": [
      "error occured\n"
     ]
    },
    {
     "name": "stderr",
     "output_type": "stream",
     "text": [
      "[root] Java에서 처리하던 중에 문제가 발생했습니다. 문제가 계속된다면, Issue를 등록해주세요.\n",
      "Traceback (most recent call last):\n",
      "  File \"/usr/local/lib/python3.8/dist-packages/koalanlp/proc.py\", line 237, in analyze\n",
      "    result.append(Sentence.fromJava(self.__api.analyze(ref)))\n",
      "  File \"/usr/local/lib/python3.8/dist-packages/py4j/java_gateway.py\", line 1322, in __call__\n",
      "    return_value = get_return_value(\n",
      "  File \"/usr/local/lib/python3.8/dist-packages/py4j/protocol.py\", line 326, in get_return_value\n",
      "    raise Py4JJavaError(\n",
      "py4j.protocol.Py4JJavaError: An error occurred while calling o210.analyze.\n",
      ": java.lang.IllegalStateException: There are more than two properties belong to the same key: DEP_GOVERNOR\n",
      "\tat kr.bydelta.koala.data.CanHaveProperty.setProperty$koalanlp_core(data.kt:116)\n",
      "\tat kr.bydelta.koala.data.DepEdge.<init>(data.kt:680)\n",
      "\tat kr.bydelta.koala.kkma.Parser.attachProperty(proc.kt:283)\n",
      "\tat kr.bydelta.koala.kkma.Parser.attachProperty(proc.kt:201)\n",
      "\tat kr.bydelta.koala.proc.CanAnalyzeProperty$DefaultImpls.analyze(processors.kt:636)\n",
      "\tat kr.bydelta.koala.proc.CanParseDependency$DefaultImpls.analyze(processors.kt)\n",
      "\tat kr.bydelta.koala.kkma.Parser.analyze(proc.kt:201)\n",
      "\tat jdk.internal.reflect.GeneratedMethodAccessor33.invoke(Unknown Source)\n",
      "\tat java.base/jdk.internal.reflect.DelegatingMethodAccessorImpl.invoke(DelegatingMethodAccessorImpl.java:43)\n",
      "\tat java.base/java.lang.reflect.Method.invoke(Method.java:566)\n",
      "\tat py4j.reflection.MethodInvoker.invoke(MethodInvoker.java:244)\n",
      "\tat py4j.reflection.ReflectionEngine.invoke(ReflectionEngine.java:357)\n",
      "\tat py4j.Gateway.invoke(Gateway.java:282)\n",
      "\tat py4j.commands.AbstractCommand.invokeMethod(AbstractCommand.java:132)\n",
      "\tat py4j.commands.CallCommand.execute(CallCommand.java:79)\n",
      "\tat py4j.GatewayConnection.run(GatewayConnection.java:238)\n",
      "\tat java.base/java.lang.Thread.run(Thread.java:829)\n",
      "\n"
     ]
    },
    {
     "name": "stdout",
     "output_type": "stream",
     "text": [
      "error occured\n"
     ]
    },
    {
     "name": "stderr",
     "output_type": "stream",
     "text": [
      "[root] Java에서 처리하던 중에 문제가 발생했습니다. 문제가 계속된다면, Issue를 등록해주세요.\n",
      "Traceback (most recent call last):\n",
      "  File \"/usr/local/lib/python3.8/dist-packages/koalanlp/proc.py\", line 237, in analyze\n",
      "    result.append(Sentence.fromJava(self.__api.analyze(ref)))\n",
      "  File \"/usr/local/lib/python3.8/dist-packages/py4j/java_gateway.py\", line 1322, in __call__\n",
      "    return_value = get_return_value(\n",
      "  File \"/usr/local/lib/python3.8/dist-packages/py4j/protocol.py\", line 326, in get_return_value\n",
      "    raise Py4JJavaError(\n",
      "py4j.protocol.Py4JJavaError: An error occurred while calling o210.analyze.\n",
      ": java.lang.IllegalStateException: There are more than two properties belong to the same key: DEP_GOVERNOR\n",
      "\tat kr.bydelta.koala.data.CanHaveProperty.setProperty$koalanlp_core(data.kt:116)\n",
      "\tat kr.bydelta.koala.data.DepEdge.<init>(data.kt:680)\n",
      "\tat kr.bydelta.koala.kkma.Parser.attachProperty(proc.kt:283)\n",
      "\tat kr.bydelta.koala.kkma.Parser.attachProperty(proc.kt:201)\n",
      "\tat kr.bydelta.koala.proc.CanAnalyzeProperty$DefaultImpls.analyze(processors.kt:636)\n",
      "\tat kr.bydelta.koala.proc.CanParseDependency$DefaultImpls.analyze(processors.kt)\n",
      "\tat kr.bydelta.koala.kkma.Parser.analyze(proc.kt:201)\n",
      "\tat jdk.internal.reflect.GeneratedMethodAccessor33.invoke(Unknown Source)\n",
      "\tat java.base/jdk.internal.reflect.DelegatingMethodAccessorImpl.invoke(DelegatingMethodAccessorImpl.java:43)\n",
      "\tat java.base/java.lang.reflect.Method.invoke(Method.java:566)\n",
      "\tat py4j.reflection.MethodInvoker.invoke(MethodInvoker.java:244)\n",
      "\tat py4j.reflection.ReflectionEngine.invoke(ReflectionEngine.java:357)\n",
      "\tat py4j.Gateway.invoke(Gateway.java:282)\n",
      "\tat py4j.commands.AbstractCommand.invokeMethod(AbstractCommand.java:132)\n",
      "\tat py4j.commands.CallCommand.execute(CallCommand.java:79)\n",
      "\tat py4j.GatewayConnection.run(GatewayConnection.java:238)\n",
      "\tat java.base/java.lang.Thread.run(Thread.java:829)\n",
      "\n"
     ]
    },
    {
     "name": "stdout",
     "output_type": "stream",
     "text": [
      "error occured\n",
      "\n",
      "21th batch succeed\n",
      "22th process start\n"
     ]
    },
    {
     "data": {
      "application/vnd.jupyter.widget-view+json": {
       "model_id": "0608a6a1b44e4393aed99d9fdff746e1",
       "version_major": 2,
       "version_minor": 0
      },
      "text/plain": [
       "HBox(children=(FloatProgress(value=0.0, max=10001.0), HTML(value='')))"
      ]
     },
     "metadata": {},
     "output_type": "display_data"
    },
    {
     "name": "stderr",
     "output_type": "stream",
     "text": [
      "[root] Java에서 처리하던 중에 문제가 발생했습니다. 문제가 계속된다면, Issue를 등록해주세요.\n",
      "Traceback (most recent call last):\n",
      "  File \"/usr/local/lib/python3.8/dist-packages/koalanlp/proc.py\", line 237, in analyze\n",
      "    result.append(Sentence.fromJava(self.__api.analyze(ref)))\n",
      "  File \"/usr/local/lib/python3.8/dist-packages/py4j/java_gateway.py\", line 1322, in __call__\n",
      "    return_value = get_return_value(\n",
      "  File \"/usr/local/lib/python3.8/dist-packages/py4j/protocol.py\", line 326, in get_return_value\n",
      "    raise Py4JJavaError(\n",
      "py4j.protocol.Py4JJavaError: An error occurred while calling o210.analyze.\n",
      ": java.lang.IllegalStateException: There are more than two properties belong to the same key: DEP_GOVERNOR\n",
      "\tat kr.bydelta.koala.data.CanHaveProperty.setProperty$koalanlp_core(data.kt:116)\n",
      "\tat kr.bydelta.koala.data.DepEdge.<init>(data.kt:680)\n",
      "\tat kr.bydelta.koala.kkma.Parser.attachProperty(proc.kt:283)\n",
      "\tat kr.bydelta.koala.kkma.Parser.attachProperty(proc.kt:201)\n",
      "\tat kr.bydelta.koala.proc.CanAnalyzeProperty$DefaultImpls.analyze(processors.kt:636)\n",
      "\tat kr.bydelta.koala.proc.CanParseDependency$DefaultImpls.analyze(processors.kt)\n",
      "\tat kr.bydelta.koala.kkma.Parser.analyze(proc.kt:201)\n",
      "\tat jdk.internal.reflect.GeneratedMethodAccessor33.invoke(Unknown Source)\n",
      "\tat java.base/jdk.internal.reflect.DelegatingMethodAccessorImpl.invoke(DelegatingMethodAccessorImpl.java:43)\n",
      "\tat java.base/java.lang.reflect.Method.invoke(Method.java:566)\n",
      "\tat py4j.reflection.MethodInvoker.invoke(MethodInvoker.java:244)\n",
      "\tat py4j.reflection.ReflectionEngine.invoke(ReflectionEngine.java:357)\n",
      "\tat py4j.Gateway.invoke(Gateway.java:282)\n",
      "\tat py4j.commands.AbstractCommand.invokeMethod(AbstractCommand.java:132)\n",
      "\tat py4j.commands.CallCommand.execute(CallCommand.java:79)\n",
      "\tat py4j.GatewayConnection.run(GatewayConnection.java:238)\n",
      "\tat java.base/java.lang.Thread.run(Thread.java:829)\n",
      "\n"
     ]
    },
    {
     "name": "stdout",
     "output_type": "stream",
     "text": [
      "error occured\n"
     ]
    },
    {
     "name": "stderr",
     "output_type": "stream",
     "text": [
      "[root] Java에서 처리하던 중에 문제가 발생했습니다. 문제가 계속된다면, Issue를 등록해주세요.\n",
      "Traceback (most recent call last):\n",
      "  File \"/usr/local/lib/python3.8/dist-packages/koalanlp/proc.py\", line 237, in analyze\n",
      "    result.append(Sentence.fromJava(self.__api.analyze(ref)))\n",
      "  File \"/usr/local/lib/python3.8/dist-packages/py4j/java_gateway.py\", line 1322, in __call__\n",
      "    return_value = get_return_value(\n",
      "  File \"/usr/local/lib/python3.8/dist-packages/py4j/protocol.py\", line 326, in get_return_value\n",
      "    raise Py4JJavaError(\n",
      "py4j.protocol.Py4JJavaError: An error occurred while calling o210.analyze.\n",
      ": java.lang.IllegalStateException: There are more than two properties belong to the same key: DEP_GOVERNOR\n",
      "\tat kr.bydelta.koala.data.CanHaveProperty.setProperty$koalanlp_core(data.kt:116)\n",
      "\tat kr.bydelta.koala.data.DepEdge.<init>(data.kt:680)\n",
      "\tat kr.bydelta.koala.kkma.Parser.attachProperty(proc.kt:283)\n",
      "\tat kr.bydelta.koala.kkma.Parser.attachProperty(proc.kt:201)\n",
      "\tat kr.bydelta.koala.proc.CanAnalyzeProperty$DefaultImpls.analyze(processors.kt:636)\n",
      "\tat kr.bydelta.koala.proc.CanParseDependency$DefaultImpls.analyze(processors.kt)\n",
      "\tat kr.bydelta.koala.kkma.Parser.analyze(proc.kt:201)\n",
      "\tat jdk.internal.reflect.GeneratedMethodAccessor33.invoke(Unknown Source)\n",
      "\tat java.base/jdk.internal.reflect.DelegatingMethodAccessorImpl.invoke(DelegatingMethodAccessorImpl.java:43)\n",
      "\tat java.base/java.lang.reflect.Method.invoke(Method.java:566)\n",
      "\tat py4j.reflection.MethodInvoker.invoke(MethodInvoker.java:244)\n",
      "\tat py4j.reflection.ReflectionEngine.invoke(ReflectionEngine.java:357)\n",
      "\tat py4j.Gateway.invoke(Gateway.java:282)\n",
      "\tat py4j.commands.AbstractCommand.invokeMethod(AbstractCommand.java:132)\n",
      "\tat py4j.commands.CallCommand.execute(CallCommand.java:79)\n",
      "\tat py4j.GatewayConnection.run(GatewayConnection.java:238)\n",
      "\tat java.base/java.lang.Thread.run(Thread.java:829)\n",
      "\n"
     ]
    },
    {
     "name": "stdout",
     "output_type": "stream",
     "text": [
      "error occured\n"
     ]
    },
    {
     "name": "stderr",
     "output_type": "stream",
     "text": [
      "[root] Java에서 처리하던 중에 문제가 발생했습니다. 문제가 계속된다면, Issue를 등록해주세요.\n",
      "Traceback (most recent call last):\n",
      "  File \"/usr/local/lib/python3.8/dist-packages/koalanlp/proc.py\", line 237, in analyze\n",
      "    result.append(Sentence.fromJava(self.__api.analyze(ref)))\n",
      "  File \"/usr/local/lib/python3.8/dist-packages/py4j/java_gateway.py\", line 1322, in __call__\n",
      "    return_value = get_return_value(\n",
      "  File \"/usr/local/lib/python3.8/dist-packages/py4j/protocol.py\", line 326, in get_return_value\n",
      "    raise Py4JJavaError(\n",
      "py4j.protocol.Py4JJavaError: An error occurred while calling o210.analyze.\n",
      ": java.lang.IllegalStateException: There are more than two properties belong to the same key: DEP_GOVERNOR\n",
      "\tat kr.bydelta.koala.data.CanHaveProperty.setProperty$koalanlp_core(data.kt:116)\n",
      "\tat kr.bydelta.koala.data.DepEdge.<init>(data.kt:680)\n",
      "\tat kr.bydelta.koala.kkma.Parser.attachProperty(proc.kt:283)\n",
      "\tat kr.bydelta.koala.kkma.Parser.attachProperty(proc.kt:201)\n",
      "\tat kr.bydelta.koala.proc.CanAnalyzeProperty$DefaultImpls.analyze(processors.kt:636)\n",
      "\tat kr.bydelta.koala.proc.CanParseDependency$DefaultImpls.analyze(processors.kt)\n",
      "\tat kr.bydelta.koala.kkma.Parser.analyze(proc.kt:201)\n",
      "\tat jdk.internal.reflect.GeneratedMethodAccessor33.invoke(Unknown Source)\n",
      "\tat java.base/jdk.internal.reflect.DelegatingMethodAccessorImpl.invoke(DelegatingMethodAccessorImpl.java:43)\n",
      "\tat java.base/java.lang.reflect.Method.invoke(Method.java:566)\n",
      "\tat py4j.reflection.MethodInvoker.invoke(MethodInvoker.java:244)\n",
      "\tat py4j.reflection.ReflectionEngine.invoke(ReflectionEngine.java:357)\n",
      "\tat py4j.Gateway.invoke(Gateway.java:282)\n",
      "\tat py4j.commands.AbstractCommand.invokeMethod(AbstractCommand.java:132)\n",
      "\tat py4j.commands.CallCommand.execute(CallCommand.java:79)\n",
      "\tat py4j.GatewayConnection.run(GatewayConnection.java:238)\n",
      "\tat java.base/java.lang.Thread.run(Thread.java:829)\n",
      "\n"
     ]
    },
    {
     "name": "stdout",
     "output_type": "stream",
     "text": [
      "error occured\n"
     ]
    },
    {
     "name": "stderr",
     "output_type": "stream",
     "text": [
      "[root] Java에서 처리하던 중에 문제가 발생했습니다. 문제가 계속된다면, Issue를 등록해주세요.\n",
      "Traceback (most recent call last):\n",
      "  File \"/usr/local/lib/python3.8/dist-packages/koalanlp/proc.py\", line 237, in analyze\n",
      "    result.append(Sentence.fromJava(self.__api.analyze(ref)))\n",
      "  File \"/usr/local/lib/python3.8/dist-packages/py4j/java_gateway.py\", line 1322, in __call__\n",
      "    return_value = get_return_value(\n",
      "  File \"/usr/local/lib/python3.8/dist-packages/py4j/protocol.py\", line 326, in get_return_value\n",
      "    raise Py4JJavaError(\n",
      "py4j.protocol.Py4JJavaError: An error occurred while calling o210.analyze.\n",
      ": java.lang.IllegalStateException: There are more than two properties belong to the same key: DEP_GOVERNOR\n",
      "\tat kr.bydelta.koala.data.CanHaveProperty.setProperty$koalanlp_core(data.kt:116)\n",
      "\tat kr.bydelta.koala.data.DepEdge.<init>(data.kt:680)\n",
      "\tat kr.bydelta.koala.kkma.Parser.attachProperty(proc.kt:283)\n",
      "\tat kr.bydelta.koala.kkma.Parser.attachProperty(proc.kt:201)\n",
      "\tat kr.bydelta.koala.proc.CanAnalyzeProperty$DefaultImpls.analyze(processors.kt:636)\n",
      "\tat kr.bydelta.koala.proc.CanParseDependency$DefaultImpls.analyze(processors.kt)\n",
      "\tat kr.bydelta.koala.kkma.Parser.analyze(proc.kt:201)\n",
      "\tat jdk.internal.reflect.GeneratedMethodAccessor33.invoke(Unknown Source)\n",
      "\tat java.base/jdk.internal.reflect.DelegatingMethodAccessorImpl.invoke(DelegatingMethodAccessorImpl.java:43)\n",
      "\tat java.base/java.lang.reflect.Method.invoke(Method.java:566)\n",
      "\tat py4j.reflection.MethodInvoker.invoke(MethodInvoker.java:244)\n",
      "\tat py4j.reflection.ReflectionEngine.invoke(ReflectionEngine.java:357)\n",
      "\tat py4j.Gateway.invoke(Gateway.java:282)\n",
      "\tat py4j.commands.AbstractCommand.invokeMethod(AbstractCommand.java:132)\n",
      "\tat py4j.commands.CallCommand.execute(CallCommand.java:79)\n",
      "\tat py4j.GatewayConnection.run(GatewayConnection.java:238)\n",
      "\tat java.base/java.lang.Thread.run(Thread.java:829)\n",
      "\n"
     ]
    },
    {
     "name": "stdout",
     "output_type": "stream",
     "text": [
      "error occured\n"
     ]
    },
    {
     "name": "stderr",
     "output_type": "stream",
     "text": [
      "[root] Java에서 처리하던 중에 문제가 발생했습니다. 문제가 계속된다면, Issue를 등록해주세요.\n",
      "Traceback (most recent call last):\n",
      "  File \"/usr/local/lib/python3.8/dist-packages/koalanlp/proc.py\", line 237, in analyze\n",
      "    result.append(Sentence.fromJava(self.__api.analyze(ref)))\n",
      "  File \"/usr/local/lib/python3.8/dist-packages/py4j/java_gateway.py\", line 1322, in __call__\n",
      "    return_value = get_return_value(\n",
      "  File \"/usr/local/lib/python3.8/dist-packages/py4j/protocol.py\", line 326, in get_return_value\n",
      "    raise Py4JJavaError(\n",
      "py4j.protocol.Py4JJavaError: An error occurred while calling o210.analyze.\n",
      ": java.lang.IllegalStateException: There are more than two properties belong to the same key: DEP_GOVERNOR\n",
      "\tat kr.bydelta.koala.data.CanHaveProperty.setProperty$koalanlp_core(data.kt:116)\n",
      "\tat kr.bydelta.koala.data.DepEdge.<init>(data.kt:680)\n",
      "\tat kr.bydelta.koala.kkma.Parser.attachProperty(proc.kt:283)\n",
      "\tat kr.bydelta.koala.kkma.Parser.attachProperty(proc.kt:201)\n",
      "\tat kr.bydelta.koala.proc.CanAnalyzeProperty$DefaultImpls.analyze(processors.kt:636)\n",
      "\tat kr.bydelta.koala.proc.CanParseDependency$DefaultImpls.analyze(processors.kt)\n",
      "\tat kr.bydelta.koala.kkma.Parser.analyze(proc.kt:201)\n",
      "\tat jdk.internal.reflect.GeneratedMethodAccessor33.invoke(Unknown Source)\n",
      "\tat java.base/jdk.internal.reflect.DelegatingMethodAccessorImpl.invoke(DelegatingMethodAccessorImpl.java:43)\n",
      "\tat java.base/java.lang.reflect.Method.invoke(Method.java:566)\n",
      "\tat py4j.reflection.MethodInvoker.invoke(MethodInvoker.java:244)\n",
      "\tat py4j.reflection.ReflectionEngine.invoke(ReflectionEngine.java:357)\n",
      "\tat py4j.Gateway.invoke(Gateway.java:282)\n",
      "\tat py4j.commands.AbstractCommand.invokeMethod(AbstractCommand.java:132)\n",
      "\tat py4j.commands.CallCommand.execute(CallCommand.java:79)\n",
      "\tat py4j.GatewayConnection.run(GatewayConnection.java:238)\n",
      "\tat java.base/java.lang.Thread.run(Thread.java:829)\n",
      "\n"
     ]
    },
    {
     "name": "stdout",
     "output_type": "stream",
     "text": [
      "error occured\n",
      "\n",
      "22th batch succeed\n",
      "23th process start\n"
     ]
    },
    {
     "data": {
      "application/vnd.jupyter.widget-view+json": {
       "model_id": "beb82693ffa5488e9fe3a1cb4af80af2",
       "version_major": 2,
       "version_minor": 0
      },
      "text/plain": [
       "HBox(children=(FloatProgress(value=0.0, max=10001.0), HTML(value='')))"
      ]
     },
     "metadata": {},
     "output_type": "display_data"
    },
    {
     "name": "stderr",
     "output_type": "stream",
     "text": [
      "[root] Java에서 처리하던 중에 문제가 발생했습니다. 문제가 계속된다면, Issue를 등록해주세요.\n",
      "Traceback (most recent call last):\n",
      "  File \"/usr/local/lib/python3.8/dist-packages/koalanlp/proc.py\", line 237, in analyze\n",
      "    result.append(Sentence.fromJava(self.__api.analyze(ref)))\n",
      "  File \"/usr/local/lib/python3.8/dist-packages/py4j/java_gateway.py\", line 1322, in __call__\n",
      "    return_value = get_return_value(\n",
      "  File \"/usr/local/lib/python3.8/dist-packages/py4j/protocol.py\", line 326, in get_return_value\n",
      "    raise Py4JJavaError(\n",
      "py4j.protocol.Py4JJavaError: An error occurred while calling o210.analyze.\n",
      ": java.lang.IllegalStateException: There are more than two properties belong to the same key: DEP_GOVERNOR\n",
      "\tat kr.bydelta.koala.data.CanHaveProperty.setProperty$koalanlp_core(data.kt:116)\n",
      "\tat kr.bydelta.koala.data.DepEdge.<init>(data.kt:680)\n",
      "\tat kr.bydelta.koala.kkma.Parser.attachProperty(proc.kt:283)\n",
      "\tat kr.bydelta.koala.kkma.Parser.attachProperty(proc.kt:201)\n",
      "\tat kr.bydelta.koala.proc.CanAnalyzeProperty$DefaultImpls.analyze(processors.kt:636)\n",
      "\tat kr.bydelta.koala.proc.CanParseDependency$DefaultImpls.analyze(processors.kt)\n",
      "\tat kr.bydelta.koala.kkma.Parser.analyze(proc.kt:201)\n",
      "\tat jdk.internal.reflect.GeneratedMethodAccessor33.invoke(Unknown Source)\n",
      "\tat java.base/jdk.internal.reflect.DelegatingMethodAccessorImpl.invoke(DelegatingMethodAccessorImpl.java:43)\n",
      "\tat java.base/java.lang.reflect.Method.invoke(Method.java:566)\n",
      "\tat py4j.reflection.MethodInvoker.invoke(MethodInvoker.java:244)\n",
      "\tat py4j.reflection.ReflectionEngine.invoke(ReflectionEngine.java:357)\n",
      "\tat py4j.Gateway.invoke(Gateway.java:282)\n",
      "\tat py4j.commands.AbstractCommand.invokeMethod(AbstractCommand.java:132)\n",
      "\tat py4j.commands.CallCommand.execute(CallCommand.java:79)\n",
      "\tat py4j.GatewayConnection.run(GatewayConnection.java:238)\n",
      "\tat java.base/java.lang.Thread.run(Thread.java:829)\n",
      "\n"
     ]
    },
    {
     "name": "stdout",
     "output_type": "stream",
     "text": [
      "error occured\n"
     ]
    },
    {
     "name": "stderr",
     "output_type": "stream",
     "text": [
      "[root] Java에서 처리하던 중에 문제가 발생했습니다. 문제가 계속된다면, Issue를 등록해주세요.\n",
      "Traceback (most recent call last):\n",
      "  File \"/usr/local/lib/python3.8/dist-packages/koalanlp/proc.py\", line 237, in analyze\n",
      "    result.append(Sentence.fromJava(self.__api.analyze(ref)))\n",
      "  File \"/usr/local/lib/python3.8/dist-packages/py4j/java_gateway.py\", line 1322, in __call__\n",
      "    return_value = get_return_value(\n",
      "  File \"/usr/local/lib/python3.8/dist-packages/py4j/protocol.py\", line 326, in get_return_value\n",
      "    raise Py4JJavaError(\n",
      "py4j.protocol.Py4JJavaError: An error occurred while calling o210.analyze.\n",
      ": java.lang.IllegalStateException: There are more than two properties belong to the same key: DEP_GOVERNOR\n",
      "\tat kr.bydelta.koala.data.CanHaveProperty.setProperty$koalanlp_core(data.kt:116)\n",
      "\tat kr.bydelta.koala.data.DepEdge.<init>(data.kt:680)\n",
      "\tat kr.bydelta.koala.kkma.Parser.attachProperty(proc.kt:283)\n",
      "\tat kr.bydelta.koala.kkma.Parser.attachProperty(proc.kt:201)\n",
      "\tat kr.bydelta.koala.proc.CanAnalyzeProperty$DefaultImpls.analyze(processors.kt:636)\n",
      "\tat kr.bydelta.koala.proc.CanParseDependency$DefaultImpls.analyze(processors.kt)\n",
      "\tat kr.bydelta.koala.kkma.Parser.analyze(proc.kt:201)\n",
      "\tat jdk.internal.reflect.GeneratedMethodAccessor33.invoke(Unknown Source)\n",
      "\tat java.base/jdk.internal.reflect.DelegatingMethodAccessorImpl.invoke(DelegatingMethodAccessorImpl.java:43)\n",
      "\tat java.base/java.lang.reflect.Method.invoke(Method.java:566)\n",
      "\tat py4j.reflection.MethodInvoker.invoke(MethodInvoker.java:244)\n",
      "\tat py4j.reflection.ReflectionEngine.invoke(ReflectionEngine.java:357)\n",
      "\tat py4j.Gateway.invoke(Gateway.java:282)\n",
      "\tat py4j.commands.AbstractCommand.invokeMethod(AbstractCommand.java:132)\n",
      "\tat py4j.commands.CallCommand.execute(CallCommand.java:79)\n",
      "\tat py4j.GatewayConnection.run(GatewayConnection.java:238)\n",
      "\tat java.base/java.lang.Thread.run(Thread.java:829)\n",
      "\n"
     ]
    },
    {
     "name": "stdout",
     "output_type": "stream",
     "text": [
      "error occured\n"
     ]
    },
    {
     "name": "stderr",
     "output_type": "stream",
     "text": [
      "[root] Java에서 처리하던 중에 문제가 발생했습니다. 문제가 계속된다면, Issue를 등록해주세요.\n",
      "Traceback (most recent call last):\n",
      "  File \"/usr/local/lib/python3.8/dist-packages/koalanlp/proc.py\", line 237, in analyze\n",
      "    result.append(Sentence.fromJava(self.__api.analyze(ref)))\n",
      "  File \"/usr/local/lib/python3.8/dist-packages/py4j/java_gateway.py\", line 1322, in __call__\n",
      "    return_value = get_return_value(\n",
      "  File \"/usr/local/lib/python3.8/dist-packages/py4j/protocol.py\", line 326, in get_return_value\n",
      "    raise Py4JJavaError(\n",
      "py4j.protocol.Py4JJavaError: An error occurred while calling o210.analyze.\n",
      ": java.lang.IllegalStateException: There are more than two properties belong to the same key: DEP_GOVERNOR\n",
      "\tat kr.bydelta.koala.data.CanHaveProperty.setProperty$koalanlp_core(data.kt:116)\n",
      "\tat kr.bydelta.koala.data.DepEdge.<init>(data.kt:680)\n",
      "\tat kr.bydelta.koala.kkma.Parser.attachProperty(proc.kt:283)\n",
      "\tat kr.bydelta.koala.kkma.Parser.attachProperty(proc.kt:201)\n",
      "\tat kr.bydelta.koala.proc.CanAnalyzeProperty$DefaultImpls.analyze(processors.kt:636)\n",
      "\tat kr.bydelta.koala.proc.CanParseDependency$DefaultImpls.analyze(processors.kt)\n",
      "\tat kr.bydelta.koala.kkma.Parser.analyze(proc.kt:201)\n",
      "\tat jdk.internal.reflect.GeneratedMethodAccessor33.invoke(Unknown Source)\n",
      "\tat java.base/jdk.internal.reflect.DelegatingMethodAccessorImpl.invoke(DelegatingMethodAccessorImpl.java:43)\n",
      "\tat java.base/java.lang.reflect.Method.invoke(Method.java:566)\n",
      "\tat py4j.reflection.MethodInvoker.invoke(MethodInvoker.java:244)\n",
      "\tat py4j.reflection.ReflectionEngine.invoke(ReflectionEngine.java:357)\n",
      "\tat py4j.Gateway.invoke(Gateway.java:282)\n",
      "\tat py4j.commands.AbstractCommand.invokeMethod(AbstractCommand.java:132)\n",
      "\tat py4j.commands.CallCommand.execute(CallCommand.java:79)\n",
      "\tat py4j.GatewayConnection.run(GatewayConnection.java:238)\n",
      "\tat java.base/java.lang.Thread.run(Thread.java:829)\n",
      "\n"
     ]
    },
    {
     "name": "stdout",
     "output_type": "stream",
     "text": [
      "error occured\n"
     ]
    },
    {
     "name": "stderr",
     "output_type": "stream",
     "text": [
      "[root] Java에서 처리하던 중에 문제가 발생했습니다. 문제가 계속된다면, Issue를 등록해주세요.\n",
      "Traceback (most recent call last):\n",
      "  File \"/usr/local/lib/python3.8/dist-packages/koalanlp/proc.py\", line 237, in analyze\n",
      "    result.append(Sentence.fromJava(self.__api.analyze(ref)))\n",
      "  File \"/usr/local/lib/python3.8/dist-packages/py4j/java_gateway.py\", line 1322, in __call__\n",
      "    return_value = get_return_value(\n",
      "  File \"/usr/local/lib/python3.8/dist-packages/py4j/protocol.py\", line 326, in get_return_value\n",
      "    raise Py4JJavaError(\n",
      "py4j.protocol.Py4JJavaError: An error occurred while calling o210.analyze.\n",
      ": java.lang.IllegalStateException: There are more than two properties belong to the same key: DEP_GOVERNOR\n",
      "\tat kr.bydelta.koala.data.CanHaveProperty.setProperty$koalanlp_core(data.kt:116)\n",
      "\tat kr.bydelta.koala.data.DepEdge.<init>(data.kt:680)\n",
      "\tat kr.bydelta.koala.kkma.Parser.attachProperty(proc.kt:283)\n",
      "\tat kr.bydelta.koala.kkma.Parser.attachProperty(proc.kt:201)\n",
      "\tat kr.bydelta.koala.proc.CanAnalyzeProperty$DefaultImpls.analyze(processors.kt:636)\n",
      "\tat kr.bydelta.koala.proc.CanParseDependency$DefaultImpls.analyze(processors.kt)\n",
      "\tat kr.bydelta.koala.kkma.Parser.analyze(proc.kt:201)\n",
      "\tat jdk.internal.reflect.GeneratedMethodAccessor33.invoke(Unknown Source)\n",
      "\tat java.base/jdk.internal.reflect.DelegatingMethodAccessorImpl.invoke(DelegatingMethodAccessorImpl.java:43)\n",
      "\tat java.base/java.lang.reflect.Method.invoke(Method.java:566)\n",
      "\tat py4j.reflection.MethodInvoker.invoke(MethodInvoker.java:244)\n",
      "\tat py4j.reflection.ReflectionEngine.invoke(ReflectionEngine.java:357)\n",
      "\tat py4j.Gateway.invoke(Gateway.java:282)\n",
      "\tat py4j.commands.AbstractCommand.invokeMethod(AbstractCommand.java:132)\n",
      "\tat py4j.commands.CallCommand.execute(CallCommand.java:79)\n",
      "\tat py4j.GatewayConnection.run(GatewayConnection.java:238)\n",
      "\tat java.base/java.lang.Thread.run(Thread.java:829)\n",
      "\n"
     ]
    },
    {
     "name": "stdout",
     "output_type": "stream",
     "text": [
      "error occured\n",
      "\n",
      "23th batch succeed\n",
      "24th process start\n"
     ]
    },
    {
     "data": {
      "application/vnd.jupyter.widget-view+json": {
       "model_id": "68588f1b51eb41a28d44310a7e56b574",
       "version_major": 2,
       "version_minor": 0
      },
      "text/plain": [
       "HBox(children=(FloatProgress(value=0.0, max=10001.0), HTML(value='')))"
      ]
     },
     "metadata": {},
     "output_type": "display_data"
    },
    {
     "name": "stderr",
     "output_type": "stream",
     "text": [
      "[root] Java에서 처리하던 중에 문제가 발생했습니다. 문제가 계속된다면, Issue를 등록해주세요.\n",
      "Traceback (most recent call last):\n",
      "  File \"/usr/local/lib/python3.8/dist-packages/koalanlp/proc.py\", line 237, in analyze\n",
      "    result.append(Sentence.fromJava(self.__api.analyze(ref)))\n",
      "  File \"/usr/local/lib/python3.8/dist-packages/py4j/java_gateway.py\", line 1322, in __call__\n",
      "    return_value = get_return_value(\n",
      "  File \"/usr/local/lib/python3.8/dist-packages/py4j/protocol.py\", line 326, in get_return_value\n",
      "    raise Py4JJavaError(\n",
      "py4j.protocol.Py4JJavaError: An error occurred while calling o210.analyze.\n",
      ": java.lang.IllegalStateException: There are more than two properties belong to the same key: DEP_GOVERNOR\n",
      "\tat kr.bydelta.koala.data.CanHaveProperty.setProperty$koalanlp_core(data.kt:116)\n",
      "\tat kr.bydelta.koala.data.DepEdge.<init>(data.kt:680)\n",
      "\tat kr.bydelta.koala.kkma.Parser.attachProperty(proc.kt:283)\n",
      "\tat kr.bydelta.koala.kkma.Parser.attachProperty(proc.kt:201)\n",
      "\tat kr.bydelta.koala.proc.CanAnalyzeProperty$DefaultImpls.analyze(processors.kt:636)\n",
      "\tat kr.bydelta.koala.proc.CanParseDependency$DefaultImpls.analyze(processors.kt)\n",
      "\tat kr.bydelta.koala.kkma.Parser.analyze(proc.kt:201)\n",
      "\tat jdk.internal.reflect.GeneratedMethodAccessor33.invoke(Unknown Source)\n",
      "\tat java.base/jdk.internal.reflect.DelegatingMethodAccessorImpl.invoke(DelegatingMethodAccessorImpl.java:43)\n",
      "\tat java.base/java.lang.reflect.Method.invoke(Method.java:566)\n",
      "\tat py4j.reflection.MethodInvoker.invoke(MethodInvoker.java:244)\n",
      "\tat py4j.reflection.ReflectionEngine.invoke(ReflectionEngine.java:357)\n",
      "\tat py4j.Gateway.invoke(Gateway.java:282)\n",
      "\tat py4j.commands.AbstractCommand.invokeMethod(AbstractCommand.java:132)\n",
      "\tat py4j.commands.CallCommand.execute(CallCommand.java:79)\n",
      "\tat py4j.GatewayConnection.run(GatewayConnection.java:238)\n",
      "\tat java.base/java.lang.Thread.run(Thread.java:829)\n",
      "\n"
     ]
    },
    {
     "name": "stdout",
     "output_type": "stream",
     "text": [
      "error occured\n"
     ]
    },
    {
     "name": "stderr",
     "output_type": "stream",
     "text": [
      "[root] Java에서 처리하던 중에 문제가 발생했습니다. 문제가 계속된다면, Issue를 등록해주세요.\n",
      "Traceback (most recent call last):\n",
      "  File \"/usr/local/lib/python3.8/dist-packages/koalanlp/proc.py\", line 237, in analyze\n",
      "    result.append(Sentence.fromJava(self.__api.analyze(ref)))\n",
      "  File \"/usr/local/lib/python3.8/dist-packages/py4j/java_gateway.py\", line 1322, in __call__\n",
      "    return_value = get_return_value(\n",
      "  File \"/usr/local/lib/python3.8/dist-packages/py4j/protocol.py\", line 326, in get_return_value\n",
      "    raise Py4JJavaError(\n",
      "py4j.protocol.Py4JJavaError: An error occurred while calling o210.analyze.\n",
      ": java.lang.IllegalStateException: There are more than two properties belong to the same key: DEP_GOVERNOR\n",
      "\tat kr.bydelta.koala.data.CanHaveProperty.setProperty$koalanlp_core(data.kt:116)\n",
      "\tat kr.bydelta.koala.data.DepEdge.<init>(data.kt:680)\n",
      "\tat kr.bydelta.koala.kkma.Parser.attachProperty(proc.kt:283)\n",
      "\tat kr.bydelta.koala.kkma.Parser.attachProperty(proc.kt:201)\n",
      "\tat kr.bydelta.koala.proc.CanAnalyzeProperty$DefaultImpls.analyze(processors.kt:636)\n",
      "\tat kr.bydelta.koala.proc.CanParseDependency$DefaultImpls.analyze(processors.kt)\n",
      "\tat kr.bydelta.koala.kkma.Parser.analyze(proc.kt:201)\n",
      "\tat jdk.internal.reflect.GeneratedMethodAccessor33.invoke(Unknown Source)\n",
      "\tat java.base/jdk.internal.reflect.DelegatingMethodAccessorImpl.invoke(DelegatingMethodAccessorImpl.java:43)\n",
      "\tat java.base/java.lang.reflect.Method.invoke(Method.java:566)\n",
      "\tat py4j.reflection.MethodInvoker.invoke(MethodInvoker.java:244)\n",
      "\tat py4j.reflection.ReflectionEngine.invoke(ReflectionEngine.java:357)\n",
      "\tat py4j.Gateway.invoke(Gateway.java:282)\n",
      "\tat py4j.commands.AbstractCommand.invokeMethod(AbstractCommand.java:132)\n",
      "\tat py4j.commands.CallCommand.execute(CallCommand.java:79)\n",
      "\tat py4j.GatewayConnection.run(GatewayConnection.java:238)\n",
      "\tat java.base/java.lang.Thread.run(Thread.java:829)\n",
      "\n"
     ]
    },
    {
     "name": "stdout",
     "output_type": "stream",
     "text": [
      "error occured\n"
     ]
    },
    {
     "name": "stderr",
     "output_type": "stream",
     "text": [
      "[root] Java에서 처리하던 중에 문제가 발생했습니다. 문제가 계속된다면, Issue를 등록해주세요.\n",
      "Traceback (most recent call last):\n",
      "  File \"/usr/local/lib/python3.8/dist-packages/koalanlp/proc.py\", line 237, in analyze\n",
      "    result.append(Sentence.fromJava(self.__api.analyze(ref)))\n",
      "  File \"/usr/local/lib/python3.8/dist-packages/py4j/java_gateway.py\", line 1322, in __call__\n",
      "    return_value = get_return_value(\n",
      "  File \"/usr/local/lib/python3.8/dist-packages/py4j/protocol.py\", line 326, in get_return_value\n",
      "    raise Py4JJavaError(\n",
      "py4j.protocol.Py4JJavaError: An error occurred while calling o210.analyze.\n",
      ": java.lang.IllegalStateException: There are more than two properties belong to the same key: DEP_GOVERNOR\n",
      "\tat kr.bydelta.koala.data.CanHaveProperty.setProperty$koalanlp_core(data.kt:116)\n",
      "\tat kr.bydelta.koala.data.DepEdge.<init>(data.kt:680)\n",
      "\tat kr.bydelta.koala.kkma.Parser.attachProperty(proc.kt:283)\n",
      "\tat kr.bydelta.koala.kkma.Parser.attachProperty(proc.kt:201)\n",
      "\tat kr.bydelta.koala.proc.CanAnalyzeProperty$DefaultImpls.analyze(processors.kt:636)\n",
      "\tat kr.bydelta.koala.proc.CanParseDependency$DefaultImpls.analyze(processors.kt)\n",
      "\tat kr.bydelta.koala.kkma.Parser.analyze(proc.kt:201)\n",
      "\tat jdk.internal.reflect.GeneratedMethodAccessor33.invoke(Unknown Source)\n",
      "\tat java.base/jdk.internal.reflect.DelegatingMethodAccessorImpl.invoke(DelegatingMethodAccessorImpl.java:43)\n",
      "\tat java.base/java.lang.reflect.Method.invoke(Method.java:566)\n",
      "\tat py4j.reflection.MethodInvoker.invoke(MethodInvoker.java:244)\n",
      "\tat py4j.reflection.ReflectionEngine.invoke(ReflectionEngine.java:357)\n",
      "\tat py4j.Gateway.invoke(Gateway.java:282)\n",
      "\tat py4j.commands.AbstractCommand.invokeMethod(AbstractCommand.java:132)\n",
      "\tat py4j.commands.CallCommand.execute(CallCommand.java:79)\n",
      "\tat py4j.GatewayConnection.run(GatewayConnection.java:238)\n",
      "\tat java.base/java.lang.Thread.run(Thread.java:829)\n",
      "\n"
     ]
    },
    {
     "name": "stdout",
     "output_type": "stream",
     "text": [
      "error occured\n",
      "\n",
      "24th batch succeed\n",
      "25th process start\n"
     ]
    },
    {
     "data": {
      "application/vnd.jupyter.widget-view+json": {
       "model_id": "e6294a9e966d40e3a08c69e4e44561e1",
       "version_major": 2,
       "version_minor": 0
      },
      "text/plain": [
       "HBox(children=(FloatProgress(value=0.0, max=10001.0), HTML(value='')))"
      ]
     },
     "metadata": {},
     "output_type": "display_data"
    },
    {
     "name": "stderr",
     "output_type": "stream",
     "text": [
      "[root] Java에서 처리하던 중에 문제가 발생했습니다. 문제가 계속된다면, Issue를 등록해주세요.\n",
      "Traceback (most recent call last):\n",
      "  File \"/usr/local/lib/python3.8/dist-packages/koalanlp/proc.py\", line 237, in analyze\n",
      "    result.append(Sentence.fromJava(self.__api.analyze(ref)))\n",
      "  File \"/usr/local/lib/python3.8/dist-packages/py4j/java_gateway.py\", line 1322, in __call__\n",
      "    return_value = get_return_value(\n",
      "  File \"/usr/local/lib/python3.8/dist-packages/py4j/protocol.py\", line 326, in get_return_value\n",
      "    raise Py4JJavaError(\n",
      "py4j.protocol.Py4JJavaError: An error occurred while calling o210.analyze.\n",
      ": java.lang.IllegalStateException: There are more than two properties belong to the same key: DEP_GOVERNOR\n",
      "\tat kr.bydelta.koala.data.CanHaveProperty.setProperty$koalanlp_core(data.kt:116)\n",
      "\tat kr.bydelta.koala.data.DepEdge.<init>(data.kt:680)\n",
      "\tat kr.bydelta.koala.kkma.Parser.attachProperty(proc.kt:283)\n",
      "\tat kr.bydelta.koala.kkma.Parser.attachProperty(proc.kt:201)\n",
      "\tat kr.bydelta.koala.proc.CanAnalyzeProperty$DefaultImpls.analyze(processors.kt:636)\n",
      "\tat kr.bydelta.koala.proc.CanParseDependency$DefaultImpls.analyze(processors.kt)\n",
      "\tat kr.bydelta.koala.kkma.Parser.analyze(proc.kt:201)\n",
      "\tat jdk.internal.reflect.GeneratedMethodAccessor33.invoke(Unknown Source)\n",
      "\tat java.base/jdk.internal.reflect.DelegatingMethodAccessorImpl.invoke(DelegatingMethodAccessorImpl.java:43)\n",
      "\tat java.base/java.lang.reflect.Method.invoke(Method.java:566)\n",
      "\tat py4j.reflection.MethodInvoker.invoke(MethodInvoker.java:244)\n",
      "\tat py4j.reflection.ReflectionEngine.invoke(ReflectionEngine.java:357)\n",
      "\tat py4j.Gateway.invoke(Gateway.java:282)\n",
      "\tat py4j.commands.AbstractCommand.invokeMethod(AbstractCommand.java:132)\n",
      "\tat py4j.commands.CallCommand.execute(CallCommand.java:79)\n",
      "\tat py4j.GatewayConnection.run(GatewayConnection.java:238)\n",
      "\tat java.base/java.lang.Thread.run(Thread.java:829)\n",
      "\n"
     ]
    },
    {
     "name": "stdout",
     "output_type": "stream",
     "text": [
      "error occured\n"
     ]
    },
    {
     "name": "stderr",
     "output_type": "stream",
     "text": [
      "[root] Java에서 처리하던 중에 문제가 발생했습니다. 문제가 계속된다면, Issue를 등록해주세요.\n",
      "Traceback (most recent call last):\n",
      "  File \"/usr/local/lib/python3.8/dist-packages/koalanlp/proc.py\", line 237, in analyze\n",
      "    result.append(Sentence.fromJava(self.__api.analyze(ref)))\n",
      "  File \"/usr/local/lib/python3.8/dist-packages/py4j/java_gateway.py\", line 1322, in __call__\n",
      "    return_value = get_return_value(\n",
      "  File \"/usr/local/lib/python3.8/dist-packages/py4j/protocol.py\", line 326, in get_return_value\n",
      "    raise Py4JJavaError(\n",
      "py4j.protocol.Py4JJavaError: An error occurred while calling o210.analyze.\n",
      ": java.lang.IllegalStateException: There are more than two properties belong to the same key: DEP_GOVERNOR\n",
      "\tat kr.bydelta.koala.data.CanHaveProperty.setProperty$koalanlp_core(data.kt:116)\n",
      "\tat kr.bydelta.koala.data.DepEdge.<init>(data.kt:680)\n",
      "\tat kr.bydelta.koala.kkma.Parser.attachProperty(proc.kt:283)\n",
      "\tat kr.bydelta.koala.kkma.Parser.attachProperty(proc.kt:201)\n",
      "\tat kr.bydelta.koala.proc.CanAnalyzeProperty$DefaultImpls.analyze(processors.kt:636)\n",
      "\tat kr.bydelta.koala.proc.CanParseDependency$DefaultImpls.analyze(processors.kt)\n",
      "\tat kr.bydelta.koala.kkma.Parser.analyze(proc.kt:201)\n",
      "\tat jdk.internal.reflect.GeneratedMethodAccessor33.invoke(Unknown Source)\n",
      "\tat java.base/jdk.internal.reflect.DelegatingMethodAccessorImpl.invoke(DelegatingMethodAccessorImpl.java:43)\n",
      "\tat java.base/java.lang.reflect.Method.invoke(Method.java:566)\n",
      "\tat py4j.reflection.MethodInvoker.invoke(MethodInvoker.java:244)\n",
      "\tat py4j.reflection.ReflectionEngine.invoke(ReflectionEngine.java:357)\n",
      "\tat py4j.Gateway.invoke(Gateway.java:282)\n",
      "\tat py4j.commands.AbstractCommand.invokeMethod(AbstractCommand.java:132)\n",
      "\tat py4j.commands.CallCommand.execute(CallCommand.java:79)\n",
      "\tat py4j.GatewayConnection.run(GatewayConnection.java:238)\n",
      "\tat java.base/java.lang.Thread.run(Thread.java:829)\n",
      "\n"
     ]
    },
    {
     "name": "stdout",
     "output_type": "stream",
     "text": [
      "error occured\n"
     ]
    },
    {
     "name": "stderr",
     "output_type": "stream",
     "text": [
      "[root] Java에서 처리하던 중에 문제가 발생했습니다. 문제가 계속된다면, Issue를 등록해주세요.\n",
      "Traceback (most recent call last):\n",
      "  File \"/usr/local/lib/python3.8/dist-packages/koalanlp/proc.py\", line 237, in analyze\n",
      "    result.append(Sentence.fromJava(self.__api.analyze(ref)))\n",
      "  File \"/usr/local/lib/python3.8/dist-packages/py4j/java_gateway.py\", line 1322, in __call__\n",
      "    return_value = get_return_value(\n",
      "  File \"/usr/local/lib/python3.8/dist-packages/py4j/protocol.py\", line 326, in get_return_value\n",
      "    raise Py4JJavaError(\n",
      "py4j.protocol.Py4JJavaError: An error occurred while calling o210.analyze.\n",
      ": java.lang.IllegalStateException: There are more than two properties belong to the same key: DEP_GOVERNOR\n",
      "\tat kr.bydelta.koala.data.CanHaveProperty.setProperty$koalanlp_core(data.kt:116)\n",
      "\tat kr.bydelta.koala.data.DepEdge.<init>(data.kt:680)\n",
      "\tat kr.bydelta.koala.kkma.Parser.attachProperty(proc.kt:283)\n",
      "\tat kr.bydelta.koala.kkma.Parser.attachProperty(proc.kt:201)\n",
      "\tat kr.bydelta.koala.proc.CanAnalyzeProperty$DefaultImpls.analyze(processors.kt:636)\n",
      "\tat kr.bydelta.koala.proc.CanParseDependency$DefaultImpls.analyze(processors.kt)\n",
      "\tat kr.bydelta.koala.kkma.Parser.analyze(proc.kt:201)\n",
      "\tat jdk.internal.reflect.GeneratedMethodAccessor33.invoke(Unknown Source)\n",
      "\tat java.base/jdk.internal.reflect.DelegatingMethodAccessorImpl.invoke(DelegatingMethodAccessorImpl.java:43)\n",
      "\tat java.base/java.lang.reflect.Method.invoke(Method.java:566)\n",
      "\tat py4j.reflection.MethodInvoker.invoke(MethodInvoker.java:244)\n",
      "\tat py4j.reflection.ReflectionEngine.invoke(ReflectionEngine.java:357)\n",
      "\tat py4j.Gateway.invoke(Gateway.java:282)\n",
      "\tat py4j.commands.AbstractCommand.invokeMethod(AbstractCommand.java:132)\n",
      "\tat py4j.commands.CallCommand.execute(CallCommand.java:79)\n",
      "\tat py4j.GatewayConnection.run(GatewayConnection.java:238)\n",
      "\tat java.base/java.lang.Thread.run(Thread.java:829)\n",
      "\n"
     ]
    },
    {
     "name": "stdout",
     "output_type": "stream",
     "text": [
      "error occured\n"
     ]
    },
    {
     "name": "stderr",
     "output_type": "stream",
     "text": [
      "[root] Java에서 처리하던 중에 문제가 발생했습니다. 문제가 계속된다면, Issue를 등록해주세요.\n",
      "Traceback (most recent call last):\n",
      "  File \"/usr/local/lib/python3.8/dist-packages/koalanlp/proc.py\", line 237, in analyze\n",
      "    result.append(Sentence.fromJava(self.__api.analyze(ref)))\n",
      "  File \"/usr/local/lib/python3.8/dist-packages/py4j/java_gateway.py\", line 1322, in __call__\n",
      "    return_value = get_return_value(\n",
      "  File \"/usr/local/lib/python3.8/dist-packages/py4j/protocol.py\", line 326, in get_return_value\n",
      "    raise Py4JJavaError(\n",
      "py4j.protocol.Py4JJavaError: An error occurred while calling o210.analyze.\n",
      ": java.lang.IllegalStateException: There are more than two properties belong to the same key: DEP_GOVERNOR\n",
      "\tat kr.bydelta.koala.data.CanHaveProperty.setProperty$koalanlp_core(data.kt:116)\n",
      "\tat kr.bydelta.koala.data.DepEdge.<init>(data.kt:680)\n",
      "\tat kr.bydelta.koala.kkma.Parser.attachProperty(proc.kt:283)\n",
      "\tat kr.bydelta.koala.kkma.Parser.attachProperty(proc.kt:201)\n",
      "\tat kr.bydelta.koala.proc.CanAnalyzeProperty$DefaultImpls.analyze(processors.kt:636)\n",
      "\tat kr.bydelta.koala.proc.CanParseDependency$DefaultImpls.analyze(processors.kt)\n",
      "\tat kr.bydelta.koala.kkma.Parser.analyze(proc.kt:201)\n",
      "\tat jdk.internal.reflect.GeneratedMethodAccessor33.invoke(Unknown Source)\n",
      "\tat java.base/jdk.internal.reflect.DelegatingMethodAccessorImpl.invoke(DelegatingMethodAccessorImpl.java:43)\n",
      "\tat java.base/java.lang.reflect.Method.invoke(Method.java:566)\n",
      "\tat py4j.reflection.MethodInvoker.invoke(MethodInvoker.java:244)\n",
      "\tat py4j.reflection.ReflectionEngine.invoke(ReflectionEngine.java:357)\n",
      "\tat py4j.Gateway.invoke(Gateway.java:282)\n",
      "\tat py4j.commands.AbstractCommand.invokeMethod(AbstractCommand.java:132)\n",
      "\tat py4j.commands.CallCommand.execute(CallCommand.java:79)\n",
      "\tat py4j.GatewayConnection.run(GatewayConnection.java:238)\n",
      "\tat java.base/java.lang.Thread.run(Thread.java:829)\n",
      "\n"
     ]
    },
    {
     "name": "stdout",
     "output_type": "stream",
     "text": [
      "error occured\n",
      "\n",
      "25th batch succeed\n",
      "26th process start\n"
     ]
    },
    {
     "data": {
      "application/vnd.jupyter.widget-view+json": {
       "model_id": "1d9f7e2809b744c981d19f1d53b74e83",
       "version_major": 2,
       "version_minor": 0
      },
      "text/plain": [
       "HBox(children=(FloatProgress(value=0.0, max=10001.0), HTML(value='')))"
      ]
     },
     "metadata": {},
     "output_type": "display_data"
    },
    {
     "name": "stderr",
     "output_type": "stream",
     "text": [
      "[root] Java에서 처리하던 중에 문제가 발생했습니다. 문제가 계속된다면, Issue를 등록해주세요.\n",
      "Traceback (most recent call last):\n",
      "  File \"/usr/local/lib/python3.8/dist-packages/koalanlp/proc.py\", line 237, in analyze\n",
      "    result.append(Sentence.fromJava(self.__api.analyze(ref)))\n",
      "  File \"/usr/local/lib/python3.8/dist-packages/py4j/java_gateway.py\", line 1322, in __call__\n",
      "    return_value = get_return_value(\n",
      "  File \"/usr/local/lib/python3.8/dist-packages/py4j/protocol.py\", line 326, in get_return_value\n",
      "    raise Py4JJavaError(\n",
      "py4j.protocol.Py4JJavaError: An error occurred while calling o210.analyze.\n",
      ": java.lang.IllegalStateException: There are more than two properties belong to the same key: DEP_GOVERNOR\n",
      "\tat kr.bydelta.koala.data.CanHaveProperty.setProperty$koalanlp_core(data.kt:116)\n",
      "\tat kr.bydelta.koala.data.DepEdge.<init>(data.kt:680)\n",
      "\tat kr.bydelta.koala.kkma.Parser.attachProperty(proc.kt:283)\n",
      "\tat kr.bydelta.koala.kkma.Parser.attachProperty(proc.kt:201)\n",
      "\tat kr.bydelta.koala.proc.CanAnalyzeProperty$DefaultImpls.analyze(processors.kt:636)\n",
      "\tat kr.bydelta.koala.proc.CanParseDependency$DefaultImpls.analyze(processors.kt)\n",
      "\tat kr.bydelta.koala.kkma.Parser.analyze(proc.kt:201)\n",
      "\tat jdk.internal.reflect.GeneratedMethodAccessor33.invoke(Unknown Source)\n",
      "\tat java.base/jdk.internal.reflect.DelegatingMethodAccessorImpl.invoke(DelegatingMethodAccessorImpl.java:43)\n",
      "\tat java.base/java.lang.reflect.Method.invoke(Method.java:566)\n",
      "\tat py4j.reflection.MethodInvoker.invoke(MethodInvoker.java:244)\n",
      "\tat py4j.reflection.ReflectionEngine.invoke(ReflectionEngine.java:357)\n",
      "\tat py4j.Gateway.invoke(Gateway.java:282)\n",
      "\tat py4j.commands.AbstractCommand.invokeMethod(AbstractCommand.java:132)\n",
      "\tat py4j.commands.CallCommand.execute(CallCommand.java:79)\n",
      "\tat py4j.GatewayConnection.run(GatewayConnection.java:238)\n",
      "\tat java.base/java.lang.Thread.run(Thread.java:829)\n",
      "\n"
     ]
    },
    {
     "name": "stdout",
     "output_type": "stream",
     "text": [
      "error occured\n"
     ]
    },
    {
     "name": "stderr",
     "output_type": "stream",
     "text": [
      "[root] Java에서 처리하던 중에 문제가 발생했습니다. 문제가 계속된다면, Issue를 등록해주세요.\n",
      "Traceback (most recent call last):\n",
      "  File \"/usr/local/lib/python3.8/dist-packages/koalanlp/proc.py\", line 237, in analyze\n",
      "    result.append(Sentence.fromJava(self.__api.analyze(ref)))\n",
      "  File \"/usr/local/lib/python3.8/dist-packages/py4j/java_gateway.py\", line 1322, in __call__\n",
      "    return_value = get_return_value(\n",
      "  File \"/usr/local/lib/python3.8/dist-packages/py4j/protocol.py\", line 326, in get_return_value\n",
      "    raise Py4JJavaError(\n",
      "py4j.protocol.Py4JJavaError: An error occurred while calling o210.analyze.\n",
      ": java.lang.IllegalStateException: There are more than two properties belong to the same key: DEP_GOVERNOR\n",
      "\tat kr.bydelta.koala.data.CanHaveProperty.setProperty$koalanlp_core(data.kt:116)\n",
      "\tat kr.bydelta.koala.data.DepEdge.<init>(data.kt:680)\n",
      "\tat kr.bydelta.koala.kkma.Parser.attachProperty(proc.kt:283)\n",
      "\tat kr.bydelta.koala.kkma.Parser.attachProperty(proc.kt:201)\n",
      "\tat kr.bydelta.koala.proc.CanAnalyzeProperty$DefaultImpls.analyze(processors.kt:636)\n",
      "\tat kr.bydelta.koala.proc.CanParseDependency$DefaultImpls.analyze(processors.kt)\n",
      "\tat kr.bydelta.koala.kkma.Parser.analyze(proc.kt:201)\n",
      "\tat jdk.internal.reflect.GeneratedMethodAccessor33.invoke(Unknown Source)\n",
      "\tat java.base/jdk.internal.reflect.DelegatingMethodAccessorImpl.invoke(DelegatingMethodAccessorImpl.java:43)\n",
      "\tat java.base/java.lang.reflect.Method.invoke(Method.java:566)\n",
      "\tat py4j.reflection.MethodInvoker.invoke(MethodInvoker.java:244)\n",
      "\tat py4j.reflection.ReflectionEngine.invoke(ReflectionEngine.java:357)\n",
      "\tat py4j.Gateway.invoke(Gateway.java:282)\n",
      "\tat py4j.commands.AbstractCommand.invokeMethod(AbstractCommand.java:132)\n",
      "\tat py4j.commands.CallCommand.execute(CallCommand.java:79)\n",
      "\tat py4j.GatewayConnection.run(GatewayConnection.java:238)\n",
      "\tat java.base/java.lang.Thread.run(Thread.java:829)\n",
      "\n"
     ]
    },
    {
     "name": "stdout",
     "output_type": "stream",
     "text": [
      "error occured\n"
     ]
    },
    {
     "name": "stderr",
     "output_type": "stream",
     "text": [
      "[root] Java에서 처리하던 중에 문제가 발생했습니다. 문제가 계속된다면, Issue를 등록해주세요.\n",
      "Traceback (most recent call last):\n",
      "  File \"/usr/local/lib/python3.8/dist-packages/koalanlp/proc.py\", line 237, in analyze\n",
      "    result.append(Sentence.fromJava(self.__api.analyze(ref)))\n",
      "  File \"/usr/local/lib/python3.8/dist-packages/py4j/java_gateway.py\", line 1322, in __call__\n",
      "    return_value = get_return_value(\n",
      "  File \"/usr/local/lib/python3.8/dist-packages/py4j/protocol.py\", line 326, in get_return_value\n",
      "    raise Py4JJavaError(\n",
      "py4j.protocol.Py4JJavaError: An error occurred while calling o210.analyze.\n",
      ": java.lang.IllegalStateException: There are more than two properties belong to the same key: DEP_GOVERNOR\n",
      "\tat kr.bydelta.koala.data.CanHaveProperty.setProperty$koalanlp_core(data.kt:116)\n",
      "\tat kr.bydelta.koala.data.DepEdge.<init>(data.kt:680)\n",
      "\tat kr.bydelta.koala.kkma.Parser.attachProperty(proc.kt:283)\n",
      "\tat kr.bydelta.koala.kkma.Parser.attachProperty(proc.kt:201)\n",
      "\tat kr.bydelta.koala.proc.CanAnalyzeProperty$DefaultImpls.analyze(processors.kt:636)\n",
      "\tat kr.bydelta.koala.proc.CanParseDependency$DefaultImpls.analyze(processors.kt)\n",
      "\tat kr.bydelta.koala.kkma.Parser.analyze(proc.kt:201)\n",
      "\tat jdk.internal.reflect.GeneratedMethodAccessor33.invoke(Unknown Source)\n",
      "\tat java.base/jdk.internal.reflect.DelegatingMethodAccessorImpl.invoke(DelegatingMethodAccessorImpl.java:43)\n",
      "\tat java.base/java.lang.reflect.Method.invoke(Method.java:566)\n",
      "\tat py4j.reflection.MethodInvoker.invoke(MethodInvoker.java:244)\n",
      "\tat py4j.reflection.ReflectionEngine.invoke(ReflectionEngine.java:357)\n",
      "\tat py4j.Gateway.invoke(Gateway.java:282)\n",
      "\tat py4j.commands.AbstractCommand.invokeMethod(AbstractCommand.java:132)\n",
      "\tat py4j.commands.CallCommand.execute(CallCommand.java:79)\n",
      "\tat py4j.GatewayConnection.run(GatewayConnection.java:238)\n",
      "\tat java.base/java.lang.Thread.run(Thread.java:829)\n",
      "\n"
     ]
    },
    {
     "name": "stdout",
     "output_type": "stream",
     "text": [
      "error occured\n"
     ]
    },
    {
     "name": "stderr",
     "output_type": "stream",
     "text": [
      "[root] Java에서 처리하던 중에 문제가 발생했습니다. 문제가 계속된다면, Issue를 등록해주세요.\n",
      "Traceback (most recent call last):\n",
      "  File \"/usr/local/lib/python3.8/dist-packages/koalanlp/proc.py\", line 237, in analyze\n",
      "    result.append(Sentence.fromJava(self.__api.analyze(ref)))\n",
      "  File \"/usr/local/lib/python3.8/dist-packages/py4j/java_gateway.py\", line 1322, in __call__\n",
      "    return_value = get_return_value(\n",
      "  File \"/usr/local/lib/python3.8/dist-packages/py4j/protocol.py\", line 326, in get_return_value\n",
      "    raise Py4JJavaError(\n",
      "py4j.protocol.Py4JJavaError: An error occurred while calling o210.analyze.\n",
      ": java.lang.IllegalStateException: There are more than two properties belong to the same key: DEP_GOVERNOR\n",
      "\tat kr.bydelta.koala.data.CanHaveProperty.setProperty$koalanlp_core(data.kt:116)\n",
      "\tat kr.bydelta.koala.data.DepEdge.<init>(data.kt:680)\n",
      "\tat kr.bydelta.koala.kkma.Parser.attachProperty(proc.kt:283)\n",
      "\tat kr.bydelta.koala.kkma.Parser.attachProperty(proc.kt:201)\n",
      "\tat kr.bydelta.koala.proc.CanAnalyzeProperty$DefaultImpls.analyze(processors.kt:636)\n",
      "\tat kr.bydelta.koala.proc.CanParseDependency$DefaultImpls.analyze(processors.kt)\n",
      "\tat kr.bydelta.koala.kkma.Parser.analyze(proc.kt:201)\n",
      "\tat jdk.internal.reflect.GeneratedMethodAccessor33.invoke(Unknown Source)\n",
      "\tat java.base/jdk.internal.reflect.DelegatingMethodAccessorImpl.invoke(DelegatingMethodAccessorImpl.java:43)\n",
      "\tat java.base/java.lang.reflect.Method.invoke(Method.java:566)\n",
      "\tat py4j.reflection.MethodInvoker.invoke(MethodInvoker.java:244)\n",
      "\tat py4j.reflection.ReflectionEngine.invoke(ReflectionEngine.java:357)\n",
      "\tat py4j.Gateway.invoke(Gateway.java:282)\n",
      "\tat py4j.commands.AbstractCommand.invokeMethod(AbstractCommand.java:132)\n",
      "\tat py4j.commands.CallCommand.execute(CallCommand.java:79)\n",
      "\tat py4j.GatewayConnection.run(GatewayConnection.java:238)\n",
      "\tat java.base/java.lang.Thread.run(Thread.java:829)\n",
      "\n"
     ]
    },
    {
     "name": "stdout",
     "output_type": "stream",
     "text": [
      "error occured\n",
      "\n",
      "26th batch succeed\n",
      "27th process start\n"
     ]
    },
    {
     "data": {
      "application/vnd.jupyter.widget-view+json": {
       "model_id": "a10823f885cd4df39085927860f19dbc",
       "version_major": 2,
       "version_minor": 0
      },
      "text/plain": [
       "HBox(children=(FloatProgress(value=0.0, max=9411.0), HTML(value='')))"
      ]
     },
     "metadata": {},
     "output_type": "display_data"
    },
    {
     "name": "stderr",
     "output_type": "stream",
     "text": [
      "[root] Java에서 처리하던 중에 문제가 발생했습니다. 문제가 계속된다면, Issue를 등록해주세요.\n",
      "Traceback (most recent call last):\n",
      "  File \"/usr/local/lib/python3.8/dist-packages/koalanlp/proc.py\", line 237, in analyze\n",
      "    result.append(Sentence.fromJava(self.__api.analyze(ref)))\n",
      "  File \"/usr/local/lib/python3.8/dist-packages/py4j/java_gateway.py\", line 1322, in __call__\n",
      "    return_value = get_return_value(\n",
      "  File \"/usr/local/lib/python3.8/dist-packages/py4j/protocol.py\", line 326, in get_return_value\n",
      "    raise Py4JJavaError(\n",
      "py4j.protocol.Py4JJavaError: An error occurred while calling o210.analyze.\n",
      ": java.lang.IllegalStateException: There are more than two properties belong to the same key: DEP_GOVERNOR\n",
      "\tat kr.bydelta.koala.data.CanHaveProperty.setProperty$koalanlp_core(data.kt:116)\n",
      "\tat kr.bydelta.koala.data.DepEdge.<init>(data.kt:680)\n",
      "\tat kr.bydelta.koala.kkma.Parser.attachProperty(proc.kt:283)\n",
      "\tat kr.bydelta.koala.kkma.Parser.attachProperty(proc.kt:201)\n",
      "\tat kr.bydelta.koala.proc.CanAnalyzeProperty$DefaultImpls.analyze(processors.kt:636)\n",
      "\tat kr.bydelta.koala.proc.CanParseDependency$DefaultImpls.analyze(processors.kt)\n",
      "\tat kr.bydelta.koala.kkma.Parser.analyze(proc.kt:201)\n",
      "\tat jdk.internal.reflect.GeneratedMethodAccessor33.invoke(Unknown Source)\n",
      "\tat java.base/jdk.internal.reflect.DelegatingMethodAccessorImpl.invoke(DelegatingMethodAccessorImpl.java:43)\n",
      "\tat java.base/java.lang.reflect.Method.invoke(Method.java:566)\n",
      "\tat py4j.reflection.MethodInvoker.invoke(MethodInvoker.java:244)\n",
      "\tat py4j.reflection.ReflectionEngine.invoke(ReflectionEngine.java:357)\n",
      "\tat py4j.Gateway.invoke(Gateway.java:282)\n",
      "\tat py4j.commands.AbstractCommand.invokeMethod(AbstractCommand.java:132)\n",
      "\tat py4j.commands.CallCommand.execute(CallCommand.java:79)\n",
      "\tat py4j.GatewayConnection.run(GatewayConnection.java:238)\n",
      "\tat java.base/java.lang.Thread.run(Thread.java:829)\n",
      "\n"
     ]
    },
    {
     "name": "stdout",
     "output_type": "stream",
     "text": [
      "error occured\n"
     ]
    },
    {
     "name": "stderr",
     "output_type": "stream",
     "text": [
      "[root] Java에서 처리하던 중에 문제가 발생했습니다. 문제가 계속된다면, Issue를 등록해주세요.\n",
      "Traceback (most recent call last):\n",
      "  File \"/usr/local/lib/python3.8/dist-packages/koalanlp/proc.py\", line 237, in analyze\n",
      "    result.append(Sentence.fromJava(self.__api.analyze(ref)))\n",
      "  File \"/usr/local/lib/python3.8/dist-packages/py4j/java_gateway.py\", line 1322, in __call__\n",
      "    return_value = get_return_value(\n",
      "  File \"/usr/local/lib/python3.8/dist-packages/py4j/protocol.py\", line 326, in get_return_value\n",
      "    raise Py4JJavaError(\n",
      "py4j.protocol.Py4JJavaError: An error occurred while calling o210.analyze.\n",
      ": java.lang.IllegalStateException: There are more than two properties belong to the same key: DEP_GOVERNOR\n",
      "\tat kr.bydelta.koala.data.CanHaveProperty.setProperty$koalanlp_core(data.kt:116)\n",
      "\tat kr.bydelta.koala.data.DepEdge.<init>(data.kt:680)\n",
      "\tat kr.bydelta.koala.kkma.Parser.attachProperty(proc.kt:283)\n",
      "\tat kr.bydelta.koala.kkma.Parser.attachProperty(proc.kt:201)\n",
      "\tat kr.bydelta.koala.proc.CanAnalyzeProperty$DefaultImpls.analyze(processors.kt:636)\n",
      "\tat kr.bydelta.koala.proc.CanParseDependency$DefaultImpls.analyze(processors.kt)\n",
      "\tat kr.bydelta.koala.kkma.Parser.analyze(proc.kt:201)\n",
      "\tat jdk.internal.reflect.GeneratedMethodAccessor33.invoke(Unknown Source)\n",
      "\tat java.base/jdk.internal.reflect.DelegatingMethodAccessorImpl.invoke(DelegatingMethodAccessorImpl.java:43)\n",
      "\tat java.base/java.lang.reflect.Method.invoke(Method.java:566)\n",
      "\tat py4j.reflection.MethodInvoker.invoke(MethodInvoker.java:244)\n",
      "\tat py4j.reflection.ReflectionEngine.invoke(ReflectionEngine.java:357)\n",
      "\tat py4j.Gateway.invoke(Gateway.java:282)\n",
      "\tat py4j.commands.AbstractCommand.invokeMethod(AbstractCommand.java:132)\n",
      "\tat py4j.commands.CallCommand.execute(CallCommand.java:79)\n",
      "\tat py4j.GatewayConnection.run(GatewayConnection.java:238)\n",
      "\tat java.base/java.lang.Thread.run(Thread.java:829)\n",
      "\n"
     ]
    },
    {
     "name": "stdout",
     "output_type": "stream",
     "text": [
      "error occured\n",
      "\n",
      "27th batch succeed\n"
     ]
    }
   ],
   "source": [
    "batch_size = 10000\n",
    "for i in range(17, (len(review_df) // batch_size)+1):\n",
    "    print(\"{}th process start\".format(i))\n",
    "    if i == (len(review_df) // batch_size):\n",
    "        review_df.loc[batch_size*i:, \"candiate_ids\"] = review_df.loc[batch_size*i:, \"review_text\"].progress_apply(lambda x :get_aspects(x, noun_block_dict, aspect_block_dict,\n",
    "                                                                                                                           key_tags, mecab_tagger, kkma_parser))\n",
    "        \n",
    "    else:\n",
    "        review_df.loc[batch_size*i:batch_size*(i+1), \"candiate_ids\"] = review_df.loc[batch_size*i:batch_size*(i+1), \"review_text\"].progress_apply(lambda x :get_aspects(x, noun_block_dict, aspect_block_dict,\n",
    "                                                                                                                           key_tags, mecab_tagger, kkma_parser))\n",
    "    review_df.to_csv(\"main_dictionary.csv\", index=False)\n",
    "    with open('noun_dictionary.pkl', 'wb') as f:\n",
    "        pickle.dump(noun_block_dict, f)\n",
    "\n",
    "    with open('aspect_dictionary.pkl', 'wb') as f:\n",
    "        pickle.dump(aspect_block_dict, f)\n",
    "    \n",
    "    print(\"{}th batch succeed\".format(i))"
   ]
  },
  {
   "cell_type": "code",
   "execution_count": 34,
   "metadata": {},
   "outputs": [
    {
     "name": "stdout",
     "output_type": "stream",
     "text": [
      "noun_block_dict length : 16190\n",
      "aspect_block_dict length : 7252\n"
     ]
    }
   ],
   "source": [
    "print(\"noun_block_dict length :\", len(noun_block_dict))\n",
    "print(\"aspect_block_dict length :\", len(aspect_block_dict))"
   ]
  },
  {
   "cell_type": "code",
   "execution_count": 35,
   "metadata": {},
   "outputs": [],
   "source": [
    "# Load saved noun_block_dict, aspect_block_dict\n",
    "# noun_block_dict : 12000 at 170000 iterations / 16190 \n",
    "# aspect_block_dict :5000 at 170000 iterations / 7252\n",
    "with open('noun_dictionary.pkl', 'rb') as f:\n",
    "    noun_block_dict = pickle.load(f)\n",
    "    \n",
    "with open('aspect_dictionary.pkl', 'rb') as f:\n",
    "    aspect_block_dict = pickle.load(f)"
   ]
  },
  {
   "cell_type": "code",
   "execution_count": 19,
   "metadata": {},
   "outputs": [
    {
     "name": "stderr",
     "output_type": "stream",
     "text": [
      "/usr/lib/python3/dist-packages/IPython/core/interactiveshell.py:3062: DtypeWarning: Columns (3) have mixed types.Specify dtype option on import or set low_memory=False.\n",
      "  has_raised = await self.run_ast_nodes(code_ast.body, cell_name,\n"
     ]
    },
    {
     "data": {
      "text/plain": [
       "169990                                          {'맛있': [1]}\n",
       "169991                           {'선물': [0, 4], '패키지': [2]}\n",
       "169992          {'사람': [2], '반응': [3], '기대': [9], '좋': [5]}\n",
       "169993                    {'쇼핑': [2], '쇼핑백': [2], '없': [4]}\n",
       "169994    {'휴가': [1], '후': [2], '직원': [3], '선물': [4], '구...\n",
       "169995                                          {'선물': [0]}\n",
       "169996                                {'목': [1], '넘기': [2]}\n",
       "169997            {'맛': [1], '포장': [3], '있': [2], '좋': [9]}\n",
       "169998          {'사용': [2], '기': [3], '선물': [4], '만족': [7]}\n",
       "169999                                          {'만족': [1]}\n",
       "170000    {'술': [0], '유자': [7], '향': [8], '얼': [11], '얼음...\n",
       "170001                                                  NaN\n",
       "170002                                                  NaN\n",
       "170003                                                  NaN\n",
       "170004                                                  NaN\n",
       "170005                                                  NaN\n",
       "170006                                                  NaN\n",
       "170007                                                  NaN\n",
       "170008                                                  NaN\n",
       "170009                                                  NaN\n",
       "170010                                                  NaN\n",
       "Name: candiate_ids, dtype: object"
      ]
     },
     "execution_count": 19,
     "metadata": {},
     "output_type": "execute_result"
    }
   ],
   "source": [
    "# Load saved dataframe\n",
    "review_df = pd.read_csv(\"main_dictionary.csv\")"
   ]
  },
  {
   "cell_type": "code",
   "execution_count": 65,
   "metadata": {},
   "outputs": [
    {
     "data": {
      "text/plain": [
       "['맛',\n",
       " '선물',\n",
       " '막걸리',\n",
       " '배송',\n",
       " '사용',\n",
       " '구매',\n",
       " '포장',\n",
       " '넘기',\n",
       " '탄산',\n",
       " '최고',\n",
       " '와인',\n",
       " '다음',\n",
       " '친구',\n",
       " '생각',\n",
       " '느낌',\n",
       " '가격',\n",
       " '부모',\n",
       " '지인',\n",
       " '가족',\n",
       " '단맛',\n",
       " '제품',\n",
       " '이번',\n",
       " '사람',\n",
       " '마시',\n",
       " '소주',\n",
       " '주문',\n",
       " '명절',\n",
       " '정도',\n",
       " '처음',\n",
       " '입맛',\n",
       " '박스',\n",
       " '복분자',\n",
       " '상품',\n",
       " '도수',\n",
       " '개인',\n",
       " '수도',\n",
       " '만족',\n",
       " '아버지',\n",
       " '마음',\n",
       " '예정',\n",
       " '기분',\n",
       " '복분',\n",
       " '기대',\n",
       " '상태',\n",
       " '추천',\n",
       " '숙취',\n",
       " '고급',\n",
       " '추석',\n",
       " '전통주',\n",
       " '어른',\n",
       " '마트',\n",
       " '남편',\n",
       " '알코올',\n",
       " '아빠',\n",
       " '택배',\n",
       " '전통',\n",
       " '예전',\n",
       " '스파클',\n",
       " '술맛',\n",
       " '음식',\n",
       " '시간',\n",
       " '패키지',\n",
       " '인터넷',\n",
       " '리뷰',\n",
       " '마을',\n",
       " '후기',\n",
       " '일반',\n",
       " '사진',\n",
       " '신맛',\n",
       " '안주',\n",
       " '취향',\n",
       " '신랑',\n",
       " '엄마',\n",
       " '냉장고',\n",
       " '여자',\n",
       " '맛있',\n",
       " '특유',\n",
       " '샴페인',\n",
       " '디자인',\n",
       " '안동소주',\n",
       " '모임',\n",
       " '이상',\n",
       " '얼음',\n",
       " '강추',\n",
       " '소곡주',\n",
       " '유자',\n",
       " '음료',\n",
       " '냄새',\n",
       " '호불호',\n",
       " '주변',\n",
       " '맥주',\n",
       " '시중',\n",
       " '복수',\n",
       " '어르신',\n",
       " '부드럽',\n",
       " '덕분',\n",
       " '하루',\n",
       " '탁주',\n",
       " '안동',\n",
       " '부담']"
      ]
     },
     "execution_count": 65,
     "metadata": {},
     "output_type": "execute_result"
    }
   ],
   "source": [
    "temp = dict(filter(lambda elem:len(elem[0])>1 or elem[0]==\"맛\", noun_block_dict.items()))\n",
    "list(dict(sorted(temp.items(), key=lambda item: item[1], reverse=True)).keys())[:100]"
   ]
  },
  {
   "cell_type": "code",
   "execution_count": 62,
   "metadata": {},
   "outputs": [
    {
     "data": {
      "text/plain": [
       "['맛',\n",
       " '선물',\n",
       " '막걸리',\n",
       " '배송',\n",
       " '사용',\n",
       " '구매',\n",
       " '포장',\n",
       " '넘기',\n",
       " '탄산',\n",
       " '최고',\n",
       " '와인',\n",
       " '다음',\n",
       " '친구',\n",
       " '생각',\n",
       " '느낌',\n",
       " '가격',\n",
       " '부모',\n",
       " '지인',\n",
       " '가족',\n",
       " '단맛',\n",
       " '제품',\n",
       " '이번',\n",
       " '사람',\n",
       " '마시',\n",
       " '소주',\n",
       " '주문',\n",
       " '명절',\n",
       " '정도',\n",
       " '처음',\n",
       " '입맛',\n",
       " '박스',\n",
       " '복분자',\n",
       " '상품',\n",
       " '도수',\n",
       " '개인',\n",
       " '수도',\n",
       " '만족',\n",
       " '아버지',\n",
       " '마음',\n",
       " '예정',\n",
       " '기분',\n",
       " '복분',\n",
       " '기대',\n",
       " '상태',\n",
       " '추천',\n",
       " '숙취',\n",
       " '고급',\n",
       " '추석',\n",
       " '전통주',\n",
       " '어른',\n",
       " '마트',\n",
       " '남편',\n",
       " '알코올',\n",
       " '아빠',\n",
       " '택배',\n",
       " '전통',\n",
       " '예전',\n",
       " '스파클',\n",
       " '술맛',\n",
       " '음식',\n",
       " '시간',\n",
       " '패키지',\n",
       " '인터넷',\n",
       " '리뷰',\n",
       " '마을',\n",
       " '후기',\n",
       " '일반',\n",
       " '사진',\n",
       " '신맛',\n",
       " '안주',\n",
       " '취향',\n",
       " '신랑',\n",
       " '엄마',\n",
       " '냉장고',\n",
       " '여자',\n",
       " '맛있',\n",
       " '특유',\n",
       " '샴페인',\n",
       " '디자인',\n",
       " '안동소주',\n",
       " '모임',\n",
       " '이상',\n",
       " '얼음',\n",
       " '강추',\n",
       " '소곡주',\n",
       " '유자',\n",
       " '음료',\n",
       " '냄새',\n",
       " '호불호',\n",
       " '주변',\n",
       " '맥주',\n",
       " '시중',\n",
       " '복수',\n",
       " '어르신',\n",
       " '부드럽',\n",
       " '덕분',\n",
       " '하루',\n",
       " '탁주',\n",
       " '안동',\n",
       " '부담']"
      ]
     },
     "execution_count": 62,
     "metadata": {},
     "output_type": "execute_result"
    }
   ],
   "source": [
    "temp2 = dict(filter(lambda elem:len(elem[0])>1 or elem[0]==\"맛\", aspect_block_dict.items()))\n",
    "list(dict(sorted(temp.items(), key=lambda item: item[1], reverse=True)).keys())[:100]"
   ]
  },
  {
   "cell_type": "code",
   "execution_count": null,
   "metadata": {},
   "outputs": [],
   "source": [
    "# 사용이 끝나면 아래와 같이 사용을 종료합니다.\n",
    "finalize()"
   ]
  },
  {
   "cell_type": "markdown",
   "metadata": {},
   "source": [
    "# 전처리 데이터 저장"
   ]
  },
  {
   "cell_type": "code",
   "execution_count": null,
   "metadata": {},
   "outputs": [],
   "source": [
    "# Save preprocessed data\n",
    "review.to_csv(\"review_cleaned.csv\", index=False)"
   ]
  },
  {
   "cell_type": "code",
   "execution_count": null,
   "metadata": {},
   "outputs": [],
   "source": [
    "# 저장된 csv 불러오가\n",
    "review = pd.read_csv(\"review_cleaned.csv\")\n",
    "# 리스트로 element 저장시 사용해야함\n",
    "# review[\"review_text\"] = review[\"review_text\"].apply(lambda x : literal_eval(x))\n",
    "review = review.dropna().reset_index(drop=True)\n",
    "review"
   ]
  },
  {
   "cell_type": "code",
   "execution_count": null,
   "metadata": {},
   "outputs": [],
   "source": []
  }
 ],
 "metadata": {
  "kernelspec": {
   "display_name": "Python 3",
   "language": "python",
   "name": "python3"
  },
  "language_info": {
   "codemirror_mode": {
    "name": "ipython",
    "version": 3
   },
   "file_extension": ".py",
   "mimetype": "text/x-python",
   "name": "python",
   "nbconvert_exporter": "python",
   "pygments_lexer": "ipython3",
   "version": "3.8.10"
  }
 },
 "nbformat": 4,
 "nbformat_minor": 4
}
