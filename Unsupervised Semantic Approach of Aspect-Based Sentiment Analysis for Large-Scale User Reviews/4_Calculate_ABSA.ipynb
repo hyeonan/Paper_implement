{
 "cells": [
  {
   "cell_type": "code",
   "execution_count": 1,
   "metadata": {},
   "outputs": [],
   "source": [
    "import pandas as pd\n",
    "import numpy as np\n",
    "import matplotlib.pyplot as plt\n",
    "import seaborn as sns\n",
    "import time\n",
    "from tqdm.notebook import tqdm\n",
    "from ast import literal_eval\n",
    "import os\n",
    "import sys\n",
    "import pickle\n",
    "import json\n",
    "\n",
    "tqdm.pandas()"
   ]
  },
  {
   "cell_type": "markdown",
   "metadata": {},
   "source": [
    "# Load data"
   ]
  },
  {
   "cell_type": "code",
   "execution_count": 2,
   "metadata": {},
   "outputs": [],
   "source": [
    "# Load saved dataframe\n",
    "review_df = pd.read_csv(\"main_dictionary.csv\")\n",
    "\n",
    "# Load saved aspect_list, main_aspect_list, core_term_list\n",
    "with open('aspect_list_MLM.json', 'r', encoding='UTF-8-sig') as f:\n",
    "    aspect_list = json.load(f)\n",
    "    \n",
    "with open('main_aspect_list_MLM.json', 'r', encoding='UTF-8-sig') as f:\n",
    "    main_aspect_list = json.load(f)\n",
    "\n",
    "with open('core_term_list_MLM.json', 'r', encoding='UTF-8-sig') as f:\n",
    "    core_term_list = json.load(f)\n",
    "\n",
    "# Load Sentiment Lexicon\n",
    "with open('score_dict_nor.pkl', 'rb') as f:\n",
    "    score_dict = pickle.load(f)"
   ]
  },
  {
   "cell_type": "markdown",
   "metadata": {},
   "source": [
    "# Get row with aspects"
   ]
  },
  {
   "cell_type": "code",
   "execution_count": 3,
   "metadata": {},
   "outputs": [
    {
     "data": {
      "application/vnd.jupyter.widget-view+json": {
       "model_id": "c6d6ed2652c943bfb9db60fc8415b3e2",
       "version_major": 2,
       "version_minor": 0
      },
      "text/plain": [
       "HBox(children=(FloatProgress(value=0.0, max=268922.0), HTML(value='')))"
      ]
     },
     "metadata": {},
     "output_type": "display_data"
    },
    {
     "name": "stdout",
     "output_type": "stream",
     "text": [
      "\n"
     ]
    }
   ],
   "source": [
    "remove_index = review_df[(review_df[\"candiate_ids\"] == \"error\") | ( review_df[\"candiate_ids\"] == \"{}\")].index\n",
    "review_df = review_df.drop(remove_index, axis=0).reset_index(drop=True)\n",
    "review_df[\"candiate_ids\"] = review_df[\"candiate_ids\"].progress_apply(lambda x : literal_eval(x))"
   ]
  },
  {
   "cell_type": "code",
   "execution_count": 4,
   "metadata": {},
   "outputs": [],
   "source": [
    "def contain_aspect(candidate_dict):\n",
    "    word_list = list(candidate_dict.keys())\n",
    "    for word in word_list:\n",
    "        if word in aspect_list:\n",
    "            return True\n",
    "    return False"
   ]
  },
  {
   "cell_type": "code",
   "execution_count": 5,
   "metadata": {},
   "outputs": [
    {
     "data": {
      "application/vnd.jupyter.widget-view+json": {
       "model_id": "1701928223da4d4fa911f39852a45a4c",
       "version_major": 2,
       "version_minor": 0
      },
      "text/plain": [
       "HBox(children=(FloatProgress(value=0.0, max=268922.0), HTML(value='')))"
      ]
     },
     "metadata": {},
     "output_type": "display_data"
    },
    {
     "name": "stdout",
     "output_type": "stream",
     "text": [
      "\n"
     ]
    }
   ],
   "source": [
    "# Leave data that have aspect in their sentence\n",
    "review_df[\"has_aspect\"] = review_df[\"candiate_ids\"].progress_apply(lambda x : contain_aspect(x))\n",
    "review_with_aspect = review_df[review_df[\"has_aspect\"]].copy().reset_index(drop=True).drop([\"has_aspect\"], axis=1)\n",
    "# Add columns of aspect list\n",
    "review_with_aspect[aspect_list] = 0"
   ]
  },
  {
   "cell_type": "code",
   "execution_count": 6,
   "metadata": {},
   "outputs": [
    {
     "name": "stdout",
     "output_type": "stream",
     "text": [
      "proportion of rating 1 : 0.43%\n",
      "proportion of rating 2 : 0.57%\n",
      "proportion of rating 3 : 3.31%\n",
      "proportion of rating 4 : 11.19%\n",
      "proportion of rating 5 : 84.50%\n"
     ]
    }
   ],
   "source": [
    "for i in range(1,6):\n",
    "    print(\"proportion of rating {} : {:.2f}%\".format(i, (review_with_aspect[\"rating\"]==i).sum()/len(review_with_aspect)*100))"
   ]
  },
  {
   "cell_type": "markdown",
   "metadata": {},
   "source": [
    "# Calculate Sent Score"
   ]
  },
  {
   "cell_type": "code",
   "execution_count": 7,
   "metadata": {},
   "outputs": [
    {
     "name": "stderr",
     "output_type": "stream",
     "text": [
      "[koalanlp.jip] [INFO] Latest version of kr.bydelta:koalanlp-eunjeon (2.1.6) will be used.\n",
      "[koalanlp.jip] [INFO] Latest version of kr.bydelta:koalanlp-kmr (2.1.4) will be used.\n",
      "[koalanlp.jip] [INFO] Latest version of kr.bydelta:koalanlp-kkma (2.1.4) will be used.\n",
      "[koalanlp.jip] [INFO] Latest version of kr.bydelta:koalanlp-hnn (2.1.4) will be used.\n",
      "[root] Java gateway started with port number 42415\n",
      "[root] Callback server will use port number 25334\n",
      "[koalanlp.jip] JVM initialization procedure is completed.\n"
     ]
    }
   ],
   "source": [
    "from koalanlp.Util import initialize, finalize\n",
    "\n",
    "# 꼬꼬마와 ETRI 분석기의 2.0.4 버전을 참조합니다.\n",
    "initialize(java_options=\"-Xmx4g\", EUNJEON=\"latest\", KMR=\"latest\", KKMA=\"latest\", HNN=\"latest\")"
   ]
  },
  {
   "cell_type": "code",
   "execution_count": 8,
   "metadata": {},
   "outputs": [],
   "source": [
    "from koalanlp import API\n",
    "from koalanlp.proc import Parser\n",
    "from koalanlp.proc import Tagger\n",
    "from koalanlp.types import PhraseTag"
   ]
  },
  {
   "cell_type": "code",
   "execution_count": 9,
   "metadata": {},
   "outputs": [],
   "source": [
    "mecab_tagger = Tagger(API.EUNJEON)\n",
    "kkma_parser = Parser(API.KKMA)"
   ]
  },
  {
   "cell_type": "code",
   "execution_count": 10,
   "metadata": {},
   "outputs": [],
   "source": [
    "def cal_aspect_score(df):\n",
    "    sentence = df[\"review_text\"]\n",
    "    cands = df[\"candiate_ids\"]\n",
    "    tagged_review = mecab_tagger(sentence)\n",
    "    parsed_review = kkma_parser(tagged_review)\n",
    "    for word in cands.keys():\n",
    "        word_score = 0\n",
    "        if word in aspect_list:\n",
    "            id_list = cands[word]\n",
    "            for id in id_list:\n",
    "                cur_aspect = parsed_review[0][id]\n",
    "                dependents = cur_aspect.getDependentEdges()\n",
    "                governor = cur_aspect.getGovernorEdge()\n",
    "                if dependents != []:\n",
    "                    for dependent in dependents:\n",
    "                        sent_words = dependent.dependent.morphemes\n",
    "                        for sent_word in sent_words:\n",
    "                            cur_word = sent_word.surface + \"/\" + sent_word.tag\n",
    "                            if cur_word in score_dict.keys():\n",
    "                                word_score += score_dict[cur_word]\n",
    "                if governor.governor != None:\n",
    "                    sent_words = governor.governor.morphemes\n",
    "                    for sent_word in sent_words:\n",
    "                        cur_word = sent_word.surface + \"/\" + sent_word.tag\n",
    "                        if cur_word in score_dict.keys():\n",
    "                            word_score += score_dict[cur_word]\n",
    "            review_with_aspect.loc[df.name, word] = word_score"
   ]
  },
  {
   "cell_type": "code",
   "execution_count": 11,
   "metadata": {},
   "outputs": [
    {
     "data": {
      "application/vnd.jupyter.widget-view+json": {
       "model_id": "4b4ee4ca5e714ef58635ba1248362611",
       "version_major": 2,
       "version_minor": 0
      },
      "text/plain": [
       "HBox(children=(FloatProgress(value=0.0, max=177063.0), HTML(value='')))"
      ]
     },
     "metadata": {},
     "output_type": "display_data"
    },
    {
     "name": "stdout",
     "output_type": "stream",
     "text": [
      "\n"
     ]
    },
    {
     "data": {
      "text/plain": [
       "0         None\n",
       "1         None\n",
       "2         None\n",
       "3         None\n",
       "4         None\n",
       "          ... \n",
       "177058    None\n",
       "177059    None\n",
       "177060    None\n",
       "177061    None\n",
       "177062    None\n",
       "Length: 177063, dtype: object"
      ]
     },
     "execution_count": 11,
     "metadata": {},
     "output_type": "execute_result"
    }
   ],
   "source": [
    "review_with_aspect.progress_apply(lambda x: cal_aspect_score(x), axis=1)"
   ]
  },
  {
   "cell_type": "code",
   "execution_count": null,
   "metadata": {},
   "outputs": [],
   "source": [
    "finalize()"
   ]
  },
  {
   "cell_type": "code",
   "execution_count": 17,
   "metadata": {},
   "outputs": [],
   "source": [
    "review_with_aspect.to_csv(\"review_with_aspect_nor.csv\", index=False)"
   ]
  },
  {
   "cell_type": "code",
   "execution_count": 18,
   "metadata": {},
   "outputs": [
    {
     "data": {
      "text/html": [
       "<div>\n",
       "<style scoped>\n",
       "    .dataframe tbody tr th:only-of-type {\n",
       "        vertical-align: middle;\n",
       "    }\n",
       "\n",
       "    .dataframe tbody tr th {\n",
       "        vertical-align: top;\n",
       "    }\n",
       "\n",
       "    .dataframe thead th {\n",
       "        text-align: right;\n",
       "    }\n",
       "</style>\n",
       "<table border=\"1\" class=\"dataframe\">\n",
       "  <thead>\n",
       "    <tr style=\"text-align: right;\">\n",
       "      <th></th>\n",
       "      <th>name</th>\n",
       "      <th>rating</th>\n",
       "      <th>review_text</th>\n",
       "      <th>candiate_ids</th>\n",
       "      <th>산미</th>\n",
       "      <th>음식</th>\n",
       "      <th>스파클</th>\n",
       "      <th>술맛</th>\n",
       "      <th>사과</th>\n",
       "      <th>알코올</th>\n",
       "      <th>...</th>\n",
       "      <th>금액</th>\n",
       "      <th>감칠맛</th>\n",
       "      <th>알스</th>\n",
       "      <th>탄산수</th>\n",
       "      <th>값어치</th>\n",
       "      <th>쓴맛</th>\n",
       "      <th>크리스마스</th>\n",
       "      <th>크리미</th>\n",
       "      <th>고급술</th>\n",
       "      <th>향도</th>\n",
       "    </tr>\n",
       "  </thead>\n",
       "  <tbody>\n",
       "    <tr>\n",
       "      <th>0</th>\n",
       "      <td>복순도가</td>\n",
       "      <td>5.0</td>\n",
       "      <td>한 달 사용기 부모님과 한잔하면서 좋은 시간 보냈어요 부모님 댁으로 바로 배송했더니...</td>\n",
       "      <td>{'사용': [2], '기': [3], '부모': [4, 9], '시간': [7],...</td>\n",
       "      <td>0.000000</td>\n",
       "      <td>1.865832</td>\n",
       "      <td>0.000000</td>\n",
       "      <td>0.0</td>\n",
       "      <td>0.0</td>\n",
       "      <td>0.000000</td>\n",
       "      <td>...</td>\n",
       "      <td>0.0</td>\n",
       "      <td>0.0</td>\n",
       "      <td>0.0</td>\n",
       "      <td>0.0</td>\n",
       "      <td>0.0</td>\n",
       "      <td>0.0</td>\n",
       "      <td>0.0</td>\n",
       "      <td>0.0</td>\n",
       "      <td>0.0</td>\n",
       "      <td>0.0</td>\n",
       "    </tr>\n",
       "    <tr>\n",
       "      <th>1</th>\n",
       "      <td>복순도가</td>\n",
       "      <td>5.0</td>\n",
       "      <td>막걸리 좋아하시는 어른께 명절 선물로 보내드렸습니다 명절에다 모여서 드시라고 3병 ...</td>\n",
       "      <td>{'막걸리': [0], '어른': [3], '명절': [4, 8], '선물': [5...</td>\n",
       "      <td>0.000000</td>\n",
       "      <td>0.000000</td>\n",
       "      <td>0.000000</td>\n",
       "      <td>0.0</td>\n",
       "      <td>0.0</td>\n",
       "      <td>0.000000</td>\n",
       "      <td>...</td>\n",
       "      <td>0.0</td>\n",
       "      <td>0.0</td>\n",
       "      <td>0.0</td>\n",
       "      <td>0.0</td>\n",
       "      <td>0.0</td>\n",
       "      <td>0.0</td>\n",
       "      <td>0.0</td>\n",
       "      <td>0.0</td>\n",
       "      <td>0.0</td>\n",
       "      <td>0.0</td>\n",
       "    </tr>\n",
       "    <tr>\n",
       "      <th>2</th>\n",
       "      <td>복순도가</td>\n",
       "      <td>5.0</td>\n",
       "      <td>할머니 댁에 하나 집에 하나 시켰어요 덕분에 이쁜 손녀 이쁜 딸 됐네요 ㅎㅎ 개인적...</td>\n",
       "      <td>{'할머니': [0], '댁': [1], '집': [3], '덕분': [6], '손...</td>\n",
       "      <td>0.000000</td>\n",
       "      <td>0.000000</td>\n",
       "      <td>0.000000</td>\n",
       "      <td>0.0</td>\n",
       "      <td>0.0</td>\n",
       "      <td>0.000000</td>\n",
       "      <td>...</td>\n",
       "      <td>0.0</td>\n",
       "      <td>0.0</td>\n",
       "      <td>0.0</td>\n",
       "      <td>0.0</td>\n",
       "      <td>0.0</td>\n",
       "      <td>0.0</td>\n",
       "      <td>0.0</td>\n",
       "      <td>0.0</td>\n",
       "      <td>0.0</td>\n",
       "      <td>0.0</td>\n",
       "    </tr>\n",
       "    <tr>\n",
       "      <th>3</th>\n",
       "      <td>복순도가</td>\n",
       "      <td>5.0</td>\n",
       "      <td>설날과 집안 행사를 핑계로 구매했습니다 병 딸 때 조심해야 하는 건 원래 알고 있어...</td>\n",
       "      <td>{'설': [0], '설날': [0], '집': [1], '집안': [1], '행사...</td>\n",
       "      <td>0.000000</td>\n",
       "      <td>0.000000</td>\n",
       "      <td>0.000000</td>\n",
       "      <td>0.0</td>\n",
       "      <td>0.0</td>\n",
       "      <td>0.000000</td>\n",
       "      <td>...</td>\n",
       "      <td>0.0</td>\n",
       "      <td>0.0</td>\n",
       "      <td>0.0</td>\n",
       "      <td>0.0</td>\n",
       "      <td>0.0</td>\n",
       "      <td>0.0</td>\n",
       "      <td>0.0</td>\n",
       "      <td>0.0</td>\n",
       "      <td>0.0</td>\n",
       "      <td>0.0</td>\n",
       "    </tr>\n",
       "    <tr>\n",
       "      <th>4</th>\n",
       "      <td>복순도가</td>\n",
       "      <td>5.0</td>\n",
       "      <td>제가 술은 따로 즐겨 먹진 않는데 이상하게 막걸리는 한두 잔 정도 마십니다 ㅎㅎ론 ...</td>\n",
       "      <td>{'술': [1], '막걸리': [7, 17, 28, 38, 83, 95, 98, ...</td>\n",
       "      <td>0.848502</td>\n",
       "      <td>0.000000</td>\n",
       "      <td>1.730931</td>\n",
       "      <td>0.0</td>\n",
       "      <td>0.0</td>\n",
       "      <td>1.686501</td>\n",
       "      <td>...</td>\n",
       "      <td>0.0</td>\n",
       "      <td>0.0</td>\n",
       "      <td>0.0</td>\n",
       "      <td>0.0</td>\n",
       "      <td>0.0</td>\n",
       "      <td>0.0</td>\n",
       "      <td>0.0</td>\n",
       "      <td>0.0</td>\n",
       "      <td>0.0</td>\n",
       "      <td>0.0</td>\n",
       "    </tr>\n",
       "    <tr>\n",
       "      <th>...</th>\n",
       "      <td>...</td>\n",
       "      <td>...</td>\n",
       "      <td>...</td>\n",
       "      <td>...</td>\n",
       "      <td>...</td>\n",
       "      <td>...</td>\n",
       "      <td>...</td>\n",
       "      <td>...</td>\n",
       "      <td>...</td>\n",
       "      <td>...</td>\n",
       "      <td>...</td>\n",
       "      <td>...</td>\n",
       "      <td>...</td>\n",
       "      <td>...</td>\n",
       "      <td>...</td>\n",
       "      <td>...</td>\n",
       "      <td>...</td>\n",
       "      <td>...</td>\n",
       "      <td>...</td>\n",
       "      <td>...</td>\n",
       "      <td>...</td>\n",
       "    </tr>\n",
       "    <tr>\n",
       "      <th>177058</th>\n",
       "      <td>맑은내일</td>\n",
       "      <td>5.0</td>\n",
       "      <td>이것도 맛이 조군요</td>\n",
       "      <td>{'맛': [1]}</td>\n",
       "      <td>0.000000</td>\n",
       "      <td>0.000000</td>\n",
       "      <td>0.000000</td>\n",
       "      <td>0.0</td>\n",
       "      <td>0.0</td>\n",
       "      <td>0.000000</td>\n",
       "      <td>...</td>\n",
       "      <td>0.0</td>\n",
       "      <td>0.0</td>\n",
       "      <td>0.0</td>\n",
       "      <td>0.0</td>\n",
       "      <td>0.0</td>\n",
       "      <td>0.0</td>\n",
       "      <td>0.0</td>\n",
       "      <td>0.0</td>\n",
       "      <td>0.0</td>\n",
       "      <td>0.0</td>\n",
       "    </tr>\n",
       "    <tr>\n",
       "      <th>177059</th>\n",
       "      <td>맑은내일</td>\n",
       "      <td>4.0</td>\n",
       "      <td>배송 빠르고 좋아요</td>\n",
       "      <td>{'배송': [0]}</td>\n",
       "      <td>0.000000</td>\n",
       "      <td>0.000000</td>\n",
       "      <td>0.000000</td>\n",
       "      <td>0.0</td>\n",
       "      <td>0.0</td>\n",
       "      <td>0.000000</td>\n",
       "      <td>...</td>\n",
       "      <td>0.0</td>\n",
       "      <td>0.0</td>\n",
       "      <td>0.0</td>\n",
       "      <td>0.0</td>\n",
       "      <td>0.0</td>\n",
       "      <td>0.0</td>\n",
       "      <td>0.0</td>\n",
       "      <td>0.0</td>\n",
       "      <td>0.0</td>\n",
       "      <td>0.0</td>\n",
       "    </tr>\n",
       "    <tr>\n",
       "      <th>177060</th>\n",
       "      <td>맑은내일</td>\n",
       "      <td>5.0</td>\n",
       "      <td>배송도 빨랐고 맛도 있어요</td>\n",
       "      <td>{'배송': [0], '맛': [2]}</td>\n",
       "      <td>0.000000</td>\n",
       "      <td>0.000000</td>\n",
       "      <td>0.000000</td>\n",
       "      <td>0.0</td>\n",
       "      <td>0.0</td>\n",
       "      <td>0.000000</td>\n",
       "      <td>...</td>\n",
       "      <td>0.0</td>\n",
       "      <td>0.0</td>\n",
       "      <td>0.0</td>\n",
       "      <td>0.0</td>\n",
       "      <td>0.0</td>\n",
       "      <td>0.0</td>\n",
       "      <td>0.0</td>\n",
       "      <td>0.0</td>\n",
       "      <td>0.0</td>\n",
       "      <td>0.0</td>\n",
       "    </tr>\n",
       "    <tr>\n",
       "      <th>177061</th>\n",
       "      <td>맑은내일</td>\n",
       "      <td>5.0</td>\n",
       "      <td>선물용으로 샀는데 만족합니다</td>\n",
       "      <td>{'선물': [0]}</td>\n",
       "      <td>0.000000</td>\n",
       "      <td>0.000000</td>\n",
       "      <td>0.000000</td>\n",
       "      <td>0.0</td>\n",
       "      <td>0.0</td>\n",
       "      <td>0.000000</td>\n",
       "      <td>...</td>\n",
       "      <td>0.0</td>\n",
       "      <td>0.0</td>\n",
       "      <td>0.0</td>\n",
       "      <td>0.0</td>\n",
       "      <td>0.0</td>\n",
       "      <td>0.0</td>\n",
       "      <td>0.0</td>\n",
       "      <td>0.0</td>\n",
       "      <td>0.0</td>\n",
       "      <td>0.0</td>\n",
       "    </tr>\n",
       "    <tr>\n",
       "      <th>177062</th>\n",
       "      <td>맑은내일</td>\n",
       "      <td>5.0</td>\n",
       "      <td>배송도 빠르고 포장도 꼼꼼하게 보내주셨습니다 감사합니다 많이 파셔요 ㅎㅎ장 정말 굳...</td>\n",
       "      <td>{'배송': [0], '포장': [2], '하': [4], '파': [9]}</td>\n",
       "      <td>0.000000</td>\n",
       "      <td>0.000000</td>\n",
       "      <td>0.000000</td>\n",
       "      <td>0.0</td>\n",
       "      <td>0.0</td>\n",
       "      <td>0.000000</td>\n",
       "      <td>...</td>\n",
       "      <td>0.0</td>\n",
       "      <td>0.0</td>\n",
       "      <td>0.0</td>\n",
       "      <td>0.0</td>\n",
       "      <td>0.0</td>\n",
       "      <td>0.0</td>\n",
       "      <td>0.0</td>\n",
       "      <td>0.0</td>\n",
       "      <td>0.0</td>\n",
       "      <td>0.0</td>\n",
       "    </tr>\n",
       "  </tbody>\n",
       "</table>\n",
       "<p>177063 rows × 64 columns</p>\n",
       "</div>"
      ],
      "text/plain": [
       "        name  rating                                        review_text  \\\n",
       "0       복순도가     5.0  한 달 사용기 부모님과 한잔하면서 좋은 시간 보냈어요 부모님 댁으로 바로 배송했더니...   \n",
       "1       복순도가     5.0  막걸리 좋아하시는 어른께 명절 선물로 보내드렸습니다 명절에다 모여서 드시라고 3병 ...   \n",
       "2       복순도가     5.0  할머니 댁에 하나 집에 하나 시켰어요 덕분에 이쁜 손녀 이쁜 딸 됐네요 ㅎㅎ 개인적...   \n",
       "3       복순도가     5.0  설날과 집안 행사를 핑계로 구매했습니다 병 딸 때 조심해야 하는 건 원래 알고 있어...   \n",
       "4       복순도가     5.0  제가 술은 따로 즐겨 먹진 않는데 이상하게 막걸리는 한두 잔 정도 마십니다 ㅎㅎ론 ...   \n",
       "...      ...     ...                                                ...   \n",
       "177058  맑은내일     5.0                                         이것도 맛이 조군요   \n",
       "177059  맑은내일     4.0                                         배송 빠르고 좋아요   \n",
       "177060  맑은내일     5.0                                     배송도 빨랐고 맛도 있어요   \n",
       "177061  맑은내일     5.0                                    선물용으로 샀는데 만족합니다   \n",
       "177062  맑은내일     5.0  배송도 빠르고 포장도 꼼꼼하게 보내주셨습니다 감사합니다 많이 파셔요 ㅎㅎ장 정말 굳...   \n",
       "\n",
       "                                             candiate_ids        산미        음식  \\\n",
       "0       {'사용': [2], '기': [3], '부모': [4, 9], '시간': [7],...  0.000000  1.865832   \n",
       "1       {'막걸리': [0], '어른': [3], '명절': [4, 8], '선물': [5...  0.000000  0.000000   \n",
       "2       {'할머니': [0], '댁': [1], '집': [3], '덕분': [6], '손...  0.000000  0.000000   \n",
       "3       {'설': [0], '설날': [0], '집': [1], '집안': [1], '행사...  0.000000  0.000000   \n",
       "4       {'술': [1], '막걸리': [7, 17, 28, 38, 83, 95, 98, ...  0.848502  0.000000   \n",
       "...                                                   ...       ...       ...   \n",
       "177058                                         {'맛': [1]}  0.000000  0.000000   \n",
       "177059                                        {'배송': [0]}  0.000000  0.000000   \n",
       "177060                              {'배송': [0], '맛': [2]}  0.000000  0.000000   \n",
       "177061                                        {'선물': [0]}  0.000000  0.000000   \n",
       "177062         {'배송': [0], '포장': [2], '하': [4], '파': [9]}  0.000000  0.000000   \n",
       "\n",
       "             스파클   술맛   사과       알코올  ...   금액  감칠맛   알스  탄산수  값어치   쓴맛  \\\n",
       "0       0.000000  0.0  0.0  0.000000  ...  0.0  0.0  0.0  0.0  0.0  0.0   \n",
       "1       0.000000  0.0  0.0  0.000000  ...  0.0  0.0  0.0  0.0  0.0  0.0   \n",
       "2       0.000000  0.0  0.0  0.000000  ...  0.0  0.0  0.0  0.0  0.0  0.0   \n",
       "3       0.000000  0.0  0.0  0.000000  ...  0.0  0.0  0.0  0.0  0.0  0.0   \n",
       "4       1.730931  0.0  0.0  1.686501  ...  0.0  0.0  0.0  0.0  0.0  0.0   \n",
       "...          ...  ...  ...       ...  ...  ...  ...  ...  ...  ...  ...   \n",
       "177058  0.000000  0.0  0.0  0.000000  ...  0.0  0.0  0.0  0.0  0.0  0.0   \n",
       "177059  0.000000  0.0  0.0  0.000000  ...  0.0  0.0  0.0  0.0  0.0  0.0   \n",
       "177060  0.000000  0.0  0.0  0.000000  ...  0.0  0.0  0.0  0.0  0.0  0.0   \n",
       "177061  0.000000  0.0  0.0  0.000000  ...  0.0  0.0  0.0  0.0  0.0  0.0   \n",
       "177062  0.000000  0.0  0.0  0.000000  ...  0.0  0.0  0.0  0.0  0.0  0.0   \n",
       "\n",
       "        크리스마스  크리미  고급술   향도  \n",
       "0         0.0  0.0  0.0  0.0  \n",
       "1         0.0  0.0  0.0  0.0  \n",
       "2         0.0  0.0  0.0  0.0  \n",
       "3         0.0  0.0  0.0  0.0  \n",
       "4         0.0  0.0  0.0  0.0  \n",
       "...       ...  ...  ...  ...  \n",
       "177058    0.0  0.0  0.0  0.0  \n",
       "177059    0.0  0.0  0.0  0.0  \n",
       "177060    0.0  0.0  0.0  0.0  \n",
       "177061    0.0  0.0  0.0  0.0  \n",
       "177062    0.0  0.0  0.0  0.0  \n",
       "\n",
       "[177063 rows x 64 columns]"
      ]
     },
     "execution_count": 18,
     "metadata": {},
     "output_type": "execute_result"
    }
   ],
   "source": [
    "review_with_aspect"
   ]
  },
  {
   "cell_type": "code",
   "execution_count": null,
   "metadata": {},
   "outputs": [],
   "source": []
  }
 ],
 "metadata": {
  "kernelspec": {
   "display_name": "Python 3",
   "language": "python",
   "name": "python3"
  },
  "language_info": {
   "codemirror_mode": {
    "name": "ipython",
    "version": 3
   },
   "file_extension": ".py",
   "mimetype": "text/x-python",
   "name": "python",
   "nbconvert_exporter": "python",
   "pygments_lexer": "ipython3",
   "version": "3.8.10"
  }
 },
 "nbformat": 4,
 "nbformat_minor": 4
}
